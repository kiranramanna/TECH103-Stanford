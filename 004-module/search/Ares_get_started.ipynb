{
  "nbformat": 4,
  "nbformat_minor": 0,
  "metadata": {
    "colab": {
      "provenance": []
    },
    "kernelspec": {
      "name": "python3",
      "display_name": "Python 3"
    },
    "language_info": {
      "name": "python"
    }
  },
  "cells": [
    {
      "cell_type": "markdown",
      "source": [
        "Setting boundaries for output"
      ],
      "metadata": {
        "id": "SfL201niMLe8"
      }
    },
    {
      "cell_type": "code",
      "source": [
        "from IPython.display import HTML, display\n",
        "\n",
        "def set_css():\n",
        "  display(HTML('''\n",
        "  <style>\n",
        "    pre {\n",
        "        white-space: pre-wrap;\n",
        "    }\n",
        "  </style>\n",
        "  '''))\n",
        "get_ipython().events.register('pre_run_cell', set_css)"
      ],
      "metadata": {
        "id": "WIN7glV9J2_e",
        "colab": {
          "base_uri": "https://localhost:8080/",
          "height": 17
        },
        "outputId": "cbc5ae89-d58f-4a97-89b2-25e6e9f95a73"
      },
      "execution_count": null,
      "outputs": [
        {
          "output_type": "display_data",
          "data": {
            "text/plain": [
              "<IPython.core.display.HTML object>"
            ],
            "text/html": [
              "\n",
              "  <style>\n",
              "    pre {\n",
              "        white-space: pre-wrap;\n",
              "    }\n",
              "  </style>\n",
              "  "
            ]
          },
          "metadata": {}
        }
      ]
    },
    {
      "cell_type": "markdown",
      "source": [
        "Get API key [here](https://api.traversaal.ai/)"
      ],
      "metadata": {
        "id": "An_pU7tCL1-C"
      }
    },
    {
      "cell_type": "code",
      "execution_count": null,
      "metadata": {
        "colab": {
          "base_uri": "https://localhost:8080/",
          "height": 17
        },
        "id": "IbuR9RUCJXTu",
        "outputId": "5039123b-8723-46a0-829a-d9539dafe653"
      },
      "outputs": [
        {
          "output_type": "display_data",
          "data": {
            "text/plain": [
              "<IPython.core.display.HTML object>"
            ],
            "text/html": [
              "\n",
              "  <style>\n",
              "    pre {\n",
              "        white-space: pre-wrap;\n",
              "    }\n",
              "  </style>\n",
              "  "
            ]
          },
          "metadata": {}
        }
      ],
      "source": [
        "import requests\n",
        "import json\n",
        "import os\n",
        "from google.colab import userdata\n",
        "\n",
        "url = \"https://api-ares.traversaal.ai/live/predict\"\n",
        "\n",
        "payload = { \"query\": [\"Who are the competitors of Glean?\"] }\n",
        "headers = {\n",
        "  \"x-api-key\": userdata.get('ARES_KEY'),\n",
        "  \"content-type\": \"application/json\"\n",
        "}\n",
        "\n",
        "response = requests.post(url, json=payload, headers=headers)"
      ]
    },
    {
      "cell_type": "code",
      "source": [
        "response"
      ],
      "metadata": {
        "colab": {
          "base_uri": "https://localhost:8080/",
          "height": 34
        },
        "id": "2mGVr7SsuE4n",
        "outputId": "46360948-4d3a-4116-9e86-748be4791107"
      },
      "execution_count": null,
      "outputs": [
        {
          "output_type": "display_data",
          "data": {
            "text/plain": [
              "<IPython.core.display.HTML object>"
            ],
            "text/html": [
              "\n",
              "  <style>\n",
              "    pre {\n",
              "        white-space: pre-wrap;\n",
              "    }\n",
              "  </style>\n",
              "  "
            ]
          },
          "metadata": {}
        },
        {
          "output_type": "execute_result",
          "data": {
            "text/plain": [
              "<Response [200]>"
            ]
          },
          "metadata": {},
          "execution_count": 4
        }
      ]
    },
    {
      "cell_type": "code",
      "source": [
        "response.json().get('data').get('response_text')"
      ],
      "metadata": {
        "colab": {
          "base_uri": "https://localhost:8080/",
          "height": 122
        },
        "id": "TPsEAewhJeem",
        "outputId": "1d6246e9-b462-4ea3-a7f4-4b537508fdac"
      },
      "execution_count": null,
      "outputs": [
        {
          "output_type": "display_data",
          "data": {
            "text/plain": [
              "<IPython.core.display.HTML object>"
            ],
            "text/html": [
              "\n",
              "  <style>\n",
              "    pre {\n",
              "        white-space: pre-wrap;\n",
              "    }\n",
              "  </style>\n",
              "  "
            ]
          },
          "metadata": {}
        },
        {
          "output_type": "display_data",
          "data": {
            "text/plain": [
              "<IPython.core.display.HTML object>"
            ],
            "text/html": [
              "\n",
              "  <style>\n",
              "    pre {\n",
              "        white-space: pre-wrap;\n",
              "    }\n",
              "  </style>\n",
              "  "
            ]
          },
          "metadata": {}
        },
        {
          "output_type": "execute_result",
          "data": {
            "text/plain": [
              "'Glean has several competitors in the enterprise search and knowledge management space. Here are some notable alternatives:\\n\\n1. **Qatalog** - A comprehensive platform for team collaboration and knowledge management.\\n2. **Microsoft Copilot** - An AI-powered tool integrated with Microsoft 365 applications to enhance productivity.\\n3. **Coveo** - A search and relevance platform that provides personalized search experiences.\\n4. **Sinequa** - An AI-powered search and analytics platform designed for large enterprises.\\n5. **Algolia** - A search-as-a-service platform that offers fast and relevant search experiences.\\n6. **Elastic** - Known for its Elasticsearch product, it provides powerful search capabilities for various applications.\\n7. **Guru** - A knowledge management tool that helps teams access information quickly.\\n8. **Lucidworks** - Offers AI-driven search solutions for enterprises.\\n9. **Pinecone** - A vector database that supports machine learning applications.\\n10. **GoLinks** - A tool that simplifies navigation and knowledge sharing within organizations.\\n11. **Docket AI** - Focuses on leveraging AI for knowledge management.\\n12. **GetGuru** - A knowledge management solution that integrates with various tools.\\n13. **Tribble** - A platform for managing and sharing knowledge within teams.\\n14. **Gong.io** - Provides insights from sales conversations to improve performance.\\n15. **Bloomfire** - A knowledge sharing platform that helps teams collaborate effectively.\\n16. **Emma** - A tool designed for managing enterprise knowledge.\\n17. **Conversica** - An AI-driven assistant for sales and marketing teams.\\n18. **Claude AI** - A conversational AI tool for various applications.\\n19. **Leena AI** - Focuses on enhancing employee experiences through AI.\\n20. **Outmind** - A search engine for business that helps teams find information quickly.\\n21. **Corpernic** - A search tool designed for enterprise environments.\\n22. **Curiosity** - A platform that enhances knowledge discovery within organizations.\\n\\nFor more detailed comparisons and insights, you can explore the following links:\\n- [Gartner Peer Insights](https://www.gartner.com/reviews/market/insight-engines/vendor/glean/product/glean/alternatives)\\n- [Qatalog Blog](https://qatalog.com/blog/post/glean-alternatives/)\\n- [G2](https://www.g2.com/products/glean-2022-05-27/competitors/alternatives)\\n- [Docket AI Blog](https://www.docketai.com/blog/glean-alternatives)\\n- [Unleash](https://www.unleash.so/post/glean-competitors-the-best-alternatives-for-ai-powered-enterprise-search)\\n- [Outmind](https://en.outmind.ai/blog/alternative-glean-competitor-similar)'"
            ],
            "application/vnd.google.colaboratory.intrinsic+json": {
              "type": "string"
            }
          },
          "metadata": {},
          "execution_count": 7
        }
      ]
    },
    {
      "cell_type": "code",
      "source": [
        "response.json().get('data').get('web_url')"
      ],
      "metadata": {
        "colab": {
          "base_uri": "https://localhost:8080/",
          "height": 196
        },
        "id": "vAKD8diwJjc2",
        "outputId": "e9409024-4f58-4987-a48a-1867d8fd231d"
      },
      "execution_count": null,
      "outputs": [
        {
          "output_type": "display_data",
          "data": {
            "text/plain": [
              "<IPython.core.display.HTML object>"
            ],
            "text/html": [
              "\n",
              "  <style>\n",
              "    pre {\n",
              "        white-space: pre-wrap;\n",
              "    }\n",
              "  </style>\n",
              "  "
            ]
          },
          "metadata": {}
        },
        {
          "output_type": "execute_result",
          "data": {
            "text/plain": [
              "['https://www.gartner.com/reviews/market/insight-engines/vendor/glean/product/glean/alternatives',\n",
              " 'https://www.g2.com/products/glean-2022-05-27/competitors/alternatives',\n",
              " 'https://qatalog.com/blog/post/glean-alternatives/',\n",
              " 'https://gosearch.ai/alternatives/glean',\n",
              " 'https://clickup.com/blog/glean-alternatives/',\n",
              " 'https://www.cbinsights.com/company/glean-2/alternatives-competitors',\n",
              " 'https://www.producthunt.com/products/glean2/alternatives',\n",
              " 'https://leena.ai/leenaAI-vs-Glean',\n",
              " 'https://6sense.com/tech/project-collaboration/glean-market-share',\n",
              " 'https://en.outmind.ai/blog/alternative-glean-competitor-similar']"
            ]
          },
          "metadata": {},
          "execution_count": 5
        }
      ]
    },
    {
      "cell_type": "code",
      "source": [],
      "metadata": {
        "id": "2os-V-UMLv3L"
      },
      "execution_count": null,
      "outputs": []
    }
  ]
}