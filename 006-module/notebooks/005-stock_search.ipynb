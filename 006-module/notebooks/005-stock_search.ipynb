{
 "cells": [
  {
   "cell_type": "code",
   "execution_count": 1,
   "id": "20d10b6a",
   "metadata": {},
   "outputs": [],
   "source": [
    "# Ensure src/ is in sys.path for imports\n",
    "import sys\n",
    "import os\n",
    "sys.path.insert(0, os.path.abspath('../src'))\n"
   ]
  },
  {
   "cell_type": "markdown",
   "id": "01e42b41",
   "metadata": {},
   "source": [
    "# Stock Market Search Engine Demo\n",
    "\n",
    "This notebook demonstrates four different stock market search engines:\n",
    "1. Generic Search Engine API\n",
    "2. DuckDuckGo Search\n",
    "3. Traversaal Search\n",
    "4. Local Qdrant Vector Search\n",
    "\n",
    "Each engine has its own strengths and use cases:\n",
    "- Generic Search: Broad web search with customizable parameters\n",
    "- DuckDuckGo: Privacy-focused search with real-time results\n",
    "- Traversaal: Specialized stock market search with rich metadata\n",
    "- Qdrant Local: Fast semantic search with local data"
   ]
  },
  {
   "cell_type": "code",
   "execution_count": 2,
   "id": "6ec28dda",
   "metadata": {},
   "outputs": [
    {
     "name": "stdout",
     "output_type": "stream",
     "text": [
      "Looking in indexes: https://pypi.org/simple, https://pypi.ngc.nvidia.com\n",
      "Requirement already satisfied: pandas>=1.5.0 in /Users/kiran.ramanna/anaconda3/envs/ais_ml1/lib/python3.12/site-packages (from -r ../requirements.txt (line 1)) (2.2.3)\n",
      "Requirement already satisfied: sentence-transformers>=2.2.0 in /Users/kiran.ramanna/anaconda3/envs/ais_ml1/lib/python3.12/site-packages (from -r ../requirements.txt (line 2)) (3.3.1)\n",
      "Requirement already satisfied: qdrant-client>=1.7.0 in /Users/kiran.ramanna/anaconda3/envs/ais_ml1/lib/python3.12/site-packages (from -r ../requirements.txt (line 3)) (1.14.2)\n",
      "Requirement already satisfied: duckduckgo-search>=3.9.0 in /Users/kiran.ramanna/anaconda3/envs/ais_ml1/lib/python3.12/site-packages (from -r ../requirements.txt (line 4)) (8.0.1)\n",
      "Requirement already satisfied: requests>=2.28.0 in /Users/kiran.ramanna/anaconda3/envs/ais_ml1/lib/python3.12/site-packages (from -r ../requirements.txt (line 5)) (2.32.3)\n",
      "Requirement already satisfied: python-dotenv>=0.19.0 in /Users/kiran.ramanna/anaconda3/envs/ais_ml1/lib/python3.12/site-packages (from -r ../requirements.txt (line 6)) (1.0.1)\n",
      "Requirement already satisfied: pydantic>=2.0.0 in /Users/kiran.ramanna/anaconda3/envs/ais_ml1/lib/python3.12/site-packages (from -r ../requirements.txt (line 7)) (2.10.2)\n",
      "Requirement already satisfied: tqdm>=4.65.0 in /Users/kiran.ramanna/anaconda3/envs/ais_ml1/lib/python3.12/site-packages (from -r ../requirements.txt (line 8)) (4.67.1)\n",
      "Requirement already satisfied: nbformat in /Users/kiran.ramanna/anaconda3/envs/ais_ml1/lib/python3.12/site-packages (from -r ../requirements.txt (line 9)) (5.10.4)\n",
      "Requirement already satisfied: gradio<5.0.0,>=4.44.1 in /Users/kiran.ramanna/anaconda3/envs/ais_ml1/lib/python3.12/site-packages (from -r ../requirements.txt (line 10)) (4.44.1)\n",
      "Requirement already satisfied: typer<0.13,>=0.9.0 in /Users/kiran.ramanna/anaconda3/envs/ais_ml1/lib/python3.12/site-packages (from -r ../requirements.txt (line 11)) (0.12.5)\n",
      "Requirement already satisfied: click<9.0.0,>=8.1.3 in /Users/kiran.ramanna/anaconda3/envs/ais_ml1/lib/python3.12/site-packages (from -r ../requirements.txt (line 12)) (8.1.8)\n",
      "Requirement already satisfied: rich>=13.0.0 in /Users/kiran.ramanna/anaconda3/envs/ais_ml1/lib/python3.12/site-packages (from -r ../requirements.txt (line 13)) (14.0.0)\n",
      "Requirement already satisfied: openai>=1.0.0 in /Users/kiran.ramanna/anaconda3/envs/ais_ml1/lib/python3.12/site-packages (from -r ../requirements.txt (line 14)) (1.76.2)\n",
      "Requirement already satisfied: fastapi>=0.111.0 in /Users/kiran.ramanna/anaconda3/envs/ais_ml1/lib/python3.12/site-packages (from -r ../requirements.txt (line 15)) (0.115.12)\n",
      "Requirement already satisfied: starlette>=0.37.2 in /Users/kiran.ramanna/anaconda3/envs/ais_ml1/lib/python3.12/site-packages (from -r ../requirements.txt (line 16)) (0.46.2)\n",
      "Requirement already satisfied: numpy>=1.26.0 in /Users/kiran.ramanna/anaconda3/envs/ais_ml1/lib/python3.12/site-packages (from pandas>=1.5.0->-r ../requirements.txt (line 1)) (1.26.4)\n",
      "Requirement already satisfied: python-dateutil>=2.8.2 in /Users/kiran.ramanna/anaconda3/envs/ais_ml1/lib/python3.12/site-packages (from pandas>=1.5.0->-r ../requirements.txt (line 1)) (2.9.0.post0)\n",
      "Requirement already satisfied: pytz>=2020.1 in /Users/kiran.ramanna/anaconda3/envs/ais_ml1/lib/python3.12/site-packages (from pandas>=1.5.0->-r ../requirements.txt (line 1)) (2024.2)\n",
      "Requirement already satisfied: tzdata>=2022.7 in /Users/kiran.ramanna/anaconda3/envs/ais_ml1/lib/python3.12/site-packages (from pandas>=1.5.0->-r ../requirements.txt (line 1)) (2024.2)\n",
      "Requirement already satisfied: transformers<5.0.0,>=4.41.0 in /Users/kiran.ramanna/anaconda3/envs/ais_ml1/lib/python3.12/site-packages (from sentence-transformers>=2.2.0->-r ../requirements.txt (line 2)) (4.46.3)\n",
      "Requirement already satisfied: torch>=1.11.0 in /Users/kiran.ramanna/anaconda3/envs/ais_ml1/lib/python3.12/site-packages (from sentence-transformers>=2.2.0->-r ../requirements.txt (line 2)) (2.5.1)\n",
      "Requirement already satisfied: scikit-learn in /Users/kiran.ramanna/anaconda3/envs/ais_ml1/lib/python3.12/site-packages (from sentence-transformers>=2.2.0->-r ../requirements.txt (line 2)) (1.5.2)\n",
      "Requirement already satisfied: scipy in /Users/kiran.ramanna/anaconda3/envs/ais_ml1/lib/python3.12/site-packages (from sentence-transformers>=2.2.0->-r ../requirements.txt (line 2)) (1.14.1)\n",
      "Requirement already satisfied: huggingface-hub>=0.20.0 in /Users/kiran.ramanna/anaconda3/envs/ais_ml1/lib/python3.12/site-packages (from sentence-transformers>=2.2.0->-r ../requirements.txt (line 2)) (0.30.2)\n",
      "Requirement already satisfied: Pillow in /Users/kiran.ramanna/anaconda3/envs/ais_ml1/lib/python3.12/site-packages (from sentence-transformers>=2.2.0->-r ../requirements.txt (line 2)) (10.4.0)\n",
      "Requirement already satisfied: grpcio>=1.41.0 in /Users/kiran.ramanna/anaconda3/envs/ais_ml1/lib/python3.12/site-packages (from qdrant-client>=1.7.0->-r ../requirements.txt (line 3)) (1.70.0)\n",
      "Requirement already satisfied: httpx>=0.20.0 in /Users/kiran.ramanna/anaconda3/envs/ais_ml1/lib/python3.12/site-packages (from httpx[http2]>=0.20.0->qdrant-client>=1.7.0->-r ../requirements.txt (line 3)) (0.27.2)\n",
      "Requirement already satisfied: portalocker<3.0.0,>=2.7.0 in /Users/kiran.ramanna/anaconda3/envs/ais_ml1/lib/python3.12/site-packages (from qdrant-client>=1.7.0->-r ../requirements.txt (line 3)) (2.10.1)\n",
      "Requirement already satisfied: protobuf>=3.20.0 in /Users/kiran.ramanna/anaconda3/envs/ais_ml1/lib/python3.12/site-packages (from qdrant-client>=1.7.0->-r ../requirements.txt (line 3)) (5.28.3)\n",
      "Requirement already satisfied: urllib3<3,>=1.26.14 in /Users/kiran.ramanna/anaconda3/envs/ais_ml1/lib/python3.12/site-packages (from qdrant-client>=1.7.0->-r ../requirements.txt (line 3)) (2.2.3)\n",
      "Requirement already satisfied: primp>=0.15.0 in /Users/kiran.ramanna/anaconda3/envs/ais_ml1/lib/python3.12/site-packages (from duckduckgo-search>=3.9.0->-r ../requirements.txt (line 4)) (0.15.0)\n",
      "Requirement already satisfied: lxml>=5.3.0 in /Users/kiran.ramanna/anaconda3/envs/ais_ml1/lib/python3.12/site-packages (from duckduckgo-search>=3.9.0->-r ../requirements.txt (line 4)) (5.4.0)\n",
      "Requirement already satisfied: charset-normalizer<4,>=2 in /Users/kiran.ramanna/anaconda3/envs/ais_ml1/lib/python3.12/site-packages (from requests>=2.28.0->-r ../requirements.txt (line 5)) (3.4.0)\n",
      "Requirement already satisfied: idna<4,>=2.5 in /Users/kiran.ramanna/anaconda3/envs/ais_ml1/lib/python3.12/site-packages (from requests>=2.28.0->-r ../requirements.txt (line 5)) (3.10)\n",
      "Requirement already satisfied: certifi>=2017.4.17 in /Users/kiran.ramanna/anaconda3/envs/ais_ml1/lib/python3.12/site-packages (from requests>=2.28.0->-r ../requirements.txt (line 5)) (2024.8.30)\n",
      "Requirement already satisfied: annotated-types>=0.6.0 in /Users/kiran.ramanna/anaconda3/envs/ais_ml1/lib/python3.12/site-packages (from pydantic>=2.0.0->-r ../requirements.txt (line 7)) (0.7.0)\n",
      "Requirement already satisfied: pydantic-core==2.27.1 in /Users/kiran.ramanna/anaconda3/envs/ais_ml1/lib/python3.12/site-packages (from pydantic>=2.0.0->-r ../requirements.txt (line 7)) (2.27.1)\n",
      "Requirement already satisfied: typing-extensions>=4.12.2 in /Users/kiran.ramanna/anaconda3/envs/ais_ml1/lib/python3.12/site-packages (from pydantic>=2.0.0->-r ../requirements.txt (line 7)) (4.13.2)\n",
      "Requirement already satisfied: fastjsonschema>=2.15 in /Users/kiran.ramanna/anaconda3/envs/ais_ml1/lib/python3.12/site-packages (from nbformat->-r ../requirements.txt (line 9)) (2.21.1)\n",
      "Requirement already satisfied: jsonschema>=2.6 in /Users/kiran.ramanna/anaconda3/envs/ais_ml1/lib/python3.12/site-packages (from nbformat->-r ../requirements.txt (line 9)) (4.23.0)\n",
      "Requirement already satisfied: jupyter-core!=5.0.*,>=4.12 in /Users/kiran.ramanna/anaconda3/envs/ais_ml1/lib/python3.12/site-packages (from nbformat->-r ../requirements.txt (line 9)) (5.7.2)\n",
      "Requirement already satisfied: traitlets>=5.1 in /Users/kiran.ramanna/anaconda3/envs/ais_ml1/lib/python3.12/site-packages (from nbformat->-r ../requirements.txt (line 9)) (5.14.3)\n",
      "Requirement already satisfied: aiofiles<24.0,>=22.0 in /Users/kiran.ramanna/anaconda3/envs/ais_ml1/lib/python3.12/site-packages (from gradio<5.0.0,>=4.44.1->-r ../requirements.txt (line 10)) (23.2.1)\n",
      "Requirement already satisfied: anyio<5.0,>=3.0 in /Users/kiran.ramanna/anaconda3/envs/ais_ml1/lib/python3.12/site-packages (from gradio<5.0.0,>=4.44.1->-r ../requirements.txt (line 10)) (4.6.2.post1)\n",
      "Requirement already satisfied: ffmpy in /Users/kiran.ramanna/anaconda3/envs/ais_ml1/lib/python3.12/site-packages (from gradio<5.0.0,>=4.44.1->-r ../requirements.txt (line 10)) (0.5.0)\n",
      "Requirement already satisfied: gradio-client==1.3.0 in /Users/kiran.ramanna/anaconda3/envs/ais_ml1/lib/python3.12/site-packages (from gradio<5.0.0,>=4.44.1->-r ../requirements.txt (line 10)) (1.3.0)\n",
      "Requirement already satisfied: importlib-resources<7.0,>=1.3 in /Users/kiran.ramanna/anaconda3/envs/ais_ml1/lib/python3.12/site-packages (from gradio<5.0.0,>=4.44.1->-r ../requirements.txt (line 10)) (6.5.2)\n",
      "Requirement already satisfied: jinja2<4.0 in /Users/kiran.ramanna/anaconda3/envs/ais_ml1/lib/python3.12/site-packages (from gradio<5.0.0,>=4.44.1->-r ../requirements.txt (line 10)) (3.1.4)\n",
      "Requirement already satisfied: markupsafe~=2.0 in /Users/kiran.ramanna/anaconda3/envs/ais_ml1/lib/python3.12/site-packages (from gradio<5.0.0,>=4.44.1->-r ../requirements.txt (line 10)) (2.1.5)\n",
      "Requirement already satisfied: matplotlib~=3.0 in /Users/kiran.ramanna/anaconda3/envs/ais_ml1/lib/python3.12/site-packages (from gradio<5.0.0,>=4.44.1->-r ../requirements.txt (line 10)) (3.10.0)\n",
      "Requirement already satisfied: orjson~=3.0 in /Users/kiran.ramanna/anaconda3/envs/ais_ml1/lib/python3.12/site-packages (from gradio<5.0.0,>=4.44.1->-r ../requirements.txt (line 10)) (3.10.12)\n",
      "Requirement already satisfied: packaging in /Users/kiran.ramanna/anaconda3/envs/ais_ml1/lib/python3.12/site-packages (from gradio<5.0.0,>=4.44.1->-r ../requirements.txt (line 10)) (24.2)\n",
      "Requirement already satisfied: pydub in /Users/kiran.ramanna/anaconda3/envs/ais_ml1/lib/python3.12/site-packages (from gradio<5.0.0,>=4.44.1->-r ../requirements.txt (line 10)) (0.25.1)\n",
      "Requirement already satisfied: python-multipart>=0.0.9 in /Users/kiran.ramanna/anaconda3/envs/ais_ml1/lib/python3.12/site-packages (from gradio<5.0.0,>=4.44.1->-r ../requirements.txt (line 10)) (0.0.20)\n",
      "Requirement already satisfied: pyyaml<7.0,>=5.0 in /Users/kiran.ramanna/anaconda3/envs/ais_ml1/lib/python3.12/site-packages (from gradio<5.0.0,>=4.44.1->-r ../requirements.txt (line 10)) (6.0.2)\n",
      "Requirement already satisfied: ruff>=0.2.2 in /Users/kiran.ramanna/anaconda3/envs/ais_ml1/lib/python3.12/site-packages (from gradio<5.0.0,>=4.44.1->-r ../requirements.txt (line 10)) (0.11.7)\n",
      "Requirement already satisfied: semantic-version~=2.0 in /Users/kiran.ramanna/anaconda3/envs/ais_ml1/lib/python3.12/site-packages (from gradio<5.0.0,>=4.44.1->-r ../requirements.txt (line 10)) (2.10.0)\n",
      "Requirement already satisfied: tomlkit==0.12.0 in /Users/kiran.ramanna/anaconda3/envs/ais_ml1/lib/python3.12/site-packages (from gradio<5.0.0,>=4.44.1->-r ../requirements.txt (line 10)) (0.12.0)\n",
      "Requirement already satisfied: uvicorn>=0.14.0 in /Users/kiran.ramanna/anaconda3/envs/ais_ml1/lib/python3.12/site-packages (from gradio<5.0.0,>=4.44.1->-r ../requirements.txt (line 10)) (0.34.2)\n",
      "Requirement already satisfied: fsspec in /Users/kiran.ramanna/anaconda3/envs/ais_ml1/lib/python3.12/site-packages (from gradio-client==1.3.0->gradio<5.0.0,>=4.44.1->-r ../requirements.txt (line 10)) (2024.9.0)\n",
      "Requirement already satisfied: websockets<13.0,>=10.0 in /Users/kiran.ramanna/anaconda3/envs/ais_ml1/lib/python3.12/site-packages (from gradio-client==1.3.0->gradio<5.0.0,>=4.44.1->-r ../requirements.txt (line 10)) (12.0)\n",
      "Requirement already satisfied: shellingham>=1.3.0 in /Users/kiran.ramanna/anaconda3/envs/ais_ml1/lib/python3.12/site-packages (from typer<0.13,>=0.9.0->-r ../requirements.txt (line 11)) (1.5.4)\n",
      "Requirement already satisfied: markdown-it-py>=2.2.0 in /Users/kiran.ramanna/anaconda3/envs/ais_ml1/lib/python3.12/site-packages (from rich>=13.0.0->-r ../requirements.txt (line 13)) (3.0.0)\n",
      "Requirement already satisfied: pygments<3.0.0,>=2.13.0 in /Users/kiran.ramanna/anaconda3/envs/ais_ml1/lib/python3.12/site-packages (from rich>=13.0.0->-r ../requirements.txt (line 13)) (2.19.1)\n",
      "Requirement already satisfied: distro<2,>=1.7.0 in /Users/kiran.ramanna/anaconda3/envs/ais_ml1/lib/python3.12/site-packages (from openai>=1.0.0->-r ../requirements.txt (line 14)) (1.9.0)\n",
      "Requirement already satisfied: jiter<1,>=0.4.0 in /Users/kiran.ramanna/anaconda3/envs/ais_ml1/lib/python3.12/site-packages (from openai>=1.0.0->-r ../requirements.txt (line 14)) (0.8.0)\n",
      "Requirement already satisfied: sniffio in /Users/kiran.ramanna/anaconda3/envs/ais_ml1/lib/python3.12/site-packages (from openai>=1.0.0->-r ../requirements.txt (line 14)) (1.3.1)\n",
      "Requirement already satisfied: httpcore==1.* in /Users/kiran.ramanna/anaconda3/envs/ais_ml1/lib/python3.12/site-packages (from httpx>=0.20.0->httpx[http2]>=0.20.0->qdrant-client>=1.7.0->-r ../requirements.txt (line 3)) (1.0.7)\n",
      "Requirement already satisfied: h11<0.15,>=0.13 in /Users/kiran.ramanna/anaconda3/envs/ais_ml1/lib/python3.12/site-packages (from httpcore==1.*->httpx>=0.20.0->httpx[http2]>=0.20.0->qdrant-client>=1.7.0->-r ../requirements.txt (line 3)) (0.14.0)\n",
      "Requirement already satisfied: h2<5,>=3 in /Users/kiran.ramanna/anaconda3/envs/ais_ml1/lib/python3.12/site-packages (from httpx[http2]>=0.20.0->qdrant-client>=1.7.0->-r ../requirements.txt (line 3)) (4.2.0)\n",
      "Requirement already satisfied: filelock in /Users/kiran.ramanna/anaconda3/envs/ais_ml1/lib/python3.12/site-packages (from huggingface-hub>=0.20.0->sentence-transformers>=2.2.0->-r ../requirements.txt (line 2)) (3.16.1)\n",
      "Requirement already satisfied: attrs>=22.2.0 in /Users/kiran.ramanna/anaconda3/envs/ais_ml1/lib/python3.12/site-packages (from jsonschema>=2.6->nbformat->-r ../requirements.txt (line 9)) (24.2.0)\n",
      "Requirement already satisfied: jsonschema-specifications>=2023.03.6 in /Users/kiran.ramanna/anaconda3/envs/ais_ml1/lib/python3.12/site-packages (from jsonschema>=2.6->nbformat->-r ../requirements.txt (line 9)) (2024.10.1)\n",
      "Requirement already satisfied: referencing>=0.28.4 in /Users/kiran.ramanna/anaconda3/envs/ais_ml1/lib/python3.12/site-packages (from jsonschema>=2.6->nbformat->-r ../requirements.txt (line 9)) (0.35.1)\n",
      "Requirement already satisfied: rpds-py>=0.7.1 in /Users/kiran.ramanna/anaconda3/envs/ais_ml1/lib/python3.12/site-packages (from jsonschema>=2.6->nbformat->-r ../requirements.txt (line 9)) (0.21.0)\n",
      "Requirement already satisfied: platformdirs>=2.5 in /Users/kiran.ramanna/anaconda3/envs/ais_ml1/lib/python3.12/site-packages (from jupyter-core!=5.0.*,>=4.12->nbformat->-r ../requirements.txt (line 9)) (4.3.7)\n",
      "Requirement already satisfied: mdurl~=0.1 in /Users/kiran.ramanna/anaconda3/envs/ais_ml1/lib/python3.12/site-packages (from markdown-it-py>=2.2.0->rich>=13.0.0->-r ../requirements.txt (line 13)) (0.1.2)\n",
      "Requirement already satisfied: contourpy>=1.0.1 in /Users/kiran.ramanna/anaconda3/envs/ais_ml1/lib/python3.12/site-packages (from matplotlib~=3.0->gradio<5.0.0,>=4.44.1->-r ../requirements.txt (line 10)) (1.3.1)\n",
      "Requirement already satisfied: cycler>=0.10 in /Users/kiran.ramanna/anaconda3/envs/ais_ml1/lib/python3.12/site-packages (from matplotlib~=3.0->gradio<5.0.0,>=4.44.1->-r ../requirements.txt (line 10)) (0.12.1)\n",
      "Requirement already satisfied: fonttools>=4.22.0 in /Users/kiran.ramanna/anaconda3/envs/ais_ml1/lib/python3.12/site-packages (from matplotlib~=3.0->gradio<5.0.0,>=4.44.1->-r ../requirements.txt (line 10)) (4.56.0)\n",
      "Requirement already satisfied: kiwisolver>=1.3.1 in /Users/kiran.ramanna/anaconda3/envs/ais_ml1/lib/python3.12/site-packages (from matplotlib~=3.0->gradio<5.0.0,>=4.44.1->-r ../requirements.txt (line 10)) (1.4.8)\n",
      "Requirement already satisfied: pyparsing>=2.3.1 in /Users/kiran.ramanna/anaconda3/envs/ais_ml1/lib/python3.12/site-packages (from matplotlib~=3.0->gradio<5.0.0,>=4.44.1->-r ../requirements.txt (line 10)) (3.2.1)\n",
      "Requirement already satisfied: six>=1.5 in /Users/kiran.ramanna/anaconda3/envs/ais_ml1/lib/python3.12/site-packages (from python-dateutil>=2.8.2->pandas>=1.5.0->-r ../requirements.txt (line 1)) (1.16.0)\n",
      "Requirement already satisfied: networkx in /Users/kiran.ramanna/anaconda3/envs/ais_ml1/lib/python3.12/site-packages (from torch>=1.11.0->sentence-transformers>=2.2.0->-r ../requirements.txt (line 2)) (3.4.2)\n",
      "Requirement already satisfied: setuptools in /Users/kiran.ramanna/anaconda3/envs/ais_ml1/lib/python3.12/site-packages (from torch>=1.11.0->sentence-transformers>=2.2.0->-r ../requirements.txt (line 2)) (75.6.0)\n",
      "Requirement already satisfied: sympy==1.13.1 in /Users/kiran.ramanna/anaconda3/envs/ais_ml1/lib/python3.12/site-packages (from torch>=1.11.0->sentence-transformers>=2.2.0->-r ../requirements.txt (line 2)) (1.13.1)\n",
      "Requirement already satisfied: mpmath<1.4,>=1.1.0 in /Users/kiran.ramanna/anaconda3/envs/ais_ml1/lib/python3.12/site-packages (from sympy==1.13.1->torch>=1.11.0->sentence-transformers>=2.2.0->-r ../requirements.txt (line 2)) (1.3.0)\n",
      "Requirement already satisfied: regex!=2019.12.17 in /Users/kiran.ramanna/anaconda3/envs/ais_ml1/lib/python3.12/site-packages (from transformers<5.0.0,>=4.41.0->sentence-transformers>=2.2.0->-r ../requirements.txt (line 2)) (2024.11.6)\n",
      "Requirement already satisfied: tokenizers<0.21,>=0.20 in /Users/kiran.ramanna/anaconda3/envs/ais_ml1/lib/python3.12/site-packages (from transformers<5.0.0,>=4.41.0->sentence-transformers>=2.2.0->-r ../requirements.txt (line 2)) (0.20.3)\n",
      "Requirement already satisfied: safetensors>=0.4.1 in /Users/kiran.ramanna/anaconda3/envs/ais_ml1/lib/python3.12/site-packages (from transformers<5.0.0,>=4.41.0->sentence-transformers>=2.2.0->-r ../requirements.txt (line 2)) (0.4.5)\n",
      "Requirement already satisfied: joblib>=1.2.0 in /Users/kiran.ramanna/anaconda3/envs/ais_ml1/lib/python3.12/site-packages (from scikit-learn->sentence-transformers>=2.2.0->-r ../requirements.txt (line 2)) (1.4.2)\n",
      "Requirement already satisfied: threadpoolctl>=3.1.0 in /Users/kiran.ramanna/anaconda3/envs/ais_ml1/lib/python3.12/site-packages (from scikit-learn->sentence-transformers>=2.2.0->-r ../requirements.txt (line 2)) (3.5.0)\n",
      "Requirement already satisfied: hyperframe<7,>=6.1 in /Users/kiran.ramanna/anaconda3/envs/ais_ml1/lib/python3.12/site-packages (from h2<5,>=3->httpx[http2]>=0.20.0->qdrant-client>=1.7.0->-r ../requirements.txt (line 3)) (6.1.0)\n",
      "Requirement already satisfied: hpack<5,>=4.1 in /Users/kiran.ramanna/anaconda3/envs/ais_ml1/lib/python3.12/site-packages (from h2<5,>=3->httpx[http2]>=0.20.0->qdrant-client>=1.7.0->-r ../requirements.txt (line 3)) (4.1.0)\n"
     ]
    }
   ],
   "source": [
    "# Install required packages\n",
    "!pip install -r ../requirements.txt"
   ]
  },
  {
   "cell_type": "code",
   "execution_count": 3,
   "id": "e15af292",
   "metadata": {},
   "outputs": [
    {
     "name": "stderr",
     "output_type": "stream",
     "text": [
      "/Users/kiran.ramanna/anaconda3/envs/ais_ml1/lib/python3.12/site-packages/tqdm/auto.py:21: TqdmWarning: IProgress not found. Please update jupyter and ipywidgets. See https://ipywidgets.readthedocs.io/en/stable/user_install.html\n",
      "  from .autonotebook import tqdm as notebook_tqdm\n"
     ]
    }
   ],
   "source": [
    "import os\n",
    "import sys\n",
    "import importlib\n",
    "import pandas as pd\n",
    "from dotenv import load_dotenv\n",
    "from IPython.display import display, Markdown\n",
    "import json\n",
    "\n",
    "# Load environment variables\n",
    "load_dotenv()\n",
    "\n",
    "# Import base module first\n",
    "from search_engines import base\n",
    "importlib.reload(base)\n",
    "\n",
    "# Import and reload search engine modules\n",
    "import search_engines.generic as generic\n",
    "import search_engines.duckduckgo as duckduckgo\n",
    "import search_engines.traversaal as traversaal\n",
    "import search_engines.qdrant_local as qdrant_local\n",
    "import llm\n",
    "\n",
    "# Reload all modules in reverse dependency order\n",
    "importlib.reload(llm)\n",
    "importlib.reload(qdrant_local)\n",
    "importlib.reload(traversaal)\n",
    "importlib.reload(duckduckgo)\n",
    "importlib.reload(generic)\n",
    "\n",
    "# Import search engines after reload\n",
    "from search_engines.generic import GenericSearchEngine\n",
    "from search_engines.duckduckgo import DuckDuckGoSearchEngine\n",
    "from search_engines.traversaal import TraversaalSearchEngine\n",
    "from search_engines.qdrant_local import QdrantLocalSearchEngine\n",
    "from llm import OpenRouterLLM"
   ]
  },
  {
   "cell_type": "markdown",
   "id": "b21bc35a",
   "metadata": {},
   "source": [
    "## Initialize Search Engines and LLM\n",
    "\n",
    "Each search engine requires different initialization parameters:\n",
    "- Generic Search: Path to stock market data CSV\n",
    "- DuckDuckGo: No API key needed\n",
    "- Traversaal: API key\n",
    "- Qdrant Local: Path to stock market data CSV\n",
    "- OpenRouter LLM: API key for text generation"
   ]
  },
  {
   "cell_type": "code",
   "execution_count": 4,
   "id": "f7f1ce08",
   "metadata": {},
   "outputs": [
    {
     "name": "stdout",
     "output_type": "stream",
     "text": [
      "Loaded existing embeddings from storage\n",
      "✓ Generic Search Engine initialized\n",
      "✓ DuckDuckGo Search Engine initialized\n",
      "✓ Traversaal Search Engine initialized\n",
      "Using existing Qdrant collection\n",
      "✓ Qdrant Local Search Engine initialized\n",
      "✓ OpenRouter LLM initialized\n"
     ]
    }
   ],
   "source": [
    "# Initialize search engines\n",
    "engines = {}\n",
    "\n",
    "# Generic Search Engine\n",
    "try:\n",
    "    engines['generic'] = GenericSearchEngine(data_path=\"../data/2022_03_17_02_06_nasdaq.csv\")\n",
    "    print(\"✓ Generic Search Engine initialized\")\n",
    "except Exception as e:\n",
    "    print(f\"✗ Generic Search Engine failed: {str(e)}\")\n",
    "\n",
    "# DuckDuckGo Search Engine\n",
    "try:\n",
    "    engines['duckduckgo'] = DuckDuckGoSearchEngine()\n",
    "    print(\"✓ DuckDuckGo Search Engine initialized\")\n",
    "except Exception as e:\n",
    "    print(f\"✗ DuckDuckGo Search Engine failed: {str(e)}\")\n",
    "\n",
    "# Traversaal Search Engine\n",
    "try:\n",
    "    engines['traversaal'] = TraversaalSearchEngine()\n",
    "    print(\"✓ Traversaal Search Engine initialized\")\n",
    "except Exception as e:\n",
    "    print(f\"✗ Traversaal Search Engine failed: {str(e)}\")\n",
    "\n",
    "# Qdrant Local Search Engine\n",
    "try:\n",
    "    engines['qdrant'] = QdrantLocalSearchEngine(data_path=\"../data/2022_03_17_02_06_nasdaq.csv\")\n",
    "    print(\"✓ Qdrant Local Search Engine initialized\")\n",
    "except Exception as e:\n",
    "    print(f\"✗ Qdrant Local Search Engine failed: {str(e)}\")\n",
    "\n",
    "# Initialize OpenRouter LLM\n",
    "try:\n",
    "    llm_client = llm.OpenRouterLLM()\n",
    "    print(\"✓ OpenRouter LLM initialized\")\n",
    "except Exception as e:\n",
    "    print(f\"✗ OpenRouter LLM failed: {str(e)}\")\n"
   ]
  },
  {
   "cell_type": "markdown",
   "id": "ee2ecd34",
   "metadata": {},
   "source": [
    "## Search Function\n",
    "\n",
    "This function will run a search query across all initialized engines, display the raw results, and then show an LLM-processed summary of the results."
   ]
  },
  {
   "cell_type": "code",
   "execution_count": 5,
   "id": "8d418be0",
   "metadata": {},
   "outputs": [],
   "source": [
    "import numpy as np\n",
    "# Helper to convert numpy types to native Python types\n",
    "def convert_np(obj):\n",
    "    if isinstance(obj, dict):\n",
    "        return {k: convert_np(v) for k, v in obj.items()}\n",
    "    elif isinstance(obj, list):\n",
    "        return [convert_np(i) for i in obj]\n",
    "    elif isinstance(obj, np.generic):\n",
    "        return obj.item()\n",
    "    else:\n",
    "        return obj\n",
    "\n",
    "def search_stocks(query: str, top_k: int = 1):\n",
    "    \"\"\"Search for stocks using all available engines.\n",
    "    \n",
    "    Args:\n",
    "        query: Search query string\n",
    "        top_k: Number of results to return per engine\n",
    "    \"\"\"\n",
    "    results = {}\n",
    "    \n",
    "    # Run search on each engine\n",
    "    for name, engine in engines.items():\n",
    "        try:\n",
    "            results[name] = engine.search(query, top_k=top_k)\n",
    "        except Exception as e:\n",
    "            print(f\"Error with {name} engine: {str(e)}\")\n",
    "    \n",
    "    # Display results\n",
    "    for name, stocks in results.items():\n",
    "        display(Markdown(f\"### {name.upper()} Results\"))\n",
    "        \n",
    "        for i, stock in enumerate(stocks, 1):\n",
    "            display(Markdown(f\"#### {i}. {stock.title}\"))\n",
    "            display(Markdown(f\"**Score:** {stock.score:.2f}\"))\n",
    "            display(Markdown(f\"**URL:** {stock.url}\"))\n",
    "            display(Markdown(f\"**Snippet:** {stock.snippet}\"))\n",
    "            \n",
    "            if stock.metadata:\n",
    "                display(Markdown(\"**Metadata:**\"))\n",
    "                for key, value in stock.metadata.items():\n",
    "                    if value:  # Only show non-empty values\n",
    "                        display(Markdown(f\"- {key}: {value}\"))\n",
    "            \n",
    "            # Display raw response if available\n",
    "            if stock.raw_response:\n",
    "                display(Markdown(\"**Raw Response:**\"))\n",
    "                from IPython.display import JSON\n",
    "                display(JSON(stock.raw_response))\n",
    "            \n",
    "            # Get LLM analysis for this stock\n",
    "            try:\n",
    "                context = {\n",
    "                    \"query\": query,\n",
    "                    \"engine\": name,\n",
    "                    \"stock\": {\n",
    "                        \"title\": stock.title,\n",
    "                        \"score\": stock.score,\n",
    "                        \"url\": stock.url,\n",
    "                        \"snippet\": stock.snippet,\n",
    "                        \"metadata\": stock.metadata,\n",
    "                        \"raw_response\": stock.raw_response\n",
    "                    }\n",
    "                }\n",
    "                \n",
    "                llm_response = llm_client.generate(\n",
    "                    prompt=\"Analyze these stock search results and provide insights about:\",\n",
    "                    context=convert_np(context)\n",
    "                )\n",
    "                \n",
    "                # Add a dotted line for clear demarcation before LLM analysis\n",
    "                display(Markdown('<hr style=\"border-top: 1px dotted #bbb;\">'))\n",
    "                # Underline the LLM Analysis heading\n",
    "                display(Markdown('<u>**LLM Analysis:**</u>'))\n",
    "                display(Markdown(llm_response))\n",
    "            except Exception as e:\n",
    "                display(Markdown(f\"*Error getting LLM analysis: {str(e)}*\"))\n",
    "            \n",
    "            display(Markdown(\"---\"))"
   ]
  },
  {
   "cell_type": "markdown",
   "id": "ff9c69f7",
   "metadata": {},
   "source": [
    "## Example Searches\n",
    "\n",
    "Let's try an example search to see how each engine performs and how the LLM analyzes the results."
   ]
  },
  {
   "cell_type": "code",
   "execution_count": 6,
   "id": "74d9bfc4",
   "metadata": {},
   "outputs": [],
   "source": [
    "# Search for high-growth technology stocks\n",
    "# search_stocks(\"Apple stock\")"
   ]
  },
  {
   "cell_type": "code",
   "execution_count": 7,
   "id": "71fd68ca",
   "metadata": {},
   "outputs": [
    {
     "name": "stdout",
     "output_type": "stream",
     "text": [
      "Running on local URL:  http://127.0.0.1:7860\n",
      "\n",
      "To create a public link, set `share=True` in `launch()`.\n"
     ]
    },
    {
     "data": {
      "text/html": [
       "<div><iframe src=\"http://127.0.0.1:7860/\" width=\"100%\" height=\"500\" allow=\"autoplay; camera; microphone; clipboard-read; clipboard-write;\" frameborder=\"0\" allowfullscreen></iframe></div>"
      ],
      "text/plain": [
       "<IPython.core.display.HTML object>"
      ]
     },
     "metadata": {},
     "output_type": "display_data"
    },
    {
     "name": "stderr",
     "output_type": "stream",
     "text": [
      "2025-05-20 23:11:53 - \u001b[92mINFO\u001b[0m - [GenericSearchEngine] search took 4.23 seconds\n",
      "2025-05-20 23:11:54 - \u001b[92mINFO\u001b[0m - [QdrantLocalSearchEngine] search took 0.24 seconds\n",
      "2025-05-20 23:11:57 - \u001b[91mERROR\u001b[0m - Error in search: DuckDuckGo search failed: https://html.duckduckgo.com/html 202 Ratelimit\n",
      "2025-05-20 23:12:05 - \u001b[92mINFO\u001b[0m - [TraversaalSearchEngine] search took 8.43 seconds\n",
      "2025-05-20 23:12:13 - \u001b[92mINFO\u001b[0m - [TraversaalSearchEngine] search took 7.54 seconds\n",
      "2025-05-20 23:12:18 - \u001b[92mINFO\u001b[0m - [TraversaalSearchEngine] search took 5.37 seconds\n",
      "2025-05-20 23:12:23 - \u001b[92mINFO\u001b[0m - [TraversaalSearchEngine] search took 4.89 seconds\n",
      "2025-05-20 23:12:23 - \u001b[92mINFO\u001b[0m - [GenericSearchEngine] search took 0.58 seconds\n",
      "2025-05-20 23:13:27 - \u001b[92mINFO\u001b[0m - [GenericSearchEngine] search took 0.43 seconds\n",
      "2025-05-20 23:13:27 - \u001b[92mINFO\u001b[0m - [QdrantLocalSearchEngine] search took 0.10 seconds\n",
      "2025-05-20 23:13:29 - \u001b[92mINFO\u001b[0m - [DuckDuckGoSearchEngine] search took 1.54 seconds\n",
      "2025-05-20 23:13:38 - \u001b[92mINFO\u001b[0m - [TraversaalSearchEngine] search took 9.81 seconds\n",
      "2025-05-20 23:13:48 - \u001b[92mINFO\u001b[0m - [TraversaalSearchEngine] search took 10.04 seconds\n",
      "2025-05-20 23:13:54 - \u001b[92mINFO\u001b[0m - [TraversaalSearchEngine] search took 5.12 seconds\n",
      "2025-05-20 23:13:59 - \u001b[92mINFO\u001b[0m - [TraversaalSearchEngine] search took 5.33 seconds\n",
      "2025-05-20 23:13:59 - \u001b[92mINFO\u001b[0m - [GenericSearchEngine] search took 0.51 seconds\n",
      "2025-05-21 19:53:08 - \u001b[92mINFO\u001b[0m - [GenericSearchEngine] search took 1.26 seconds\n",
      "2025-05-21 19:53:09 - \u001b[92mINFO\u001b[0m - [QdrantLocalSearchEngine] search took 0.30 seconds\n",
      "2025-05-21 19:53:10 - \u001b[92mINFO\u001b[0m - [DuckDuckGoSearchEngine] search took 1.45 seconds\n",
      "2025-05-21 19:53:19 - \u001b[92mINFO\u001b[0m - [TraversaalSearchEngine] search took 8.59 seconds\n",
      "2025-05-21 19:53:26 - \u001b[92mINFO\u001b[0m - [TraversaalSearchEngine] search took 7.19 seconds\n",
      "2025-05-21 19:53:32 - \u001b[92mINFO\u001b[0m - [TraversaalSearchEngine] search took 6.24 seconds\n",
      "2025-05-21 19:53:36 - \u001b[92mINFO\u001b[0m - [TraversaalSearchEngine] search took 4.07 seconds\n",
      "2025-05-21 19:53:37 - \u001b[92mINFO\u001b[0m - [GenericSearchEngine] search took 0.51 seconds\n"
     ]
    }
   ],
   "source": [
    "import importlib\n",
    "import gradio_app\n",
    "importlib.reload(gradio_app)\n",
    "from gradio_app import launch_gradio_app\n",
    "launch_gradio_app(engines, llm_client)"
   ]
  },
  {
   "cell_type": "markdown",
   "id": "b6055095",
   "metadata": {},
   "source": []
  },
  {
   "cell_type": "code",
   "execution_count": null,
   "id": "75e4612f",
   "metadata": {},
   "outputs": [],
   "source": []
  }
 ],
 "metadata": {
  "authors": [
   {
    "name": "Your Name or Team"
   }
  ],
  "created": "2025-05-19T01:13:51.501396",
  "description": "A demo notebook for comparing multiple stock market search engines and LLM-based analysis.",
  "kernelspec": {
   "display_name": "Python 3",
   "language": "python",
   "name": "python3"
  },
  "language_info": {
   "codemirror_mode": {
    "name": "ipython",
    "version": 3
   },
   "file_extension": ".py",
   "mimetype": "text/x-python",
   "name": "python",
   "nbconvert_exporter": "python",
   "pygments_lexer": "ipython3",
   "version": "3.12.9"
  },
  "title": "Stock Market Search Engine Demo"
 },
 "nbformat": 4,
 "nbformat_minor": 5
}
