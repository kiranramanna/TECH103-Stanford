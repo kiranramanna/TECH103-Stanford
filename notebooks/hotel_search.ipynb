{
 "cells": [
  {
   "cell_type": "markdown",
   "id": "2e540423",
   "metadata": {},
   "source": [
    "# Miami Hotel Search Engine Demo\n",
    "\n",
    "This notebook demonstrates the semantic search functionality for finding Miami hotels based on natural language queries, enhanced with real-time internet search results."
   ]
  },
  {
   "cell_type": "code",
   "execution_count": 33,
   "id": "7710ae4b",
   "metadata": {},
   "outputs": [
    {
     "name": "stderr",
     "output_type": "stream",
     "text": [
      "huggingface/tokenizers: The current process just got forked, after parallelism has already been used. Disabling parallelism to avoid deadlocks...\n",
      "To disable this warning, you can either:\n",
      "\t- Avoid using `tokenizers` before the fork if possible\n",
      "\t- Explicitly set the environment variable TOKENIZERS_PARALLELISM=(true | false)\n"
     ]
    }
   ],
   "source": [
    "# Import required libraries\n",
    "import sys\n",
    "sys.path.append('../src')\n",
    "import importlib\n",
    "import search\n",
    "importlib.reload(search)  # Reload the module to get latest changes\n",
    "from search import HotelSearchEngine\n",
    "import pandas as pd\n",
    "from IPython.display import display, Markdown\n",
    "\n",
    "# Install and import DuckDuckGo search\n",
    "!pip install -q duckduckgo-search\n",
    "from duckduckgo_search import DDGS"
   ]
  },
  {
   "cell_type": "markdown",
   "id": "07c8f2c7",
   "metadata": {},
   "source": [
    "## Initialize the Search Engine\n",
    "\n",
    "First, let's create an instance of our search engine and load the hotel data."
   ]
  },
  {
   "cell_type": "code",
   "execution_count": 34,
   "id": "3ed2f907",
   "metadata": {},
   "outputs": [
    {
     "name": "stdout",
     "output_type": "stream",
     "text": [
      "Available columns in CSV: ['id', 'type', 'name', 'image', 'awards', 'rankingPosition', 'priceLevel', 'priceRange', 'category', 'rating', 'hotelClass', 'hotelClassAttribution', 'phone', 'address', 'email', 'amenities', 'numberOfRooms', 'prices', 'latitude', 'longitude', 'webUrl', 'website', 'rankingString', 'rankingDenominator', 'numberOfReviews', 'review', 'title']\n",
      "Total number of hotels: 2511\n",
      "\n",
      "Available columns in the dataset:\n",
      "['id', 'type', 'name', 'image', 'awards', 'rankingPosition', 'priceLevel', 'priceRange', 'category', 'rating', 'hotelClass', 'hotelClassAttribution', 'phone', 'address', 'email', 'amenities', 'numberOfRooms', 'prices', 'latitude', 'longitude', 'webUrl', 'website', 'rankingString', 'rankingDenominator', 'numberOfReviews', 'review', 'title']\n",
      "\n",
      "Sample of available hotels:\n"
     ]
    },
    {
     "data": {
      "text/html": [
       "<div>\n",
       "<style scoped>\n",
       "    .dataframe tbody tr th:only-of-type {\n",
       "        vertical-align: middle;\n",
       "    }\n",
       "\n",
       "    .dataframe tbody tr th {\n",
       "        vertical-align: top;\n",
       "    }\n",
       "\n",
       "    .dataframe thead th {\n",
       "        text-align: right;\n",
       "    }\n",
       "</style>\n",
       "<table border=\"1\" class=\"dataframe\">\n",
       "  <thead>\n",
       "    <tr style=\"text-align: right;\">\n",
       "      <th></th>\n",
       "      <th>name</th>\n",
       "      <th>type</th>\n",
       "      <th>rating</th>\n",
       "      <th>priceRange</th>\n",
       "      <th>category</th>\n",
       "    </tr>\n",
       "  </thead>\n",
       "  <tbody>\n",
       "    <tr>\n",
       "      <th>0</th>\n",
       "      <td>Faena Miami Beach</td>\n",
       "      <td>HOTEL</td>\n",
       "      <td>4.5</td>\n",
       "      <td>$729 - $1,426</td>\n",
       "      <td>hotel</td>\n",
       "    </tr>\n",
       "    <tr>\n",
       "      <th>1</th>\n",
       "      <td>Faena Miami Beach</td>\n",
       "      <td>HOTEL</td>\n",
       "      <td>4.5</td>\n",
       "      <td>$729 - $1,426</td>\n",
       "      <td>hotel</td>\n",
       "    </tr>\n",
       "    <tr>\n",
       "      <th>2</th>\n",
       "      <td>Faena Miami Beach</td>\n",
       "      <td>HOTEL</td>\n",
       "      <td>4.5</td>\n",
       "      <td>$729 - $1,426</td>\n",
       "      <td>hotel</td>\n",
       "    </tr>\n",
       "    <tr>\n",
       "      <th>3</th>\n",
       "      <td>Faena Miami Beach</td>\n",
       "      <td>HOTEL</td>\n",
       "      <td>4.5</td>\n",
       "      <td>$729 - $1,426</td>\n",
       "      <td>hotel</td>\n",
       "    </tr>\n",
       "    <tr>\n",
       "      <th>4</th>\n",
       "      <td>Faena Miami Beach</td>\n",
       "      <td>HOTEL</td>\n",
       "      <td>4.5</td>\n",
       "      <td>$729 - $1,426</td>\n",
       "      <td>hotel</td>\n",
       "    </tr>\n",
       "  </tbody>\n",
       "</table>\n",
       "</div>"
      ],
      "text/plain": [
       "                name   type  rating     priceRange category\n",
       "0  Faena Miami Beach  HOTEL     4.5  $729 - $1,426    hotel\n",
       "1  Faena Miami Beach  HOTEL     4.5  $729 - $1,426    hotel\n",
       "2  Faena Miami Beach  HOTEL     4.5  $729 - $1,426    hotel\n",
       "3  Faena Miami Beach  HOTEL     4.5  $729 - $1,426    hotel\n",
       "4  Faena Miami Beach  HOTEL     4.5  $729 - $1,426    hotel"
      ]
     },
     "metadata": {},
     "output_type": "display_data"
    }
   ],
   "source": [
    "# Initialize the search engine\n",
    "search_engine = HotelSearchEngine('../data/miami_hotels.csv')\n",
    "\n",
    "# Display basic statistics about our dataset\n",
    "print(f\"Total number of hotels: {len(search_engine.hotels_df)}\\n\")\n",
    "print(\"Available columns in the dataset:\")\n",
    "print(search_engine.hotels_df.columns.tolist())\n",
    "print(\"\\nSample of available hotels:\")\n",
    "display(search_engine.hotels_df[['name', 'type', 'rating', 'priceRange', 'category']].head())"
   ]
  },
  {
   "cell_type": "markdown",
   "id": "ef121735",
   "metadata": {},
   "source": [
    "## Search Results with Internet Information"
   ]
  },
  {
   "cell_type": "code",
   "execution_count": 35,
   "id": "8608840d",
   "metadata": {},
   "outputs": [
    {
     "name": "stderr",
     "output_type": "stream",
     "text": [
      "<>:7: SyntaxWarning: invalid escape sequence '\\|'\n",
      "<>:7: SyntaxWarning: invalid escape sequence '\\|'\n",
      "/var/folders/r9/t2slgqdd6cqcw5n37nm7n5w00000gp/T/ipykernel_59806/2281037899.py:7: SyntaxWarning: invalid escape sequence '\\|'\n",
      "  hotel_md += f\"| {k} | {str(v).replace('|', '\\|')} |\\n\"\n"
     ]
    }
   ],
   "source": [
    "def render_hotel_markdown(hotel, news, reviews):\n",
    "    \"\"\"Format hotel information and search results as markdown\"\"\"\n",
    "    # Hotel info as markdown table\n",
    "    hotel_md = \"### 🏨 Hotel Data\\n\\n\"\n",
    "    hotel_md += \"| Field | Value |\\n|---|---|\\n\"\n",
    "    for k, v in hotel.items():\n",
    "        hotel_md += f\"| {k} | {str(v).replace('|', '\\|')} |\\n\"\n",
    "\n",
    "    # News section\n",
    "    news_md = \"\\n### 📰 News\\n\"\n",
    "    if news:\n",
    "        for n in news:\n",
    "            link = f\"[{n['title']}]({n.get('url', '')})\" if n.get('url') else n['title']\n",
    "            date = n.get('date', '')\n",
    "            body = n.get('body', '')\n",
    "            news_md += f\"- **{date}**: {link}\\n  \\n  {body}\\n\"\n",
    "    else:\n",
    "        news_md += \"_No news found._\\n\"\n",
    "\n",
    "    # Reviews/info section\n",
    "    reviews_md = \"\\n### 💬 Reviews / Info\\n\"\n",
    "    if reviews:\n",
    "        for r in reviews:\n",
    "            link = f\"[{r['title']}]({r.get('href', '')})\" if r.get('href') else r['title']\n",
    "            body = r.get('body', '')\n",
    "            reviews_md += f\"- {link}\\n  \\n  {body}\\n\"\n",
    "    else:\n",
    "        reviews_md += \"_No reviews/info found._\\n\"\n",
    "    \n",
    "    reviews_md += \"\\n---\\n\"  # Add separator between hotels\n",
    "    \n",
    "    display(Markdown(hotel_md + news_md + reviews_md))\n",
    "\n",
    "def search_hotels(query, top_k=3):\n",
    "    \"\"\"Search for hotels and get internet information\"\"\"\n",
    "    print(f\"🔍 Search Query: '{query}'\\n\")\n",
    "    \n",
    "    # Get local search results\n",
    "    results = search_engine.search(query, top_k=top_k)\n",
    "    if not results:\n",
    "        print(\"No results found.\")\n",
    "        return\n",
    "        \n",
    "    # Display results with internet information\n",
    "    for hotel in results:\n",
    "        with DDGS() as ddgs:\n",
    "            news = list(ddgs.news(\n",
    "                f'\"{hotel[\"name\"]}\" Miami hotel',\n",
    "                region='us-en',\n",
    "                max_results=2\n",
    "            ))\n",
    "            reviews = list(ddgs.text(\n",
    "                f'\"{hotel[\"name\"]}\" Miami hotel reviews site:tripadvisor.com OR site:booking.com',\n",
    "                region='us-en',\n",
    "                max_results=2\n",
    "            ))\n",
    "        render_hotel_markdown(hotel, news, reviews)"
   ]
  },
  {
   "cell_type": "markdown",
   "id": "f3c65d54",
   "metadata": {},
   "source": [
    "## Try Some Example Searches"
   ]
  },
  {
   "cell_type": "code",
   "execution_count": 38,
   "id": "c6388771",
   "metadata": {},
   "outputs": [
    {
     "name": "stdout",
     "output_type": "stream",
     "text": [
      "🔍 Search Query: 'luxury beachfront hotels with ocean view'\n",
      "\n"
     ]
    },
    {
     "data": {
      "text/markdown": [
       "### 🏨 Hotel Data\n",
       "\n",
       "| Field | Value |\n",
       "|---|---|\n",
       "| name | Majestic Hotel South Beach |\n",
       "| type | HOTEL |\n",
       "| similarity_score | 0.7509213089942932 |\n",
       "| rating | 3.5 |\n",
       "| hotel_class | 3.0 |\n",
       "| price_level | $$ |\n",
       "| price_range | $134 - $244 |\n",
       "| address | 660 Ocean Dr, Miami Beach, FL 33139-6219 |\n",
       "| amenities | [] |\n",
       "| review | Good locations facing the ocean. If you want a calm night sleep, book a room at the back of the hotel. Harry, at the front desk, is a nice person, committed to help. Rooms at the back are bigger and more comfortable. Breakfast is ok for US beach hotels. |\n",
       "| number_of_reviews | 169 |\n",
       "| ranking | #156 of 235 |\n",
       "| phone | 13054553270 |\n",
       "| website | http://www.majesticsouthbeach.com |\n",
       "\n",
       "### 📰 News\n",
       "- **2025-04-26T06:54:00+00:00**: [Majestic Hotel South Beach Trademark Col](https://www.travelweekly.com/Hotels/Miami-Beach-FL/Majestic-Hotel-South-Beach-Trademark-Col-p58581025)\n",
       "  \n",
       "  Giving more advice is better than noneAs long as you know what you're talking about, do not hesitate to give as much advice as you think the client needs. CLIA: Regulate us. Please!Cruise lines ...\n",
       "\n",
       "### 💬 Reviews / Info\n",
       "- [734 Verified Hotel Reviews of Majestic Hotel South Beach | Booking.com](https://www.booking.com/reviews/us/hotel/majestic-south-beach.html)\n",
       "  \n",
       "  Reviews of Majestic Hotel South Beach This rating is a reflection of how the property compares to the industry standard when it comes to price, facilities and services available. It's based on a self-evaluation by the property. Use this rating to help choose your stay! 660 Ocean Drive, Miami Beach, FL 33139, United States\n",
       "- [Majestic Hotel South Beach, Miami Beach (updated prices 2025)](https://www.booking.com/hotel/us/majestic-south-beach.html)\n",
       "  \n",
       "  Located in Miami Beach's Art Deco district, and directly opposite the beach, this boutique hotel offers 3 on-site dining options and 24-hour concierge services. A flat-screen cable TV, and all-natural toiletries are featured in every room Majestic Hotel South Beach. Select rooms have a full or partial ocean or city view. This South Beach Majestic Hotel also offers VIP passes to local area ...\n",
       "\n",
       "---\n"
      ],
      "text/plain": [
       "<IPython.core.display.Markdown object>"
      ]
     },
     "metadata": {},
     "output_type": "display_data"
    },
    {
     "data": {
      "text/markdown": [
       "### 🏨 Hotel Data\n",
       "\n",
       "| Field | Value |\n",
       "|---|---|\n",
       "| name | Best Western Plus Atlantic Beach Resort |\n",
       "| type | HOTEL |\n",
       "| similarity_score | 0.7202815413475037 |\n",
       "| rating | 3.5 |\n",
       "| hotel_class | 3.0 |\n",
       "| price_level | $$$ |\n",
       "| price_range | $167 - $267 |\n",
       "| address | 4101 Collins Ave, Miami Beach, FL 33140-3210 |\n",
       "| amenities | [] |\n",
       "| review | Suite was wonderful.  Lots of space. Hotel was clean and pool bar food was good and reasonably priced.  Pool chairs were limited.  Definitely check with gentleman on beach for chair/umbrella rental.  Price was better than what the hotel stated.  |\n",
       "| number_of_reviews | 2793 |\n",
       "| ranking | #151 of 235 |\n",
       "| phone | 18005688520 |\n",
       "| website | https://www.bestwestern.com/de_DE/book/hotel-rooms.10366.html?iata=00171890&ssob=BLBWI0003G&cid=BLBWI0003G:yext:website:10366 |\n",
       "\n",
       "### 📰 News\n",
       "_No news found._\n",
       "\n",
       "### 💬 Reviews / Info\n",
       "- [Best Western Plus Atlantic Beach Resort - Tripadvisor](https://www.tripadvisor.com/Hotel_Review-g34439-d224009-Reviews-Best_Western_Plus_Atlantic_Beach_Resort-Miami_Beach_Florida.html)\n",
       "  \n",
       "  Book Best Western Plus Atlantic Beach Resort, Miami Beach on Tripadvisor: See 2,912 traveler reviews, 1,204 candid photos, and great deals for Best Western Plus Atlantic Beach Resort, ranked #150 of 212 hotels in Miami Beach and rated 3 of 5 at Tripadvisor.\n",
       "- [1833 Verified Reviews of Best Western Plus Atlantic Beach Resort ...](https://www.booking.com/reviews/us/hotel/atlantic-beach.html)\n",
       "  \n",
       "  Reviews of Best Western Plus Atlantic Beach Resort This rating is a reflection of how the property compares to the industry standard when it comes to price, facilities and services available. It's based on a self-evaluation by the property. Use this rating to help choose your stay! 4101 Collins Avenue, Miami Beach, FL 33140, United States\n",
       "\n",
       "---\n"
      ],
      "text/plain": [
       "<IPython.core.display.Markdown object>"
      ]
     },
     "metadata": {},
     "output_type": "display_data"
    }
   ],
   "source": [
    "# Example 1: Search for luxury beachfront hotels\n",
    "search_hotels(\"luxury beachfront hotels with ocean view\", top_k=2)"
   ]
  },
  {
   "cell_type": "code",
   "execution_count": 41,
   "id": "7acde618",
   "metadata": {},
   "outputs": [
    {
     "name": "stdout",
     "output_type": "stream",
     "text": [
      "🔍 Search Query: 'family friendly hotels with swimming pools and activities for kids'\n",
      "\n"
     ]
    },
    {
     "data": {
      "text/markdown": [
       "### 🏨 Hotel Data\n",
       "\n",
       "| Field | Value |\n",
       "|---|---|\n",
       "| name | Marriott Stanton South Beach |\n",
       "| type | HOTEL |\n",
       "| similarity_score | 0.72697913646698 |\n",
       "| rating | 4.5 |\n",
       "| hotel_class | 4.0 |\n",
       "| price_level | $$$$ |\n",
       "| price_range | $299 - $524 |\n",
       "| address | 161 Ocean Drive, Miami Beach, FL 33139-7212 |\n",
       "| amenities | [] |\n",
       "| review | Great experience and excellent location (with really nice restaurants nearby). My kids really enjoyed the pool and the beach! I would definitely come back!!! \n",
       "I would say this is both good for families with kids and also just couples. |\n",
       "| number_of_reviews | 4377 |\n",
       "| ranking | #17 of 235 |\n",
       "| phone | 18446310595 |\n",
       "| website | https://www.marriott.com/en-us/hotels/miamb-marriott-stanton-south-beach/overview/?scid=45f93f1b-bd77-45c9-8dab-83b6a417f6fe&y_source=1_MjA5Mzk2MC03NjktbG9jYXRpb24ud2Vic2l0ZQ%3D%3D |\n",
       "\n",
       "### 📰 News\n",
       "- **2017-06-05T18:00:00+00:00**: [Marriott Stanton South Beach](https://travel.usnews.com/Hotels/review-Marriott_Stanton_South_Beach-Miami_Beach-Florida-131714/)\n",
       "  \n",
       "  Guests loved the location of the hotel: it's close enough to ... when choosing to bed down here. The Marriott Stanton South Beach is located in Miami Beach's Art Deco District, less than a ...\n",
       "- **2023-08-14T04:52:00+00:00**: [Marriott Stanton South Beach GDS Codes](https://www.travelweekly.com/Hotels/Miami-Beach-FL/Marriott-Stanton-South-Beach-p7906995)\n",
       "  \n",
       "  across from the demure Century and two doors down from the cheekier Bentley Beach Hotel, this is a smaller and less expensive version of Loews or the Palms, with a full-service format and a fine ...\n",
       "\n",
       "### 💬 Reviews / Info\n",
       "- [Marriott Stanton South Beach, Miami Beach (updated prices 2025)](https://www.booking.com/hotel/us/marriott-south-beach.html)\n",
       "  \n",
       "  Marriott Stanton South Beach (Hotel), Miami Beach (US) Deals Overview. Info & prices. Amenities. House rules. The fine print. Guest reviews (507) More; Reserve We Price Match. ... Excellent location - rated 9.2/10!(score from 507 reviews) Real guests • Real stays • Real opinions\n",
       "- [523 Verified Hotel Reviews of Marriott Stanton South Beach - Booking.com](https://www.booking.com/reviews/us/hotel/marriott-south-beach.html)\n",
       "  \n",
       "  Reviews of Marriott Stanton South Beach This rating is a reflection of how the property compares to the industry standard when it comes to price, facilities and services available. It's based on a self-evaluation by the property. Use this rating to help choose your stay! 161 Ocean Drive, Miami Beach, FL 33139, United States\n",
       "\n",
       "---\n"
      ],
      "text/plain": [
       "<IPython.core.display.Markdown object>"
      ]
     },
     "metadata": {},
     "output_type": "display_data"
    },
    {
     "data": {
      "text/markdown": [
       "### 🏨 Hotel Data\n",
       "\n",
       "| Field | Value |\n",
       "|---|---|\n",
       "| name | The Local House |\n",
       "| type | HOTEL |\n",
       "| similarity_score | 0.6686521172523499 |\n",
       "| rating | 4.5 |\n",
       "| hotel_class | 3.0 |\n",
       "| price_level | $$$ |\n",
       "| price_range | $211 - $382 |\n",
       "| address | 400 Ocean Dr, Miami Beach, FL 33139-6614 |\n",
       "| amenities | [] |\n",
       "| review | I really liked this hotel. It’s location is great - a block of a nice beach access, quiet neighborhood three blocks from the non stop party that is the Art Deco district. Restaurant located downstairs is a great place for drinks, breakfast etc.  What would make me love it was some improvements to the pool area. There are not enough loungers. They have a dry bar that is not staffed, so you have to go downstairs to get drinks poolside. There is couches and tables set up there that art not being utilized. It would make more sense to fill it with more lounge chairs, get rid of the bar, and extend room service to the pool. My 2 cents. |\n",
       "| number_of_reviews | 782 |\n",
       "| ranking | #46 of 235 |\n",
       "| phone | 13055385529 |\n",
       "| website | https://localhouse.com |\n",
       "\n",
       "### 📰 News\n",
       "_No news found._\n",
       "\n",
       "### 💬 Reviews / Info\n",
       "- [The Local House, Miami Beach (updated prices 2025) - Booking.com](https://www.booking.com/hotel/us/sense-south-beach.en-gb.html)\n",
       "  \n",
       "  Concierge services offered during front desk hours. The Local House is the on-site restaurant at the The Local House. They offer an international tapas menu, brunch, and a full service bar. This Miami Beach hotel is steps from art galleries, boutique shopping and famous restaurants on Ocean Drive. Bayshore Golf Course is within 3 miles of the ...\n",
       "- [The Local House, Miami Beach (updated prices 2025) - Booking.com](https://www.booking.com/hotel/us/sense-south-beach.html)\n",
       "  \n",
       "  Concierge services offered during front desk hours. The Local House is the on-site restaurant at the The Local House. They offer an international tapas menu, brunch, and a full service bar. This Miami Beach hotel is steps from art galleries, boutique shopping and famous restaurants on Ocean Drive. Bayshore Golf Course is within 3 miles of the ...\n",
       "\n",
       "---\n"
      ],
      "text/plain": [
       "<IPython.core.display.Markdown object>"
      ]
     },
     "metadata": {},
     "output_type": "display_data"
    }
   ],
   "source": [
    "# Example 2: Search for family-friendly hotels with pools\n",
    "search_hotels(\"family friendly hotels with swimming pools and activities for kids\", top_k=2)"
   ]
  },
  {
   "cell_type": "markdown",
   "id": "43886581",
   "metadata": {},
   "source": [
    "## Interactive Search\n",
    "\n",
    "Use the cell below to try your own search queries!"
   ]
  },
  {
   "cell_type": "code",
   "execution_count": null,
   "id": "c166f7e5",
   "metadata": {},
   "outputs": [],
   "source": [
    "# Enter your search query\n",
    "your_query = \"\"  # Replace with your search query\n",
    "search_hotels(your_query)"
   ]
  }
 ],
 "metadata": {
  "language_info": {
   "name": "python"
  }
 },
 "nbformat": 4,
 "nbformat_minor": 5
}
