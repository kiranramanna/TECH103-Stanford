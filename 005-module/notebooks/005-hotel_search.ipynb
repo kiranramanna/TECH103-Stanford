{
 "cells": [
  {
   "cell_type": "markdown",
   "id": "2c9c966b",
   "metadata": {},
   "source": [
    "# Miami Hotel Search Engine Demo\n",
    "\n",
    "This notebook demonstrates four different hotel search engines:\n",
    "1. Generic Search Engine API\n",
    "2. DuckDuckGo Search\n",
    "3. Traversaal Search\n",
    "4. Local Qdrant Vector Search\n",
    "\n",
    "Each engine has its own strengths and use cases:\n",
    "- Generic Search: Broad web search with customizable parameters\n",
    "- DuckDuckGo: Privacy-focused search with real-time results\n",
    "- Traversaal: Specialized hotel search with rich metadata\n",
    "- Qdrant Local: Fast semantic search with local data"
   ]
  },
  {
   "cell_type": "code",
   "execution_count": 38,
   "id": "d82a82f6",
   "metadata": {},
   "outputs": [
    {
     "name": "stderr",
     "output_type": "stream",
     "text": [
      "huggingface/tokenizers: The current process just got forked, after parallelism has already been used. Disabling parallelism to avoid deadlocks...\n",
      "To disable this warning, you can either:\n",
      "\t- Avoid using `tokenizers` before the fork if possible\n",
      "\t- Explicitly set the environment variable TOKENIZERS_PARALLELISM=(true | false)\n"
     ]
    },
    {
     "name": "stdout",
     "output_type": "stream",
     "text": [
      "Looking in indexes: https://pypi.org/simple, https://pypi.ngc.nvidia.com\n",
      "Requirement already satisfied: pandas>=1.5.0 in /Users/kiran.ramanna/anaconda3/envs/ais_ml1/lib/python3.12/site-packages (from -r ../requirements.txt (line 1)) (2.2.3)\n",
      "Requirement already satisfied: sentence-transformers>=2.2.0 in /Users/kiran.ramanna/anaconda3/envs/ais_ml1/lib/python3.12/site-packages (from -r ../requirements.txt (line 2)) (3.3.1)\n",
      "Requirement already satisfied: qdrant-client>=1.1.0 in /Users/kiran.ramanna/anaconda3/envs/ais_ml1/lib/python3.12/site-packages (from -r ../requirements.txt (line 3)) (1.14.2)\n",
      "Requirement already satisfied: duckduckgo-search>=3.9.0 in /Users/kiran.ramanna/anaconda3/envs/ais_ml1/lib/python3.12/site-packages (from -r ../requirements.txt (line 4)) (8.0.1)\n",
      "Requirement already satisfied: requests>=2.28.0 in /Users/kiran.ramanna/anaconda3/envs/ais_ml1/lib/python3.12/site-packages (from -r ../requirements.txt (line 5)) (2.32.3)\n",
      "Requirement already satisfied: python-dotenv>=0.19.0 in /Users/kiran.ramanna/anaconda3/envs/ais_ml1/lib/python3.12/site-packages (from -r ../requirements.txt (line 6)) (1.0.1)\n",
      "Requirement already satisfied: pydantic>=1.10.0 in /Users/kiran.ramanna/anaconda3/envs/ais_ml1/lib/python3.12/site-packages (from -r ../requirements.txt (line 7)) (2.10.2)\n",
      "Requirement already satisfied: tqdm>=4.65.0 in /Users/kiran.ramanna/anaconda3/envs/ais_ml1/lib/python3.12/site-packages (from -r ../requirements.txt (line 8)) (4.67.1)\n",
      "Requirement already satisfied: numpy>=1.26.0 in /Users/kiran.ramanna/anaconda3/envs/ais_ml1/lib/python3.12/site-packages (from pandas>=1.5.0->-r ../requirements.txt (line 1)) (1.26.4)\n",
      "Requirement already satisfied: python-dateutil>=2.8.2 in /Users/kiran.ramanna/anaconda3/envs/ais_ml1/lib/python3.12/site-packages (from pandas>=1.5.0->-r ../requirements.txt (line 1)) (2.9.0.post0)\n",
      "Requirement already satisfied: pytz>=2020.1 in /Users/kiran.ramanna/anaconda3/envs/ais_ml1/lib/python3.12/site-packages (from pandas>=1.5.0->-r ../requirements.txt (line 1)) (2024.2)\n",
      "Requirement already satisfied: tzdata>=2022.7 in /Users/kiran.ramanna/anaconda3/envs/ais_ml1/lib/python3.12/site-packages (from pandas>=1.5.0->-r ../requirements.txt (line 1)) (2024.2)\n",
      "Requirement already satisfied: transformers<5.0.0,>=4.41.0 in /Users/kiran.ramanna/anaconda3/envs/ais_ml1/lib/python3.12/site-packages (from sentence-transformers>=2.2.0->-r ../requirements.txt (line 2)) (4.46.3)\n",
      "Requirement already satisfied: torch>=1.11.0 in /Users/kiran.ramanna/anaconda3/envs/ais_ml1/lib/python3.12/site-packages (from sentence-transformers>=2.2.0->-r ../requirements.txt (line 2)) (2.5.1)\n",
      "Requirement already satisfied: scikit-learn in /Users/kiran.ramanna/anaconda3/envs/ais_ml1/lib/python3.12/site-packages (from sentence-transformers>=2.2.0->-r ../requirements.txt (line 2)) (1.5.2)\n",
      "Requirement already satisfied: scipy in /Users/kiran.ramanna/anaconda3/envs/ais_ml1/lib/python3.12/site-packages (from sentence-transformers>=2.2.0->-r ../requirements.txt (line 2)) (1.14.1)\n",
      "Requirement already satisfied: huggingface-hub>=0.20.0 in /Users/kiran.ramanna/anaconda3/envs/ais_ml1/lib/python3.12/site-packages (from sentence-transformers>=2.2.0->-r ../requirements.txt (line 2)) (0.30.2)\n",
      "Requirement already satisfied: Pillow in /Users/kiran.ramanna/anaconda3/envs/ais_ml1/lib/python3.12/site-packages (from sentence-transformers>=2.2.0->-r ../requirements.txt (line 2)) (11.0.0)\n",
      "Requirement already satisfied: grpcio>=1.41.0 in /Users/kiran.ramanna/anaconda3/envs/ais_ml1/lib/python3.12/site-packages (from qdrant-client>=1.1.0->-r ../requirements.txt (line 3)) (1.70.0)\n",
      "Requirement already satisfied: httpx>=0.20.0 in /Users/kiran.ramanna/anaconda3/envs/ais_ml1/lib/python3.12/site-packages (from httpx[http2]>=0.20.0->qdrant-client>=1.1.0->-r ../requirements.txt (line 3)) (0.27.2)\n",
      "Requirement already satisfied: portalocker<3.0.0,>=2.7.0 in /Users/kiran.ramanna/anaconda3/envs/ais_ml1/lib/python3.12/site-packages (from qdrant-client>=1.1.0->-r ../requirements.txt (line 3)) (2.10.1)\n",
      "Requirement already satisfied: protobuf>=3.20.0 in /Users/kiran.ramanna/anaconda3/envs/ais_ml1/lib/python3.12/site-packages (from qdrant-client>=1.1.0->-r ../requirements.txt (line 3)) (5.28.3)\n",
      "Requirement already satisfied: urllib3<3,>=1.26.14 in /Users/kiran.ramanna/anaconda3/envs/ais_ml1/lib/python3.12/site-packages (from qdrant-client>=1.1.0->-r ../requirements.txt (line 3)) (2.2.3)\n",
      "Requirement already satisfied: click>=8.1.8 in /Users/kiran.ramanna/anaconda3/envs/ais_ml1/lib/python3.12/site-packages (from duckduckgo-search>=3.9.0->-r ../requirements.txt (line 4)) (8.1.8)\n",
      "Requirement already satisfied: primp>=0.15.0 in /Users/kiran.ramanna/anaconda3/envs/ais_ml1/lib/python3.12/site-packages (from duckduckgo-search>=3.9.0->-r ../requirements.txt (line 4)) (0.15.0)\n",
      "Requirement already satisfied: lxml>=5.3.0 in /Users/kiran.ramanna/anaconda3/envs/ais_ml1/lib/python3.12/site-packages (from duckduckgo-search>=3.9.0->-r ../requirements.txt (line 4)) (5.4.0)\n",
      "Requirement already satisfied: charset-normalizer<4,>=2 in /Users/kiran.ramanna/anaconda3/envs/ais_ml1/lib/python3.12/site-packages (from requests>=2.28.0->-r ../requirements.txt (line 5)) (3.4.0)\n",
      "Requirement already satisfied: idna<4,>=2.5 in /Users/kiran.ramanna/anaconda3/envs/ais_ml1/lib/python3.12/site-packages (from requests>=2.28.0->-r ../requirements.txt (line 5)) (3.10)\n",
      "Requirement already satisfied: certifi>=2017.4.17 in /Users/kiran.ramanna/anaconda3/envs/ais_ml1/lib/python3.12/site-packages (from requests>=2.28.0->-r ../requirements.txt (line 5)) (2024.8.30)\n",
      "Requirement already satisfied: annotated-types>=0.6.0 in /Users/kiran.ramanna/anaconda3/envs/ais_ml1/lib/python3.12/site-packages (from pydantic>=1.10.0->-r ../requirements.txt (line 7)) (0.7.0)\n",
      "Requirement already satisfied: pydantic-core==2.27.1 in /Users/kiran.ramanna/anaconda3/envs/ais_ml1/lib/python3.12/site-packages (from pydantic>=1.10.0->-r ../requirements.txt (line 7)) (2.27.1)\n",
      "Requirement already satisfied: typing-extensions>=4.12.2 in /Users/kiran.ramanna/anaconda3/envs/ais_ml1/lib/python3.12/site-packages (from pydantic>=1.10.0->-r ../requirements.txt (line 7)) (4.13.2)\n",
      "Requirement already satisfied: anyio in /Users/kiran.ramanna/anaconda3/envs/ais_ml1/lib/python3.12/site-packages (from httpx>=0.20.0->httpx[http2]>=0.20.0->qdrant-client>=1.1.0->-r ../requirements.txt (line 3)) (4.6.2.post1)\n",
      "Requirement already satisfied: httpcore==1.* in /Users/kiran.ramanna/anaconda3/envs/ais_ml1/lib/python3.12/site-packages (from httpx>=0.20.0->httpx[http2]>=0.20.0->qdrant-client>=1.1.0->-r ../requirements.txt (line 3)) (1.0.7)\n",
      "Requirement already satisfied: sniffio in /Users/kiran.ramanna/anaconda3/envs/ais_ml1/lib/python3.12/site-packages (from httpx>=0.20.0->httpx[http2]>=0.20.0->qdrant-client>=1.1.0->-r ../requirements.txt (line 3)) (1.3.1)\n",
      "Requirement already satisfied: h11<0.15,>=0.13 in /Users/kiran.ramanna/anaconda3/envs/ais_ml1/lib/python3.12/site-packages (from httpcore==1.*->httpx>=0.20.0->httpx[http2]>=0.20.0->qdrant-client>=1.1.0->-r ../requirements.txt (line 3)) (0.14.0)\n",
      "Requirement already satisfied: h2<5,>=3 in /Users/kiran.ramanna/anaconda3/envs/ais_ml1/lib/python3.12/site-packages (from httpx[http2]>=0.20.0->qdrant-client>=1.1.0->-r ../requirements.txt (line 3)) (4.2.0)\n",
      "Requirement already satisfied: filelock in /Users/kiran.ramanna/anaconda3/envs/ais_ml1/lib/python3.12/site-packages (from huggingface-hub>=0.20.0->sentence-transformers>=2.2.0->-r ../requirements.txt (line 2)) (3.16.1)\n",
      "Requirement already satisfied: fsspec>=2023.5.0 in /Users/kiran.ramanna/anaconda3/envs/ais_ml1/lib/python3.12/site-packages (from huggingface-hub>=0.20.0->sentence-transformers>=2.2.0->-r ../requirements.txt (line 2)) (2024.9.0)\n",
      "Requirement already satisfied: packaging>=20.9 in /Users/kiran.ramanna/anaconda3/envs/ais_ml1/lib/python3.12/site-packages (from huggingface-hub>=0.20.0->sentence-transformers>=2.2.0->-r ../requirements.txt (line 2)) (24.2)\n",
      "Requirement already satisfied: pyyaml>=5.1 in /Users/kiran.ramanna/anaconda3/envs/ais_ml1/lib/python3.12/site-packages (from huggingface-hub>=0.20.0->sentence-transformers>=2.2.0->-r ../requirements.txt (line 2)) (6.0.2)\n",
      "Requirement already satisfied: six>=1.5 in /Users/kiran.ramanna/anaconda3/envs/ais_ml1/lib/python3.12/site-packages (from python-dateutil>=2.8.2->pandas>=1.5.0->-r ../requirements.txt (line 1)) (1.16.0)\n",
      "Requirement already satisfied: networkx in /Users/kiran.ramanna/anaconda3/envs/ais_ml1/lib/python3.12/site-packages (from torch>=1.11.0->sentence-transformers>=2.2.0->-r ../requirements.txt (line 2)) (3.4.2)\n",
      "Requirement already satisfied: jinja2 in /Users/kiran.ramanna/anaconda3/envs/ais_ml1/lib/python3.12/site-packages (from torch>=1.11.0->sentence-transformers>=2.2.0->-r ../requirements.txt (line 2)) (3.1.4)\n",
      "Requirement already satisfied: setuptools in /Users/kiran.ramanna/anaconda3/envs/ais_ml1/lib/python3.12/site-packages (from torch>=1.11.0->sentence-transformers>=2.2.0->-r ../requirements.txt (line 2)) (75.6.0)\n",
      "Requirement already satisfied: sympy==1.13.1 in /Users/kiran.ramanna/anaconda3/envs/ais_ml1/lib/python3.12/site-packages (from torch>=1.11.0->sentence-transformers>=2.2.0->-r ../requirements.txt (line 2)) (1.13.1)\n",
      "Requirement already satisfied: mpmath<1.4,>=1.1.0 in /Users/kiran.ramanna/anaconda3/envs/ais_ml1/lib/python3.12/site-packages (from sympy==1.13.1->torch>=1.11.0->sentence-transformers>=2.2.0->-r ../requirements.txt (line 2)) (1.3.0)\n",
      "Requirement already satisfied: regex!=2019.12.17 in /Users/kiran.ramanna/anaconda3/envs/ais_ml1/lib/python3.12/site-packages (from transformers<5.0.0,>=4.41.0->sentence-transformers>=2.2.0->-r ../requirements.txt (line 2)) (2024.11.6)\n",
      "Requirement already satisfied: tokenizers<0.21,>=0.20 in /Users/kiran.ramanna/anaconda3/envs/ais_ml1/lib/python3.12/site-packages (from transformers<5.0.0,>=4.41.0->sentence-transformers>=2.2.0->-r ../requirements.txt (line 2)) (0.20.3)\n",
      "Requirement already satisfied: safetensors>=0.4.1 in /Users/kiran.ramanna/anaconda3/envs/ais_ml1/lib/python3.12/site-packages (from transformers<5.0.0,>=4.41.0->sentence-transformers>=2.2.0->-r ../requirements.txt (line 2)) (0.4.5)\n",
      "Requirement already satisfied: joblib>=1.2.0 in /Users/kiran.ramanna/anaconda3/envs/ais_ml1/lib/python3.12/site-packages (from scikit-learn->sentence-transformers>=2.2.0->-r ../requirements.txt (line 2)) (1.4.2)\n",
      "Requirement already satisfied: threadpoolctl>=3.1.0 in /Users/kiran.ramanna/anaconda3/envs/ais_ml1/lib/python3.12/site-packages (from scikit-learn->sentence-transformers>=2.2.0->-r ../requirements.txt (line 2)) (3.5.0)\n",
      "Requirement already satisfied: hyperframe<7,>=6.1 in /Users/kiran.ramanna/anaconda3/envs/ais_ml1/lib/python3.12/site-packages (from h2<5,>=3->httpx[http2]>=0.20.0->qdrant-client>=1.1.0->-r ../requirements.txt (line 3)) (6.1.0)\n",
      "Requirement already satisfied: hpack<5,>=4.1 in /Users/kiran.ramanna/anaconda3/envs/ais_ml1/lib/python3.12/site-packages (from h2<5,>=3->httpx[http2]>=0.20.0->qdrant-client>=1.1.0->-r ../requirements.txt (line 3)) (4.1.0)\n",
      "Requirement already satisfied: MarkupSafe>=2.0 in /Users/kiran.ramanna/anaconda3/envs/ais_ml1/lib/python3.12/site-packages (from jinja2->torch>=1.11.0->sentence-transformers>=2.2.0->-r ../requirements.txt (line 2)) (3.0.2)\n"
     ]
    }
   ],
   "source": [
    "# Install required packages\n",
    "!pip install -r ../requirements.txt"
   ]
  },
  {
   "cell_type": "code",
   "execution_count": 39,
   "id": "2b1d384e",
   "metadata": {},
   "outputs": [],
   "source": [
    "import os\n",
    "import sys\n",
    "import importlib\n",
    "import pandas as pd\n",
    "from dotenv import load_dotenv\n",
    "from IPython.display import display, Markdown\n",
    "import json\n",
    "\n",
    "# Add src to path\n",
    "sys.path.append('..')\n",
    "\n",
    "# Load environment variables\n",
    "load_dotenv()\n",
    "\n",
    "# Import base module first\n",
    "import src.search_engines.base as base\n",
    "importlib.reload(base)\n",
    "\n",
    "# Import and reload search engine modules\n",
    "import src.search_engines.generic as generic\n",
    "import src.search_engines.duckduckgo as duckduckgo\n",
    "import src.search_engines.traversaal as traversaal\n",
    "import src.search_engines.qdrant_local as qdrant_local\n",
    "import src.llm as llm\n",
    "\n",
    "# Reload all modules in reverse dependency order\n",
    "importlib.reload(llm)\n",
    "importlib.reload(qdrant_local)\n",
    "importlib.reload(traversaal)\n",
    "importlib.reload(duckduckgo)\n",
    "importlib.reload(generic)\n",
    "\n",
    "# Import search engines after reload\n",
    "from src.search_engines.generic import GenericSearchEngine\n",
    "from src.search_engines.duckduckgo import DuckDuckGoSearchEngine\n",
    "from src.search_engines.traversaal import TraversaalSearchEngine\n",
    "from src.search_engines.qdrant_local import QdrantLocalSearchEngine\n",
    "from src.llm import OpenRouterLLM"
   ]
  },
  {
   "cell_type": "markdown",
   "id": "89f9040a",
   "metadata": {},
   "source": [
    "## Initialize Search Engines and LLM\n",
    "\n",
    "Each search engine requires different initialization parameters:\n",
    "- Generic Search: Path to hotel data CSV\n",
    "- DuckDuckGo: No API key needed\n",
    "- Traversaal: API key\n",
    "- Qdrant Local: Path to hotel data CSV\n",
    "- OpenRouter LLM: API key for text generation"
   ]
  },
  {
   "cell_type": "code",
   "execution_count": 40,
   "id": "f8f41fe4",
   "metadata": {},
   "outputs": [
    {
     "name": "stdout",
     "output_type": "stream",
     "text": [
      "Loaded existing embeddings from storage\n",
      "✓ Generic Search Engine initialized\n",
      "✓ DuckDuckGo Search Engine initialized\n",
      "✓ Traversaal Search Engine initialized\n",
      "Using existing Qdrant collection\n",
      "✓ Qdrant Local Search Engine initialized\n",
      "✓ OpenRouter LLM initialized\n"
     ]
    }
   ],
   "source": [
    "# Initialize search engines\n",
    "engines = {}\n",
    "\n",
    "# Generic Search Engine\n",
    "try:\n",
    "    engines['generic'] = GenericSearchEngine(data_path=\"../../004-module/data/miami_hotels.csv\")\n",
    "    print(\"✓ Generic Search Engine initialized\")\n",
    "except Exception as e:\n",
    "    print(f\"✗ Generic Search Engine failed: {str(e)}\")\n",
    "\n",
    "# DuckDuckGo Search Engine\n",
    "try:\n",
    "    engines['duckduckgo'] = DuckDuckGoSearchEngine()\n",
    "    print(\"✓ DuckDuckGo Search Engine initialized\")\n",
    "except Exception as e:\n",
    "    print(f\"✗ DuckDuckGo Search Engine failed: {str(e)}\")\n",
    "\n",
    "# Traversaal Search Engine\n",
    "try:\n",
    "    engines['traversaal'] = TraversaalSearchEngine()\n",
    "    print(\"✓ Traversaal Search Engine initialized\")\n",
    "except Exception as e:\n",
    "    print(f\"✗ Traversaal Search Engine failed: {str(e)}\")\n",
    "\n",
    "# Qdrant Local Search Engine\n",
    "try:\n",
    "    engines['qdrant'] = QdrantLocalSearchEngine(data_path=\"../../004-module/data/miami_hotels.csv\")\n",
    "    print(\"✓ Qdrant Local Search Engine initialized\")\n",
    "except Exception as e:\n",
    "    print(f\"✗ Qdrant Local Search Engine failed: {str(e)}\")\n",
    "\n",
    "# Initialize OpenRouter LLM\n",
    "try:\n",
    "    llm = OpenRouterLLM()\n",
    "    print(\"✓ OpenRouter LLM initialized\")\n",
    "except Exception as e:\n",
    "    print(f\"✗ OpenRouter LLM failed: {str(e)}\")"
   ]
  },
  {
   "cell_type": "markdown",
   "id": "90f5877d",
   "metadata": {},
   "source": [
    "## Search Function\n",
    "\n",
    "This function will run a search query across all initialized engines, display the raw results, and then show an LLM-processed summary of the results."
   ]
  },
  {
   "cell_type": "code",
   "execution_count": 41,
   "id": "7a7ce25f",
   "metadata": {},
   "outputs": [],
   "source": [
    "import numpy as np\n",
    "# Helper to convert numpy types to native Python types\n",
    "def convert_np(obj):\n",
    "    if isinstance(obj, dict):\n",
    "        return {k: convert_np(v) for k, v in obj.items()}\n",
    "    elif isinstance(obj, list):\n",
    "        return [convert_np(i) for i in obj]\n",
    "    elif isinstance(obj, np.generic):\n",
    "        return obj.item()\n",
    "    else:\n",
    "        return obj\n",
    "\n",
    "def search_hotels(query: str, top_k: int = 2):\n",
    "    \"\"\"Search for hotels using all available engines.\n",
    "    \n",
    "    Args:\n",
    "        query: Search query string\n",
    "        top_k: Number of results to return per engine\n",
    "    \"\"\"\n",
    "    results = {}\n",
    "    \n",
    "    # Run search on each engine\n",
    "    for name, engine in engines.items():\n",
    "        try:\n",
    "            results[name] = engine.search(query, top_k=top_k)\n",
    "        except Exception as e:\n",
    "            print(f\"Error with {name} engine: {str(e)}\")\n",
    "    \n",
    "    # Display results\n",
    "    for name, hotels in results.items():\n",
    "        display(Markdown(f\"### {name.upper()} Results\"))\n",
    "        \n",
    "        for i, hotel in enumerate(hotels, 1):\n",
    "            display(Markdown(f\"#### {i}. {hotel.title}\"))\n",
    "            display(Markdown(f\"**Score:** {hotel.score:.2f}\"))\n",
    "            display(Markdown(f\"**URL:** {hotel.url}\"))\n",
    "            display(Markdown(f\"**Snippet:** {hotel.snippet}\"))\n",
    "            \n",
    "            if hotel.metadata:\n",
    "                display(Markdown(\"**Metadata:**\"))\n",
    "                for key, value in hotel.metadata.items():\n",
    "                    if value:  # Only show non-empty values\n",
    "                        display(Markdown(f\"- {key}: {value}\"))\n",
    "            \n",
    "            # Display raw response if available\n",
    "            if hotel.raw_response:\n",
    "                display(Markdown(\"**Raw Response:**\"))\n",
    "                from IPython.display import JSON\n",
    "                display(JSON(hotel.raw_response))\n",
    "            \n",
    "            # Get LLM analysis for this hotel\n",
    "            try:\n",
    "                context = {\n",
    "                    \"query\": query,\n",
    "                    \"engine\": name,\n",
    "                    \"hotel\": {\n",
    "                        \"title\": hotel.title,\n",
    "                        \"score\": hotel.score,\n",
    "                        \"url\": hotel.url,\n",
    "                        \"snippet\": hotel.snippet,\n",
    "                        \"metadata\": hotel.metadata,\n",
    "                        \"raw_response\": hotel.raw_response\n",
    "                    }\n",
    "                }\n",
    "                \n",
    "                llm_response = llm.generate(\n",
    "                    prompt=\"Analyze these hotel search results and provide insights about:\",\n",
    "                    context=convert_np(context)\n",
    "                )\n",
    "                \n",
    "                # Add a dotted line for clear demarcation before LLM analysis\n",
    "                display(Markdown('<hr style=\"border-top: 1px dotted #bbb;\">'))\n",
    "                # Underline the LLM Analysis heading\n",
    "                display(Markdown('<u>**LLM Analysis:**</u>'))\n",
    "                display(Markdown(llm_response))\n",
    "            except Exception as e:\n",
    "                display(Markdown(f\"*Error getting LLM analysis: {str(e)}*\"))\n",
    "            \n",
    "            display(Markdown(\"---\"))"
   ]
  },
  {
   "cell_type": "markdown",
   "id": "1b599af7",
   "metadata": {},
   "source": [
    "## Example Searches\n",
    "\n",
    "Let's try an example search to see how each engine performs and how the LLM analyzes the results."
   ]
  },
  {
   "cell_type": "code",
   "execution_count": 42,
   "id": "7a0056c4",
   "metadata": {},
   "outputs": [
    {
     "name": "stderr",
     "output_type": "stream",
     "text": [
      "2025-05-06 02:18:52 - \u001b[92mINFO\u001b[0m - search took 0.09 seconds\n",
      "2025-05-06 02:18:56 - \u001b[92mINFO\u001b[0m - search took 3.88 seconds\n",
      "2025-05-06 02:19:15 - \u001b[92mINFO\u001b[0m - search took 19.06 seconds\n",
      "2025-05-06 02:19:16 - \u001b[92mINFO\u001b[0m - search took 0.41 seconds\n"
     ]
    },
    {
     "data": {
      "text/markdown": [
       "### GENERIC Results"
      ],
      "text/plain": [
       "<IPython.core.display.Markdown object>"
      ]
     },
     "metadata": {},
     "output_type": "display_data"
    },
    {
     "data": {
      "text/markdown": [
       "#### 1. The Palms Hotel & Spa"
      ],
      "text/plain": [
       "<IPython.core.display.Markdown object>"
      ]
     },
     "metadata": {},
     "output_type": "display_data"
    },
    {
     "data": {
      "text/markdown": [
       "**Score:** 0.73"
      ],
      "text/plain": [
       "<IPython.core.display.Markdown object>"
      ]
     },
     "metadata": {},
     "output_type": "display_data"
    },
    {
     "data": {
      "text/markdown": [
       "**URL:** http://www.thepalmshotel.com/"
      ],
      "text/plain": [
       "<IPython.core.display.Markdown object>"
      ]
     },
     "metadata": {},
     "output_type": "display_data"
    },
    {
     "data": {
      "text/markdown": [
       "**Snippet:** The room and view was wonderful. Service was very good. I would recommend to friends and family. The beach is paradise. Memories will last you a lifetime. Will return every chance I get. Nathalie at the front desk was amazing \n"
      ],
      "text/plain": [
       "<IPython.core.display.Markdown object>"
      ]
     },
     "metadata": {},
     "output_type": "display_data"
    },
    {
     "data": {
      "text/markdown": [
       "**Metadata:**"
      ],
      "text/plain": [
       "<IPython.core.display.Markdown object>"
      ]
     },
     "metadata": {},
     "output_type": "display_data"
    },
    {
     "data": {
      "text/markdown": [
       "- type: HOTEL"
      ],
      "text/plain": [
       "<IPython.core.display.Markdown object>"
      ]
     },
     "metadata": {},
     "output_type": "display_data"
    },
    {
     "data": {
      "text/markdown": [
       "- rating: 4.5"
      ],
      "text/plain": [
       "<IPython.core.display.Markdown object>"
      ]
     },
     "metadata": {},
     "output_type": "display_data"
    },
    {
     "data": {
      "text/markdown": [
       "- hotel_class: 4.0"
      ],
      "text/plain": [
       "<IPython.core.display.Markdown object>"
      ]
     },
     "metadata": {},
     "output_type": "display_data"
    },
    {
     "data": {
      "text/markdown": [
       "- price_level: $$$$"
      ],
      "text/plain": [
       "<IPython.core.display.Markdown object>"
      ]
     },
     "metadata": {},
     "output_type": "display_data"
    },
    {
     "data": {
      "text/markdown": [
       "- price_range: $325 - $511"
      ],
      "text/plain": [
       "<IPython.core.display.Markdown object>"
      ]
     },
     "metadata": {},
     "output_type": "display_data"
    },
    {
     "data": {
      "text/markdown": [
       "- address: 3025 Collins Ave, Miami Beach, FL 33140-4106"
      ],
      "text/plain": [
       "<IPython.core.display.Markdown object>"
      ]
     },
     "metadata": {},
     "output_type": "display_data"
    },
    {
     "data": {
      "text/markdown": [
       "- amenities: []"
      ],
      "text/plain": [
       "<IPython.core.display.Markdown object>"
      ]
     },
     "metadata": {},
     "output_type": "display_data"
    },
    {
     "data": {
      "text/markdown": [
       "- number_of_reviews: 5034"
      ],
      "text/plain": [
       "<IPython.core.display.Markdown object>"
      ]
     },
     "metadata": {},
     "output_type": "display_data"
    },
    {
     "data": {
      "text/markdown": [
       "- ranking: #50 of 235 hotels in Miami Beach"
      ],
      "text/plain": [
       "<IPython.core.display.Markdown object>"
      ]
     },
     "metadata": {},
     "output_type": "display_data"
    },
    {
     "data": {
      "text/markdown": [
       "- phone: 17864203219"
      ],
      "text/plain": [
       "<IPython.core.display.Markdown object>"
      ]
     },
     "metadata": {},
     "output_type": "display_data"
    },
    {
     "data": {
      "text/markdown": [
       "<hr style=\"border-top: 1px dotted #bbb;\">"
      ],
      "text/plain": [
       "<IPython.core.display.Markdown object>"
      ]
     },
     "metadata": {},
     "output_type": "display_data"
    },
    {
     "data": {
      "text/markdown": [
       "<u>**LLM Analysis:**</u>"
      ],
      "text/plain": [
       "<IPython.core.display.Markdown object>"
      ]
     },
     "metadata": {},
     "output_type": "display_data"
    },
    {
     "data": {
      "text/markdown": [
       "Here are some key insights about The Palms Hotel & Spa based on the provided search results:\n",
       "\n",
       "Relevance to Query:\n",
       "- The hotel appears to be a strong match for the query \"luxury beachfront hotels with ocean view and spa facilities\". \n",
       "- It is located in a beachfront setting in Miami Beach and likely offers ocean views.\n",
       "- The hotel name includes \"& Spa\", strongly suggesting it has on-site spa facilities.\n",
       "\n",
       "Quality and Reputation:\n",
       "- With a 4.5 overall rating and #50 ranking out of 235 hotels in Miami Beach, The Palms Hotel & Spa seems to be a highly rated, reputable property.\n",
       "- The snippet mentions \"Service was very good\" and praises a front desk employee, indicating strong service.\n",
       "- Over 5,000 reviews give credibility to the high rating.\n",
       "\n",
       "Pricing and Value:\n",
       "- The $$$$ price level and $325-$511 price range put this in the luxury tier, matching the query.\n",
       "- For beachfront Miami with spa facilities, this pricing is likely in line with similar upscale properties.\n",
       "\n",
       "Amenities and Experience:\n",
       "- The snippet raves \"The beach is paradise\", suggesting a pristine beachfront.\n",
       "- Rooms with wonderful views are highlighted. \n",
       "- No other specific amenities are listed, but upscale spas and beachfront hotels typically offer pools, dining, fitness centers, etc.\n",
       "\n",
       "In summary, The Palms Hotel & Spa looks to be a luxurious, well-reviewed hotel that aligns closely with the original query. Its beachfront location, spa, and strong reputation are key selling points, though it comes at a high-end price point. More details on specific amenities and spa offerings would help further evaluate its suitability."
      ],
      "text/plain": [
       "<IPython.core.display.Markdown object>"
      ]
     },
     "metadata": {},
     "output_type": "display_data"
    },
    {
     "data": {
      "text/markdown": [
       "---"
      ],
      "text/plain": [
       "<IPython.core.display.Markdown object>"
      ]
     },
     "metadata": {},
     "output_type": "display_data"
    },
    {
     "data": {
      "text/markdown": [
       "#### 2. The Standard Spa, Miami Beach"
      ],
      "text/plain": [
       "<IPython.core.display.Markdown object>"
      ]
     },
     "metadata": {},
     "output_type": "display_data"
    },
    {
     "data": {
      "text/markdown": [
       "**Score:** 0.72"
      ],
      "text/plain": [
       "<IPython.core.display.Markdown object>"
      ]
     },
     "metadata": {},
     "output_type": "display_data"
    },
    {
     "data": {
      "text/markdown": [
       "**URL:** https://www.standardhotels.com/miami/properties/miami-beach"
      ],
      "text/plain": [
       "<IPython.core.display.Markdown object>"
      ]
     },
     "metadata": {},
     "output_type": "display_data"
    },
    {
     "data": {
      "text/markdown": [
       "**Snippet:** Great ambiance and attention to detail very clean. Amenities are dialed in. The staff were great and attentive. My massage therapist did a great jog communicating beforehand and allowed me to have a deep relaxing experience. "
      ],
      "text/plain": [
       "<IPython.core.display.Markdown object>"
      ]
     },
     "metadata": {},
     "output_type": "display_data"
    },
    {
     "data": {
      "text/markdown": [
       "**Metadata:**"
      ],
      "text/plain": [
       "<IPython.core.display.Markdown object>"
      ]
     },
     "metadata": {},
     "output_type": "display_data"
    },
    {
     "data": {
      "text/markdown": [
       "- type: HOTEL"
      ],
      "text/plain": [
       "<IPython.core.display.Markdown object>"
      ]
     },
     "metadata": {},
     "output_type": "display_data"
    },
    {
     "data": {
      "text/markdown": [
       "- rating: 4.5"
      ],
      "text/plain": [
       "<IPython.core.display.Markdown object>"
      ]
     },
     "metadata": {},
     "output_type": "display_data"
    },
    {
     "data": {
      "text/markdown": [
       "- hotel_class: 4.0"
      ],
      "text/plain": [
       "<IPython.core.display.Markdown object>"
      ]
     },
     "metadata": {},
     "output_type": "display_data"
    },
    {
     "data": {
      "text/markdown": [
       "- price_level: $$$$"
      ],
      "text/plain": [
       "<IPython.core.display.Markdown object>"
      ]
     },
     "metadata": {},
     "output_type": "display_data"
    },
    {
     "data": {
      "text/markdown": [
       "- price_range: $308 - $558"
      ],
      "text/plain": [
       "<IPython.core.display.Markdown object>"
      ]
     },
     "metadata": {},
     "output_type": "display_data"
    },
    {
     "data": {
      "text/markdown": [
       "- address: 40 Island Ave, Miami Beach, FL 33139-1355"
      ],
      "text/plain": [
       "<IPython.core.display.Markdown object>"
      ]
     },
     "metadata": {},
     "output_type": "display_data"
    },
    {
     "data": {
      "text/markdown": [
       "- amenities: []"
      ],
      "text/plain": [
       "<IPython.core.display.Markdown object>"
      ]
     },
     "metadata": {},
     "output_type": "display_data"
    },
    {
     "data": {
      "text/markdown": [
       "- number_of_reviews: 3368"
      ],
      "text/plain": [
       "<IPython.core.display.Markdown object>"
      ]
     },
     "metadata": {},
     "output_type": "display_data"
    },
    {
     "data": {
      "text/markdown": [
       "- ranking: #2 of 235 hotels in Miami Beach"
      ],
      "text/plain": [
       "<IPython.core.display.Markdown object>"
      ]
     },
     "metadata": {},
     "output_type": "display_data"
    },
    {
     "data": {
      "text/markdown": [
       "- phone: 13056975834"
      ],
      "text/plain": [
       "<IPython.core.display.Markdown object>"
      ]
     },
     "metadata": {},
     "output_type": "display_data"
    },
    {
     "data": {
      "text/markdown": [
       "<hr style=\"border-top: 1px dotted #bbb;\">"
      ],
      "text/plain": [
       "<IPython.core.display.Markdown object>"
      ]
     },
     "metadata": {},
     "output_type": "display_data"
    },
    {
     "data": {
      "text/markdown": [
       "<u>**LLM Analysis:**</u>"
      ],
      "text/plain": [
       "<IPython.core.display.Markdown object>"
      ]
     },
     "metadata": {},
     "output_type": "display_data"
    },
    {
     "data": {
      "text/markdown": [
       "Here are some key insights about The Standard Spa, Miami Beach hotel based on the provided search results:\n",
       "\n",
       "1. Relevance to query: This hotel seems to be a good match for the search query of \"luxury beachfront hotels with ocean view and spa facilities.\" It is located in Miami Beach and the name itself includes \"Spa\", indicating it likely has spa amenities. However, the snippet doesn't explicitly confirm ocean views.\n",
       "\n",
       "2. Guest experience: The review snippet suggests guests had a very positive experience, praising the ambiance, cleanliness, amenities, and attentive staff. The massage therapist is specifically complimented. This indicates the hotel delivers a high-quality, relaxing stay.\n",
       "\n",
       "3. Hotel class and price: With a 4-star hotel class and a price level of \"$$$$\", this is clearly a luxury property with prices on the higher end, ranging from $308 to $558. This aligns with the query for luxury hotels.\n",
       "\n",
       "4. Popularity: The Standard Spa boasts an impressive 3,368 reviews and is ranked #2 out of 235 hotels in Miami Beach. The 4.5 overall rating is also very high. This popularity and guest satisfaction suggests the hotel is delivering on its luxury experience.\n",
       "\n",
       "5. Amenities: While the amenities field is empty in the metadata, the hotel name and review snippet reference the spa facilities, which were a key part of the initial query. More details on the specific spa offerings would help further validate the relevance.\n",
       "\n",
       "In summary, The Standard Spa appears to be a strong match for the given query based on its beachfront location, luxury positioning, spa facilities, and very positive guest reviews. However, confirming the ocean views and providing more details on the spa and other amenities would help fully assess its suitability."
      ],
      "text/plain": [
       "<IPython.core.display.Markdown object>"
      ]
     },
     "metadata": {},
     "output_type": "display_data"
    },
    {
     "data": {
      "text/markdown": [
       "---"
      ],
      "text/plain": [
       "<IPython.core.display.Markdown object>"
      ]
     },
     "metadata": {},
     "output_type": "display_data"
    },
    {
     "data": {
      "text/markdown": [
       "### DUCKDUCKGO Results"
      ],
      "text/plain": [
       "<IPython.core.display.Markdown object>"
      ]
     },
     "metadata": {},
     "output_type": "display_data"
    },
    {
     "data": {
      "text/markdown": [
       "#### 1. THE 10 BEST United States Luxury Beach Resorts - Tripadvisor"
      ],
      "text/plain": [
       "<IPython.core.display.Markdown object>"
      ]
     },
     "metadata": {},
     "output_type": "display_data"
    },
    {
     "data": {
      "text/markdown": [
       "**Score:** 1.00"
      ],
      "text/plain": [
       "<IPython.core.display.Markdown object>"
      ]
     },
     "metadata": {},
     "output_type": "display_data"
    },
    {
     "data": {
      "text/markdown": [
       "**URL:** https://www.tripadvisor.com/HotelsList-United_States-Luxury-Beach-Resorts-zfp7789292.html"
      ],
      "text/plain": [
       "<IPython.core.display.Markdown object>"
      ]
     },
     "metadata": {},
     "output_type": "display_data"
    },
    {
     "data": {
      "text/markdown": [
       "**Snippet:** Every single staff member is welcoming and makes you feel special everywhere you go. We booked the one bedroom luxury suite and thought it was totally worth it. We had plenty of privacy and space to relax, plus a great area to enjoy in-room dining. All of the spa services were 5-stars and it's so wonderful to have one service included each day."
      ],
      "text/plain": [
       "<IPython.core.display.Markdown object>"
      ]
     },
     "metadata": {},
     "output_type": "display_data"
    },
    {
     "data": {
      "text/markdown": [
       "**Metadata:**"
      ],
      "text/plain": [
       "<IPython.core.display.Markdown object>"
      ]
     },
     "metadata": {},
     "output_type": "display_data"
    },
    {
     "data": {
      "text/markdown": [
       "- source_url: https://www.tripadvisor.com/HotelsList-United_States-Luxury-Beach-Resorts-zfp7789292.html"
      ],
      "text/plain": [
       "<IPython.core.display.Markdown object>"
      ]
     },
     "metadata": {},
     "output_type": "display_data"
    },
    {
     "data": {
      "text/markdown": [
       "- raw_result: {'title': 'THE 10 BEST United States Luxury Beach Resorts - Tripadvisor', 'href': 'https://www.tripadvisor.com/HotelsList-United_States-Luxury-Beach-Resorts-zfp7789292.html', 'body': \"Every single staff member is welcoming and makes you feel special everywhere you go. We booked the one bedroom luxury suite and thought it was totally worth it. We had plenty of privacy and space to relax, plus a great area to enjoy in-room dining. All of the spa services were 5-stars and it's so wonderful to have one service included each day.\"}"
      ],
      "text/plain": [
       "<IPython.core.display.Markdown object>"
      ]
     },
     "metadata": {},
     "output_type": "display_data"
    },
    {
     "data": {
      "text/markdown": [
       "<hr style=\"border-top: 1px dotted #bbb;\">"
      ],
      "text/plain": [
       "<IPython.core.display.Markdown object>"
      ]
     },
     "metadata": {},
     "output_type": "display_data"
    },
    {
     "data": {
      "text/markdown": [
       "<u>**LLM Analysis:**</u>"
      ],
      "text/plain": [
       "<IPython.core.display.Markdown object>"
      ]
     },
     "metadata": {},
     "output_type": "display_data"
    },
    {
     "data": {
      "text/markdown": [
       "Based on the provided hotel search result for \"luxury beachfront hotels with ocean view and spa facilities\", here are some insights:\n",
       "\n",
       "1. Location: The search result is for luxury beach resorts in the United States, indicating that the user is looking for high-end accommodations near the beach within the country.\n",
       "\n",
       "2. Amenities: The snippet mentions that the hotel offers spa services, with one service included each day. This aligns with the user's search for hotels with spa facilities, suggesting that this is an important factor in their decision-making process.\n",
       "\n",
       "3. Room types: The snippet highlights a one-bedroom luxury suite, which provided plenty of privacy, space to relax, and a great area for in-room dining. This suggests that the user may be interested in spacious, well-appointed rooms with additional amenities.\n",
       "\n",
       "4. Service quality: The review emphasizes the welcoming nature of the staff and the special treatment guests receive throughout their stay. This indicates that exceptional service is a key aspect of the luxury beach resort experience.\n",
       "\n",
       "5. Value perception: The reviewer mentions that booking the one-bedroom luxury suite was \"totally worth it,\" suggesting that despite potentially higher costs, the overall experience and amenities provided good value for money.\n",
       "\n",
       "In summary, the search result aligns well with the user's query for luxury beachfront hotels with ocean views and spa facilities in the United States. The snippet highlights the importance of spacious rooms, excellent service, and spa amenities in creating a satisfying luxury beach resort experience, which the user seems to value."
      ],
      "text/plain": [
       "<IPython.core.display.Markdown object>"
      ]
     },
     "metadata": {},
     "output_type": "display_data"
    },
    {
     "data": {
      "text/markdown": [
       "---"
      ],
      "text/plain": [
       "<IPython.core.display.Markdown object>"
      ]
     },
     "metadata": {},
     "output_type": "display_data"
    },
    {
     "data": {
      "text/markdown": [
       "#### 2. THE 10 BEST Hotels in Oceanfront (Miami Beach) 2025 - Tripadvisor"
      ],
      "text/plain": [
       "<IPython.core.display.Markdown object>"
      ]
     },
     "metadata": {},
     "output_type": "display_data"
    },
    {
     "data": {
      "text/markdown": [
       "**Score:** 1.00"
      ],
      "text/plain": [
       "<IPython.core.display.Markdown object>"
      ]
     },
     "metadata": {},
     "output_type": "display_data"
    },
    {
     "data": {
      "text/markdown": [
       "**URL:** https://www.tripadvisor.com/Hotels-g34439-zfn21001969-Miami_Beach_Florida-Hotels.html"
      ],
      "text/plain": [
       "<IPython.core.display.Markdown object>"
      ]
     },
     "metadata": {},
     "output_type": "display_data"
    },
    {
     "data": {
      "text/markdown": [
       "**Snippet:** Oceanfront, Miami Beach, is a neighborhood that offers an unmatched blend of sun, sea, and city life. With the endless Atlantic Ocean bordering one side and the famous Collins Avenue running parallel, it's a hub of high-end lifestyle and luxury."
      ],
      "text/plain": [
       "<IPython.core.display.Markdown object>"
      ]
     },
     "metadata": {},
     "output_type": "display_data"
    },
    {
     "data": {
      "text/markdown": [
       "**Metadata:**"
      ],
      "text/plain": [
       "<IPython.core.display.Markdown object>"
      ]
     },
     "metadata": {},
     "output_type": "display_data"
    },
    {
     "data": {
      "text/markdown": [
       "- source_url: https://www.tripadvisor.com/Hotels-g34439-zfn21001969-Miami_Beach_Florida-Hotels.html"
      ],
      "text/plain": [
       "<IPython.core.display.Markdown object>"
      ]
     },
     "metadata": {},
     "output_type": "display_data"
    },
    {
     "data": {
      "text/markdown": [
       "- raw_result: {'title': 'THE 10 BEST Hotels in Oceanfront (Miami Beach) 2025 - Tripadvisor', 'href': 'https://www.tripadvisor.com/Hotels-g34439-zfn21001969-Miami_Beach_Florida-Hotels.html', 'body': \"Oceanfront, Miami Beach, is a neighborhood that offers an unmatched blend of sun, sea, and city life. With the endless Atlantic Ocean bordering one side and the famous Collins Avenue running parallel, it's a hub of high-end lifestyle and luxury.\"}"
      ],
      "text/plain": [
       "<IPython.core.display.Markdown object>"
      ]
     },
     "metadata": {},
     "output_type": "display_data"
    },
    {
     "data": {
      "text/markdown": [
       "<hr style=\"border-top: 1px dotted #bbb;\">"
      ],
      "text/plain": [
       "<IPython.core.display.Markdown object>"
      ]
     },
     "metadata": {},
     "output_type": "display_data"
    },
    {
     "data": {
      "text/markdown": [
       "<u>**LLM Analysis:**</u>"
      ],
      "text/plain": [
       "<IPython.core.display.Markdown object>"
      ]
     },
     "metadata": {},
     "output_type": "display_data"
    },
    {
     "data": {
      "text/markdown": [
       "Here are some key insights about the hotel search results for \"luxury beachfront hotels with ocean view and spa facilities\":\n",
       "\n",
       "Location Highlights:\n",
       "- The results are for hotels in the Oceanfront neighborhood of Miami Beach, Florida. \n",
       "- This beachfront area offers a prime oceanside location along the Atlantic coast.\n",
       "- The famous Collins Avenue runs parallel to the beach, making this a desirable spot.\n",
       "\n",
       "Luxury and Lifestyle:\n",
       "- Oceanfront is described as a \"hub of high-end lifestyle and luxury.\"\n",
       "- The combination of beachfront access, ocean views, and proximity to Miami Beach's attractions make this an appealing upscale destination.\n",
       "\n",
       "Amenities:\n",
       "- While spa facilities were part of the original query, the snippet doesn't explicitly confirm if the hotels have spas. More details would be needed.\n",
       "- Ocean views seem very likely given the oceanfront location.\n",
       "\n",
       "Popularity:\n",
       "- This is a \"best hotels\" list for Oceanfront Miami Beach with a 2025 date, suggesting these are very popular, in-demand hotels to stay at, at least at the time the list was compiled.\n",
       "\n",
       "Overall, the Oceanfront neighborhood of Miami Beach looks to be a prime spot for travelers seeking luxury beachfront hotels, especially those who want to be near the action and excitement of Miami Beach. The oceanside location and high-end vibe align well with the original query, though more specifics on amenities like spas would help round out the picture. The area's popularity also indicates these hotels could be highly rated but may book up far in advance."
      ],
      "text/plain": [
       "<IPython.core.display.Markdown object>"
      ]
     },
     "metadata": {},
     "output_type": "display_data"
    },
    {
     "data": {
      "text/markdown": [
       "---"
      ],
      "text/plain": [
       "<IPython.core.display.Markdown object>"
      ]
     },
     "metadata": {},
     "output_type": "display_data"
    },
    {
     "data": {
      "text/markdown": [
       "### TRAVERSAAL Results"
      ],
      "text/plain": [
       "<IPython.core.display.Markdown object>"
      ]
     },
     "metadata": {},
     "output_type": "display_data"
    },
    {
     "data": {
      "text/markdown": [
       "#### 1. Traversaal Search Results"
      ],
      "text/plain": [
       "<IPython.core.display.Markdown object>"
      ]
     },
     "metadata": {},
     "output_type": "display_data"
    },
    {
     "data": {
      "text/markdown": [
       "**Score:** 1.00"
      ],
      "text/plain": [
       "<IPython.core.display.Markdown object>"
      ]
     },
     "metadata": {},
     "output_type": "display_data"
    },
    {
     "data": {
      "text/markdown": [
       "**URL:** https://www.pelicanbeach.com/"
      ],
      "text/plain": [
       "<IPython.core.display.Markdown object>"
      ]
     },
     "metadata": {},
     "output_type": "display_data"
    },
    {
     "data": {
      "text/markdown": [
       "**Snippet:** 1. **Pelican Grand Beach Resort: Ft Lauderdale Beach Hotel**\n",
       "   - Features: Spa tables with an ocean view, PURE Spa inspired by Swedish well-being, luxury rooftop spa overlooking the ocean.\n",
       "   - Location: Fort Lauderdale, Florida.\n",
       "   - Link: [Pelican Grand Beach Resort](https://www.pelicanbeach.com/)\n",
       "\n",
       "2. **Beach Club - Beachfront Luxury Hotel - The Boca Raton**\n",
       "   - Features: Access to a private beach and three oceanfront pools. The hotel is being reimagined and will take reservations starting December 2024.\n",
       "   - Location: Boca Raton, Florida.\n",
       "   - Link: [The Boca Raton Beach Club](https://www.thebocaraton.com/suites-rooms/beach-club/)\n",
       "\n",
       "3. **Eau Palm Beach Resort & Spa**\n",
       "   - Features: Forbes 5 Star luxury resort on a private beach, award-winning spa, Jonathan Adler designed rooms.\n",
       "   - Location: Palm Beach, Florida.\n",
       "   - Link: [Eau Palm Beach Resort & Spa](https://www.eaupalmbeach.com/)\n",
       "\n",
       "4. **The Palms Hotel & Spa**\n",
       "   - Features: Spa-inspired guest rooms with breathtaking ocean views, large tropical gardens.\n",
       "   - Location: Miami Beach, Florida.\n",
       "   - Link: [The Palms Hotel & Spa](https://www.thepalmshotel.com/)\n",
       "\n",
       "5. **Ocean Manor Beach Resort**\n",
       "   - Features: Luxurious beachfront destination with world-class amenities and oceanfront rooms.\n",
       "   - Location: Fort Lauderdale, Florida.\n",
       "   - Link: [Ocean Manor Beach Resort](https://oceanmanor.com/)\n",
       "\n",
       "6. **Acqualina Resort: Luxury Beach Resort in Miami Beach**\n",
       "   - Features: 5-star luxury oceanfront resort with award-winning spa and top-notch services.\n",
       "   - Location: Sunny Isles, Florida.\n",
       "   - Link: [Acqualina Resort](https://www.acqualinaresort.com/)\n",
       "\n",
       "7. **Luxury Wellness at Amrit Wellness Resort & Spa**\n",
       "   - Features: Complimentary room upgrade, one 50-minute spa treatment per guest, unlimited Aayush with a two-night stay or more.\n",
       "   - Location: Not specified.\n",
       "   - Link: [Amrit Wellness Resort & Spa](https://www.amritocean.com/)\n",
       "\n",
       "8. **Carillon Miami Wellness Resort**\n",
       "   - Features: Largest spa and wellness facility on the East Coast, unmatched wellness journey.\n",
       "   - Location: Miami Beach, Florida.\n",
       "   - Link: [Carillon Miami Beach Hotel](https://www.carillonhotel.com/en/)\n",
       "\n",
       "9. **Fort Lauderdale Marriott Harbor Beach Resort & Spa**\n",
       "   - Features: 22,000-square-foot full-service spa offering massages, facials, body scrubs, and other treatments.\n",
       "   - Location: Fort Lauderdale, Florida.\n",
       "   - Link: [Fort Lauderdale Marriott Harbor Beach Resort & Spa](https://www.marriott.com/en-us/hotels/fllsb-fort-lauderdale-marriott-harbor-beach-resort-and-spa/overview/)\n",
       "\n",
       "10. **THE 10 BEST Spa Hotels on the Beach in Florida - Tripadvisor**\n",
       "    - Features: Beautifully landscaped oceanfront property with amenities including pools, restaurants, bars, beaches, views, concierge, fitness center, and spa.\n",
       "    - Location: Not specified.\n",
       "    - Link: [Tripadvisor Spa Hotels](https://www.tripadvisor.com/HotelsList-Florida-Beachfront-Spa-Hotels-Motels-zfp14257442.html)"
      ],
      "text/plain": [
       "<IPython.core.display.Markdown object>"
      ]
     },
     "metadata": {},
     "output_type": "display_data"
    },
    {
     "data": {
      "text/markdown": [
       "**Metadata:**"
      ],
      "text/plain": [
       "<IPython.core.display.Markdown object>"
      ]
     },
     "metadata": {},
     "output_type": "display_data"
    },
    {
     "data": {
      "text/markdown": [
       "- web_urls: ['https://www.pelicanbeach.com/', 'https://www.thebocaraton.com/suites-rooms/beach-club/', 'https://www.eaupalmbeach.com/', 'https://www.thepalmshotel.com/', 'https://oceanmanor.com/', 'https://www.acqualinaresort.com/', 'https://www.amritocean.com/', 'https://www.carillonhotel.com/en/', 'https://www.marriott.com/en-us/hotels/fllsb-fort-lauderdale-marriott-harbor-beach-resort-and-spa/overview/']"
      ],
      "text/plain": [
       "<IPython.core.display.Markdown object>"
      ]
     },
     "metadata": {},
     "output_type": "display_data"
    },
    {
     "data": {
      "text/markdown": [
       "- query: luxury beachfront hotels with ocean view and spa facilities"
      ],
      "text/plain": [
       "<IPython.core.display.Markdown object>"
      ]
     },
     "metadata": {},
     "output_type": "display_data"
    },
    {
     "data": {
      "text/markdown": [
       "**Raw Response:**"
      ],
      "text/plain": [
       "<IPython.core.display.Markdown object>"
      ]
     },
     "metadata": {},
     "output_type": "display_data"
    },
    {
     "data": {
      "application/json": {
       "data": {
        "response_text": "1. **Pelican Grand Beach Resort: Ft Lauderdale Beach Hotel**\n   - Features: Spa tables with an ocean view, PURE Spa inspired by Swedish well-being, luxury rooftop spa overlooking the ocean.\n   - Location: Fort Lauderdale, Florida.\n   - Link: [Pelican Grand Beach Resort](https://www.pelicanbeach.com/)\n\n2. **Beach Club - Beachfront Luxury Hotel - The Boca Raton**\n   - Features: Access to a private beach and three oceanfront pools. The hotel is being reimagined and will take reservations starting December 2024.\n   - Location: Boca Raton, Florida.\n   - Link: [The Boca Raton Beach Club](https://www.thebocaraton.com/suites-rooms/beach-club/)\n\n3. **Eau Palm Beach Resort & Spa**\n   - Features: Forbes 5 Star luxury resort on a private beach, award-winning spa, Jonathan Adler designed rooms.\n   - Location: Palm Beach, Florida.\n   - Link: [Eau Palm Beach Resort & Spa](https://www.eaupalmbeach.com/)\n\n4. **The Palms Hotel & Spa**\n   - Features: Spa-inspired guest rooms with breathtaking ocean views, large tropical gardens.\n   - Location: Miami Beach, Florida.\n   - Link: [The Palms Hotel & Spa](https://www.thepalmshotel.com/)\n\n5. **Ocean Manor Beach Resort**\n   - Features: Luxurious beachfront destination with world-class amenities and oceanfront rooms.\n   - Location: Fort Lauderdale, Florida.\n   - Link: [Ocean Manor Beach Resort](https://oceanmanor.com/)\n\n6. **Acqualina Resort: Luxury Beach Resort in Miami Beach**\n   - Features: 5-star luxury oceanfront resort with award-winning spa and top-notch services.\n   - Location: Sunny Isles, Florida.\n   - Link: [Acqualina Resort](https://www.acqualinaresort.com/)\n\n7. **Luxury Wellness at Amrit Wellness Resort & Spa**\n   - Features: Complimentary room upgrade, one 50-minute spa treatment per guest, unlimited Aayush with a two-night stay or more.\n   - Location: Not specified.\n   - Link: [Amrit Wellness Resort & Spa](https://www.amritocean.com/)\n\n8. **Carillon Miami Wellness Resort**\n   - Features: Largest spa and wellness facility on the East Coast, unmatched wellness journey.\n   - Location: Miami Beach, Florida.\n   - Link: [Carillon Miami Beach Hotel](https://www.carillonhotel.com/en/)\n\n9. **Fort Lauderdale Marriott Harbor Beach Resort & Spa**\n   - Features: 22,000-square-foot full-service spa offering massages, facials, body scrubs, and other treatments.\n   - Location: Fort Lauderdale, Florida.\n   - Link: [Fort Lauderdale Marriott Harbor Beach Resort & Spa](https://www.marriott.com/en-us/hotels/fllsb-fort-lauderdale-marriott-harbor-beach-resort-and-spa/overview/)\n\n10. **THE 10 BEST Spa Hotels on the Beach in Florida - Tripadvisor**\n    - Features: Beautifully landscaped oceanfront property with amenities including pools, restaurants, bars, beaches, views, concierge, fitness center, and spa.\n    - Location: Not specified.\n    - Link: [Tripadvisor Spa Hotels](https://www.tripadvisor.com/HotelsList-Florida-Beachfront-Spa-Hotels-Motels-zfp14257442.html)",
        "web_url": [
         "https://www.pelicanbeach.com/",
         "https://www.thebocaraton.com/suites-rooms/beach-club/",
         "https://www.eaupalmbeach.com/",
         "https://www.thepalmshotel.com/",
         "https://oceanmanor.com/",
         "https://www.acqualinaresort.com/",
         "https://www.amritocean.com/",
         "https://www.carillonhotel.com/en/",
         "https://www.marriott.com/en-us/hotels/fllsb-fort-lauderdale-marriott-harbor-beach-resort-and-spa/overview/"
        ]
       }
      },
      "text/plain": [
       "<IPython.core.display.JSON object>"
      ]
     },
     "metadata": {
      "application/json": {
       "expanded": false,
       "root": "root"
      }
     },
     "output_type": "display_data"
    },
    {
     "data": {
      "text/markdown": [
       "<hr style=\"border-top: 1px dotted #bbb;\">"
      ],
      "text/plain": [
       "<IPython.core.display.Markdown object>"
      ]
     },
     "metadata": {},
     "output_type": "display_data"
    },
    {
     "data": {
      "text/markdown": [
       "<u>**LLM Analysis:**</u>"
      ],
      "text/plain": [
       "<IPython.core.display.Markdown object>"
      ]
     },
     "metadata": {},
     "output_type": "display_data"
    },
    {
     "data": {
      "text/markdown": [
       "Based on the hotel search results for \"luxury beachfront hotels with ocean view and spa facilities\", here are some key insights:\n",
       "\n",
       "1. Location concentration:\n",
       "   - Most of the top luxury beachfront hotels with spa facilities are located in Florida, specifically in the cities of Fort Lauderdale, Miami Beach, Boca Raton, and Palm Beach.\n",
       "   - This suggests that Florida, particularly the southeastern coast, is a popular destination for luxury beachfront hotels with spa amenities.\n",
       "\n",
       "2. Spa features:\n",
       "   - Many of the hotels highlight their spa facilities as a key selling point, with some offering unique or extensive spa experiences.\n",
       "   - Examples include the PURE Spa inspired by Swedish well-being at Pelican Grand Beach Resort, the award-winning spa at Eau Palm Beach Resort & Spa, and the largest spa and wellness facility on the East Coast at Carillon Miami Wellness Resort.\n",
       "   - This indicates that spa facilities are a significant factor in attracting guests to these luxury beachfront hotels.\n",
       "\n",
       "3. Ocean views:\n",
       "   - Several hotels emphasize their ocean views, with some offering spa-inspired guest rooms or spa tables with direct ocean views.\n",
       "   - This suggests that the combination of spa facilities and stunning ocean views is a sought-after feature for luxury beachfront hotels.\n",
       "\n",
       "4. Private beaches and pools:\n",
       "   - Some hotels, such as the Beach Club at The Boca Raton and Eau Palm Beach Resort & Spa, promote their access to private beaches or oceanfront pools as an exclusive amenity.\n",
       "   - This implies that guests value the privacy and exclusivity offered by these luxury beachfront hotels.\n",
       "\n",
       "5. Brand reputation:\n",
       "   - The list includes well-known hotel brands such as Marriott and Acqualina, which are known for their luxury offerings and high-quality services.\n",
       "   - This suggests that brand reputation plays a role in attracting guests to these luxury beachfront hotels with spa facilities.\n",
       "\n",
       "Overall, these search results indicate that Florida, particularly the southeastern coast, is a prime location for luxury beachfront hotels with spa facilities, ocean views, private beaches, and pools. The combination of these amenities, along with brand reputation, makes these hotels attractive to guests seeking a luxurious and relaxing beachfront experience."
      ],
      "text/plain": [
       "<IPython.core.display.Markdown object>"
      ]
     },
     "metadata": {},
     "output_type": "display_data"
    },
    {
     "data": {
      "text/markdown": [
       "---"
      ],
      "text/plain": [
       "<IPython.core.display.Markdown object>"
      ]
     },
     "metadata": {},
     "output_type": "display_data"
    },
    {
     "data": {
      "text/markdown": [
       "### QDRANT Results"
      ],
      "text/plain": [
       "<IPython.core.display.Markdown object>"
      ]
     },
     "metadata": {},
     "output_type": "display_data"
    },
    {
     "data": {
      "text/markdown": [
       "#### 1. The Palms Hotel & Spa"
      ],
      "text/plain": [
       "<IPython.core.display.Markdown object>"
      ]
     },
     "metadata": {},
     "output_type": "display_data"
    },
    {
     "data": {
      "text/markdown": [
       "**Score:** 0.73"
      ],
      "text/plain": [
       "<IPython.core.display.Markdown object>"
      ]
     },
     "metadata": {},
     "output_type": "display_data"
    },
    {
     "data": {
      "text/markdown": [
       "**URL:** http://www.thepalmshotel.com/"
      ],
      "text/plain": [
       "<IPython.core.display.Markdown object>"
      ]
     },
     "metadata": {},
     "output_type": "display_data"
    },
    {
     "data": {
      "text/markdown": [
       "**Snippet:** The room and view was wonderful. Service was very good. I would recommend to friends and family. The beach is paradise. Memories will last you a lifetime. Will return every chance I get. Nathalie at the front desk was amazing \n"
      ],
      "text/plain": [
       "<IPython.core.display.Markdown object>"
      ]
     },
     "metadata": {},
     "output_type": "display_data"
    },
    {
     "data": {
      "text/markdown": [
       "**Metadata:**"
      ],
      "text/plain": [
       "<IPython.core.display.Markdown object>"
      ]
     },
     "metadata": {},
     "output_type": "display_data"
    },
    {
     "data": {
      "text/markdown": [
       "- name: The Palms Hotel & Spa"
      ],
      "text/plain": [
       "<IPython.core.display.Markdown object>"
      ]
     },
     "metadata": {},
     "output_type": "display_data"
    },
    {
     "data": {
      "text/markdown": [
       "- type: HOTEL"
      ],
      "text/plain": [
       "<IPython.core.display.Markdown object>"
      ]
     },
     "metadata": {},
     "output_type": "display_data"
    },
    {
     "data": {
      "text/markdown": [
       "- rating: 4.5"
      ],
      "text/plain": [
       "<IPython.core.display.Markdown object>"
      ]
     },
     "metadata": {},
     "output_type": "display_data"
    },
    {
     "data": {
      "text/markdown": [
       "- hotel_class: 4.0"
      ],
      "text/plain": [
       "<IPython.core.display.Markdown object>"
      ]
     },
     "metadata": {},
     "output_type": "display_data"
    },
    {
     "data": {
      "text/markdown": [
       "- price_level: $$$$"
      ],
      "text/plain": [
       "<IPython.core.display.Markdown object>"
      ]
     },
     "metadata": {},
     "output_type": "display_data"
    },
    {
     "data": {
      "text/markdown": [
       "- price_range: $325 - $511"
      ],
      "text/plain": [
       "<IPython.core.display.Markdown object>"
      ]
     },
     "metadata": {},
     "output_type": "display_data"
    },
    {
     "data": {
      "text/markdown": [
       "- address: 3025 Collins Ave, Miami Beach, FL 33140-4106"
      ],
      "text/plain": [
       "<IPython.core.display.Markdown object>"
      ]
     },
     "metadata": {},
     "output_type": "display_data"
    },
    {
     "data": {
      "text/markdown": [
       "- amenities: []"
      ],
      "text/plain": [
       "<IPython.core.display.Markdown object>"
      ]
     },
     "metadata": {},
     "output_type": "display_data"
    },
    {
     "data": {
      "text/markdown": [
       "- review: The room and view was wonderful. Service was very good. I would recommend to friends and family. The beach is paradise. Memories will last you a lifetime. Will return every chance I get. Nathalie at the front desk was amazing \n"
      ],
      "text/plain": [
       "<IPython.core.display.Markdown object>"
      ]
     },
     "metadata": {},
     "output_type": "display_data"
    },
    {
     "data": {
      "text/markdown": [
       "- number_of_reviews: 5034"
      ],
      "text/plain": [
       "<IPython.core.display.Markdown object>"
      ]
     },
     "metadata": {},
     "output_type": "display_data"
    },
    {
     "data": {
      "text/markdown": [
       "- ranking: #50 of 235 hotels in Miami Beach"
      ],
      "text/plain": [
       "<IPython.core.display.Markdown object>"
      ]
     },
     "metadata": {},
     "output_type": "display_data"
    },
    {
     "data": {
      "text/markdown": [
       "- phone: 17864203219"
      ],
      "text/plain": [
       "<IPython.core.display.Markdown object>"
      ]
     },
     "metadata": {},
     "output_type": "display_data"
    },
    {
     "data": {
      "text/markdown": [
       "- website: http://www.thepalmshotel.com/"
      ],
      "text/plain": [
       "<IPython.core.display.Markdown object>"
      ]
     },
     "metadata": {},
     "output_type": "display_data"
    },
    {
     "data": {
      "text/markdown": [
       "<hr style=\"border-top: 1px dotted #bbb;\">"
      ],
      "text/plain": [
       "<IPython.core.display.Markdown object>"
      ]
     },
     "metadata": {},
     "output_type": "display_data"
    },
    {
     "data": {
      "text/markdown": [
       "<u>**LLM Analysis:**</u>"
      ],
      "text/plain": [
       "<IPython.core.display.Markdown object>"
      ]
     },
     "metadata": {},
     "output_type": "display_data"
    },
    {
     "data": {
      "text/markdown": [
       "Here are some key insights about The Palms Hotel & Spa based on the provided search results:\n",
       "\n",
       "1. Relevance to query: The hotel seems highly relevant to the search for \"luxury beachfront hotels with ocean view and spa facilities.\" It is located directly on the beach in Miami Beach and the snippet mentions wonderful room views, suggesting many rooms have ocean views. The name also includes \"Spa\" indicating it likely has spa facilities.\n",
       "\n",
       "2. High rating and class: With a 4.5 out of 5 rating and a 4-star hotel class, The Palms Hotel & Spa is a top-rated upscale property. This aligns with the \"luxury\" criteria in the query.\n",
       "\n",
       "3. Expensive pricing: The price range of $325 - $511 and $$$$ price level suggest this is a expensive hotel, which is expected for a luxury beachfront property with a spa. \n",
       "\n",
       "4. Excellent beachfront location: Based on the address on Collins Ave in Miami Beach and mentions of \"the beach is paradise\", the hotel seems to have a prime beachfront location that leaves a lasting positive impression on guests.\n",
       "\n",
       "5. Memorable experience: The snippet emphasizes that staying here results in wonderful, lifelong memories. The exceptional service, including a staff member named Nathalie, seems to contribute to a memorable guest experience.\n",
       "\n",
       "6. Popular and recommended: With over 5,000 reviews, this is a popular hotel. The snippet also directly states \"I would recommend to friends and family\", suggesting guests highly recommend the property to others after positive stays.\n",
       "\n",
       "In summary, The Palms Hotel & Spa appears to be a highly relevant match for this query as a popular, well-rated, upscale beachfront hotel providing excellent ocean views, spa amenities, and memorable stays in Miami Beach. The expensive pricing aligns with its luxury positioning."
      ],
      "text/plain": [
       "<IPython.core.display.Markdown object>"
      ]
     },
     "metadata": {},
     "output_type": "display_data"
    },
    {
     "data": {
      "text/markdown": [
       "---"
      ],
      "text/plain": [
       "<IPython.core.display.Markdown object>"
      ]
     },
     "metadata": {},
     "output_type": "display_data"
    },
    {
     "data": {
      "text/markdown": [
       "#### 2. The Standard Spa, Miami Beach"
      ],
      "text/plain": [
       "<IPython.core.display.Markdown object>"
      ]
     },
     "metadata": {},
     "output_type": "display_data"
    },
    {
     "data": {
      "text/markdown": [
       "**Score:** 0.72"
      ],
      "text/plain": [
       "<IPython.core.display.Markdown object>"
      ]
     },
     "metadata": {},
     "output_type": "display_data"
    },
    {
     "data": {
      "text/markdown": [
       "**URL:** https://www.standardhotels.com/miami/properties/miami-beach"
      ],
      "text/plain": [
       "<IPython.core.display.Markdown object>"
      ]
     },
     "metadata": {},
     "output_type": "display_data"
    },
    {
     "data": {
      "text/markdown": [
       "**Snippet:** Great ambiance and attention to detail very clean. Amenities are dialed in. The staff were great and attentive. My massage therapist did a great jog communicating beforehand and allowed me to have a deep relaxing experience. "
      ],
      "text/plain": [
       "<IPython.core.display.Markdown object>"
      ]
     },
     "metadata": {},
     "output_type": "display_data"
    },
    {
     "data": {
      "text/markdown": [
       "**Metadata:**"
      ],
      "text/plain": [
       "<IPython.core.display.Markdown object>"
      ]
     },
     "metadata": {},
     "output_type": "display_data"
    },
    {
     "data": {
      "text/markdown": [
       "- name: The Standard Spa, Miami Beach"
      ],
      "text/plain": [
       "<IPython.core.display.Markdown object>"
      ]
     },
     "metadata": {},
     "output_type": "display_data"
    },
    {
     "data": {
      "text/markdown": [
       "- type: HOTEL"
      ],
      "text/plain": [
       "<IPython.core.display.Markdown object>"
      ]
     },
     "metadata": {},
     "output_type": "display_data"
    },
    {
     "data": {
      "text/markdown": [
       "- rating: 4.5"
      ],
      "text/plain": [
       "<IPython.core.display.Markdown object>"
      ]
     },
     "metadata": {},
     "output_type": "display_data"
    },
    {
     "data": {
      "text/markdown": [
       "- hotel_class: 4.0"
      ],
      "text/plain": [
       "<IPython.core.display.Markdown object>"
      ]
     },
     "metadata": {},
     "output_type": "display_data"
    },
    {
     "data": {
      "text/markdown": [
       "- price_level: $$$$"
      ],
      "text/plain": [
       "<IPython.core.display.Markdown object>"
      ]
     },
     "metadata": {},
     "output_type": "display_data"
    },
    {
     "data": {
      "text/markdown": [
       "- price_range: $308 - $558"
      ],
      "text/plain": [
       "<IPython.core.display.Markdown object>"
      ]
     },
     "metadata": {},
     "output_type": "display_data"
    },
    {
     "data": {
      "text/markdown": [
       "- address: 40 Island Ave, Miami Beach, FL 33139-1355"
      ],
      "text/plain": [
       "<IPython.core.display.Markdown object>"
      ]
     },
     "metadata": {},
     "output_type": "display_data"
    },
    {
     "data": {
      "text/markdown": [
       "- amenities: []"
      ],
      "text/plain": [
       "<IPython.core.display.Markdown object>"
      ]
     },
     "metadata": {},
     "output_type": "display_data"
    },
    {
     "data": {
      "text/markdown": [
       "- review: Great ambiance and attention to detail very clean. Amenities are dialed in. The staff were great and attentive. My massage therapist did a great jog communicating beforehand and allowed me to have a deep relaxing experience. "
      ],
      "text/plain": [
       "<IPython.core.display.Markdown object>"
      ]
     },
     "metadata": {},
     "output_type": "display_data"
    },
    {
     "data": {
      "text/markdown": [
       "- number_of_reviews: 3368"
      ],
      "text/plain": [
       "<IPython.core.display.Markdown object>"
      ]
     },
     "metadata": {},
     "output_type": "display_data"
    },
    {
     "data": {
      "text/markdown": [
       "- ranking: #2 of 235 hotels in Miami Beach"
      ],
      "text/plain": [
       "<IPython.core.display.Markdown object>"
      ]
     },
     "metadata": {},
     "output_type": "display_data"
    },
    {
     "data": {
      "text/markdown": [
       "- phone: 13056975834"
      ],
      "text/plain": [
       "<IPython.core.display.Markdown object>"
      ]
     },
     "metadata": {},
     "output_type": "display_data"
    },
    {
     "data": {
      "text/markdown": [
       "- website: https://www.standardhotels.com/miami/properties/miami-beach"
      ],
      "text/plain": [
       "<IPython.core.display.Markdown object>"
      ]
     },
     "metadata": {},
     "output_type": "display_data"
    },
    {
     "data": {
      "text/markdown": [
       "<hr style=\"border-top: 1px dotted #bbb;\">"
      ],
      "text/plain": [
       "<IPython.core.display.Markdown object>"
      ]
     },
     "metadata": {},
     "output_type": "display_data"
    },
    {
     "data": {
      "text/markdown": [
       "<u>**LLM Analysis:**</u>"
      ],
      "text/plain": [
       "<IPython.core.display.Markdown object>"
      ]
     },
     "metadata": {},
     "output_type": "display_data"
    },
    {
     "data": {
      "text/markdown": [
       "Here are a few key insights about the hotel search result for \"The Standard Spa, Miami Beach\":\n",
       "\n",
       "1. Relevance to query: This hotel seems highly relevant to the original search query for \"luxury beachfront hotels with ocean view and spa facilities\". It is located in Miami Beach, has a spa, and based on the name likely has an oceanfront location.\n",
       "\n",
       "2. High rating and class: With a 4.5 star rating and 4-star hotel class, this property appears to be a high-end, luxury hotel which aligns with the query. It ranks #2 out of 235 hotels in Miami Beach.\n",
       "\n",
       "3. Expensive pricing: The price range of $308-$558 and $$$$ price level indicate this is a very expensive hotel, as expected for a luxury beachfront property with spa amenities. \n",
       "\n",
       "4. Popular with guests: The high number of reviews (3,368) suggests this is a popular hotel that many travelers have stayed at and rated highly.\n",
       "\n",
       "5. Quality spa facilities: The review snippet highlights the spa in particular, praising the skilled massage therapists and relaxing experience. This indicates the spa is a standout amenity.\n",
       "\n",
       "6. Attentive service: The staff are described as \"great and attentive\", which is important for a luxury hotel experience. The attention to detail and cleanliness are also mentioned positively.\n",
       "\n",
       "In summary, The Standard Spa appears to be a highly-rated, popular luxury hotel that matches the original query very well, with its beachfront location, excellent spa, and high-end service and amenities. The expensive price point is expected for this tier of hotel."
      ],
      "text/plain": [
       "<IPython.core.display.Markdown object>"
      ]
     },
     "metadata": {},
     "output_type": "display_data"
    },
    {
     "data": {
      "text/markdown": [
       "---"
      ],
      "text/plain": [
       "<IPython.core.display.Markdown object>"
      ]
     },
     "metadata": {},
     "output_type": "display_data"
    }
   ],
   "source": [
    "# Search for luxury beachfront hotels\n",
    "search_hotels(\"luxury beachfront hotels with ocean view and spa facilities\")"
   ]
  }
 ],
 "metadata": {
  "kernelspec": {
   "display_name": "Python 3",
   "language": "python",
   "name": "python3"
  },
  "language_info": {
   "codemirror_mode": {
    "name": "ipython",
    "version": 3
   },
   "file_extension": ".py",
   "mimetype": "text/x-python",
   "name": "python",
   "nbconvert_exporter": "python",
   "pygments_lexer": "ipython3",
   "version": "3.12.9"
  }
 },
 "nbformat": 4,
 "nbformat_minor": 5
}
