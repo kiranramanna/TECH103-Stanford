{
 "cells": [
  {
   "cell_type": "markdown",
   "id": "8750307c",
   "metadata": {},
   "source": [
    "# Miami Hotel Search Engine Demo\n",
    "\n",
    "This notebook demonstrates four different hotel search engines:\n",
    "1. Generic Search Engine API\n",
    "2. DuckDuckGo Search\n",
    "3. Traversaal Search\n",
    "4. Local Qdrant Vector Search\n",
    "\n",
    "Each engine has its own strengths and use cases:\n",
    "- Generic Search: Broad web search with customizable parameters\n",
    "- DuckDuckGo: Privacy-focused search with real-time results\n",
    "- Traversaal: Specialized hotel search with rich metadata\n",
    "- Qdrant Local: Fast semantic search with local data"
   ]
  },
  {
   "cell_type": "code",
   "execution_count": 71,
   "id": "afac71e8",
   "metadata": {},
   "outputs": [
    {
     "name": "stderr",
     "output_type": "stream",
     "text": [
      "huggingface/tokenizers: The current process just got forked, after parallelism has already been used. Disabling parallelism to avoid deadlocks...\n",
      "To disable this warning, you can either:\n",
      "\t- Avoid using `tokenizers` before the fork if possible\n",
      "\t- Explicitly set the environment variable TOKENIZERS_PARALLELISM=(true | false)\n"
     ]
    },
    {
     "name": "stdout",
     "output_type": "stream",
     "text": [
      "Looking in indexes: https://pypi.org/simple, https://pypi.ngc.nvidia.com\n",
      "Requirement already satisfied: pandas>=1.5.0 in /Users/kiran.ramanna/anaconda3/envs/ais_ml1/lib/python3.12/site-packages (from -r ../requirements.txt (line 1)) (2.2.3)\n",
      "Requirement already satisfied: sentence-transformers>=2.2.0 in /Users/kiran.ramanna/anaconda3/envs/ais_ml1/lib/python3.12/site-packages (from -r ../requirements.txt (line 2)) (3.3.1)\n",
      "Requirement already satisfied: qdrant-client>=1.1.0 in /Users/kiran.ramanna/anaconda3/envs/ais_ml1/lib/python3.12/site-packages (from -r ../requirements.txt (line 3)) (1.14.2)\n",
      "Requirement already satisfied: duckduckgo-search>=3.9.0 in /Users/kiran.ramanna/anaconda3/envs/ais_ml1/lib/python3.12/site-packages (from -r ../requirements.txt (line 4)) (8.0.1)\n",
      "Requirement already satisfied: requests>=2.28.0 in /Users/kiran.ramanna/anaconda3/envs/ais_ml1/lib/python3.12/site-packages (from -r ../requirements.txt (line 5)) (2.32.3)\n",
      "Requirement already satisfied: python-dotenv>=0.19.0 in /Users/kiran.ramanna/anaconda3/envs/ais_ml1/lib/python3.12/site-packages (from -r ../requirements.txt (line 6)) (1.0.1)\n",
      "Requirement already satisfied: pydantic>=1.10.0 in /Users/kiran.ramanna/anaconda3/envs/ais_ml1/lib/python3.12/site-packages (from -r ../requirements.txt (line 7)) (2.10.2)\n",
      "Requirement already satisfied: tqdm>=4.65.0 in /Users/kiran.ramanna/anaconda3/envs/ais_ml1/lib/python3.12/site-packages (from -r ../requirements.txt (line 8)) (4.67.1)\n",
      "Requirement already satisfied: numpy>=1.26.0 in /Users/kiran.ramanna/anaconda3/envs/ais_ml1/lib/python3.12/site-packages (from pandas>=1.5.0->-r ../requirements.txt (line 1)) (1.26.4)\n",
      "Requirement already satisfied: python-dateutil>=2.8.2 in /Users/kiran.ramanna/anaconda3/envs/ais_ml1/lib/python3.12/site-packages (from pandas>=1.5.0->-r ../requirements.txt (line 1)) (2.9.0.post0)\n",
      "Requirement already satisfied: pytz>=2020.1 in /Users/kiran.ramanna/anaconda3/envs/ais_ml1/lib/python3.12/site-packages (from pandas>=1.5.0->-r ../requirements.txt (line 1)) (2024.2)\n",
      "Requirement already satisfied: tzdata>=2022.7 in /Users/kiran.ramanna/anaconda3/envs/ais_ml1/lib/python3.12/site-packages (from pandas>=1.5.0->-r ../requirements.txt (line 1)) (2024.2)\n",
      "Requirement already satisfied: transformers<5.0.0,>=4.41.0 in /Users/kiran.ramanna/anaconda3/envs/ais_ml1/lib/python3.12/site-packages (from sentence-transformers>=2.2.0->-r ../requirements.txt (line 2)) (4.46.3)\n",
      "Requirement already satisfied: torch>=1.11.0 in /Users/kiran.ramanna/anaconda3/envs/ais_ml1/lib/python3.12/site-packages (from sentence-transformers>=2.2.0->-r ../requirements.txt (line 2)) (2.5.1)\n",
      "Requirement already satisfied: scikit-learn in /Users/kiran.ramanna/anaconda3/envs/ais_ml1/lib/python3.12/site-packages (from sentence-transformers>=2.2.0->-r ../requirements.txt (line 2)) (1.5.2)\n",
      "Requirement already satisfied: scipy in /Users/kiran.ramanna/anaconda3/envs/ais_ml1/lib/python3.12/site-packages (from sentence-transformers>=2.2.0->-r ../requirements.txt (line 2)) (1.14.1)\n",
      "Requirement already satisfied: huggingface-hub>=0.20.0 in /Users/kiran.ramanna/anaconda3/envs/ais_ml1/lib/python3.12/site-packages (from sentence-transformers>=2.2.0->-r ../requirements.txt (line 2)) (0.30.2)\n",
      "Requirement already satisfied: Pillow in /Users/kiran.ramanna/anaconda3/envs/ais_ml1/lib/python3.12/site-packages (from sentence-transformers>=2.2.0->-r ../requirements.txt (line 2)) (11.0.0)\n",
      "Requirement already satisfied: grpcio>=1.41.0 in /Users/kiran.ramanna/anaconda3/envs/ais_ml1/lib/python3.12/site-packages (from qdrant-client>=1.1.0->-r ../requirements.txt (line 3)) (1.70.0)\n",
      "Requirement already satisfied: httpx>=0.20.0 in /Users/kiran.ramanna/anaconda3/envs/ais_ml1/lib/python3.12/site-packages (from httpx[http2]>=0.20.0->qdrant-client>=1.1.0->-r ../requirements.txt (line 3)) (0.27.2)\n",
      "Requirement already satisfied: portalocker<3.0.0,>=2.7.0 in /Users/kiran.ramanna/anaconda3/envs/ais_ml1/lib/python3.12/site-packages (from qdrant-client>=1.1.0->-r ../requirements.txt (line 3)) (2.10.1)\n",
      "Requirement already satisfied: protobuf>=3.20.0 in /Users/kiran.ramanna/anaconda3/envs/ais_ml1/lib/python3.12/site-packages (from qdrant-client>=1.1.0->-r ../requirements.txt (line 3)) (5.28.3)\n",
      "Requirement already satisfied: urllib3<3,>=1.26.14 in /Users/kiran.ramanna/anaconda3/envs/ais_ml1/lib/python3.12/site-packages (from qdrant-client>=1.1.0->-r ../requirements.txt (line 3)) (2.2.3)\n",
      "Requirement already satisfied: click>=8.1.8 in /Users/kiran.ramanna/anaconda3/envs/ais_ml1/lib/python3.12/site-packages (from duckduckgo-search>=3.9.0->-r ../requirements.txt (line 4)) (8.1.8)\n",
      "Requirement already satisfied: primp>=0.15.0 in /Users/kiran.ramanna/anaconda3/envs/ais_ml1/lib/python3.12/site-packages (from duckduckgo-search>=3.9.0->-r ../requirements.txt (line 4)) (0.15.0)\n",
      "Requirement already satisfied: lxml>=5.3.0 in /Users/kiran.ramanna/anaconda3/envs/ais_ml1/lib/python3.12/site-packages (from duckduckgo-search>=3.9.0->-r ../requirements.txt (line 4)) (5.4.0)\n",
      "Requirement already satisfied: charset-normalizer<4,>=2 in /Users/kiran.ramanna/anaconda3/envs/ais_ml1/lib/python3.12/site-packages (from requests>=2.28.0->-r ../requirements.txt (line 5)) (3.4.0)\n",
      "Requirement already satisfied: idna<4,>=2.5 in /Users/kiran.ramanna/anaconda3/envs/ais_ml1/lib/python3.12/site-packages (from requests>=2.28.0->-r ../requirements.txt (line 5)) (3.10)\n",
      "Requirement already satisfied: certifi>=2017.4.17 in /Users/kiran.ramanna/anaconda3/envs/ais_ml1/lib/python3.12/site-packages (from requests>=2.28.0->-r ../requirements.txt (line 5)) (2024.8.30)\n",
      "Requirement already satisfied: annotated-types>=0.6.0 in /Users/kiran.ramanna/anaconda3/envs/ais_ml1/lib/python3.12/site-packages (from pydantic>=1.10.0->-r ../requirements.txt (line 7)) (0.7.0)\n",
      "Requirement already satisfied: pydantic-core==2.27.1 in /Users/kiran.ramanna/anaconda3/envs/ais_ml1/lib/python3.12/site-packages (from pydantic>=1.10.0->-r ../requirements.txt (line 7)) (2.27.1)\n",
      "Requirement already satisfied: typing-extensions>=4.12.2 in /Users/kiran.ramanna/anaconda3/envs/ais_ml1/lib/python3.12/site-packages (from pydantic>=1.10.0->-r ../requirements.txt (line 7)) (4.13.2)\n",
      "Requirement already satisfied: anyio in /Users/kiran.ramanna/anaconda3/envs/ais_ml1/lib/python3.12/site-packages (from httpx>=0.20.0->httpx[http2]>=0.20.0->qdrant-client>=1.1.0->-r ../requirements.txt (line 3)) (4.6.2.post1)\n",
      "Requirement already satisfied: httpcore==1.* in /Users/kiran.ramanna/anaconda3/envs/ais_ml1/lib/python3.12/site-packages (from httpx>=0.20.0->httpx[http2]>=0.20.0->qdrant-client>=1.1.0->-r ../requirements.txt (line 3)) (1.0.7)\n",
      "Requirement already satisfied: sniffio in /Users/kiran.ramanna/anaconda3/envs/ais_ml1/lib/python3.12/site-packages (from httpx>=0.20.0->httpx[http2]>=0.20.0->qdrant-client>=1.1.0->-r ../requirements.txt (line 3)) (1.3.1)\n",
      "Requirement already satisfied: h11<0.15,>=0.13 in /Users/kiran.ramanna/anaconda3/envs/ais_ml1/lib/python3.12/site-packages (from httpcore==1.*->httpx>=0.20.0->httpx[http2]>=0.20.0->qdrant-client>=1.1.0->-r ../requirements.txt (line 3)) (0.14.0)\n",
      "Requirement already satisfied: h2<5,>=3 in /Users/kiran.ramanna/anaconda3/envs/ais_ml1/lib/python3.12/site-packages (from httpx[http2]>=0.20.0->qdrant-client>=1.1.0->-r ../requirements.txt (line 3)) (4.2.0)\n",
      "Requirement already satisfied: filelock in /Users/kiran.ramanna/anaconda3/envs/ais_ml1/lib/python3.12/site-packages (from huggingface-hub>=0.20.0->sentence-transformers>=2.2.0->-r ../requirements.txt (line 2)) (3.16.1)\n",
      "Requirement already satisfied: fsspec>=2023.5.0 in /Users/kiran.ramanna/anaconda3/envs/ais_ml1/lib/python3.12/site-packages (from huggingface-hub>=0.20.0->sentence-transformers>=2.2.0->-r ../requirements.txt (line 2)) (2024.9.0)\n",
      "Requirement already satisfied: packaging>=20.9 in /Users/kiran.ramanna/anaconda3/envs/ais_ml1/lib/python3.12/site-packages (from huggingface-hub>=0.20.0->sentence-transformers>=2.2.0->-r ../requirements.txt (line 2)) (24.2)\n",
      "Requirement already satisfied: pyyaml>=5.1 in /Users/kiran.ramanna/anaconda3/envs/ais_ml1/lib/python3.12/site-packages (from huggingface-hub>=0.20.0->sentence-transformers>=2.2.0->-r ../requirements.txt (line 2)) (6.0.2)\n",
      "Requirement already satisfied: six>=1.5 in /Users/kiran.ramanna/anaconda3/envs/ais_ml1/lib/python3.12/site-packages (from python-dateutil>=2.8.2->pandas>=1.5.0->-r ../requirements.txt (line 1)) (1.16.0)\n",
      "Requirement already satisfied: networkx in /Users/kiran.ramanna/anaconda3/envs/ais_ml1/lib/python3.12/site-packages (from torch>=1.11.0->sentence-transformers>=2.2.0->-r ../requirements.txt (line 2)) (3.4.2)\n",
      "Requirement already satisfied: jinja2 in /Users/kiran.ramanna/anaconda3/envs/ais_ml1/lib/python3.12/site-packages (from torch>=1.11.0->sentence-transformers>=2.2.0->-r ../requirements.txt (line 2)) (3.1.4)\n",
      "Requirement already satisfied: setuptools in /Users/kiran.ramanna/anaconda3/envs/ais_ml1/lib/python3.12/site-packages (from torch>=1.11.0->sentence-transformers>=2.2.0->-r ../requirements.txt (line 2)) (75.6.0)\n",
      "Requirement already satisfied: sympy==1.13.1 in /Users/kiran.ramanna/anaconda3/envs/ais_ml1/lib/python3.12/site-packages (from torch>=1.11.0->sentence-transformers>=2.2.0->-r ../requirements.txt (line 2)) (1.13.1)\n",
      "Requirement already satisfied: mpmath<1.4,>=1.1.0 in /Users/kiran.ramanna/anaconda3/envs/ais_ml1/lib/python3.12/site-packages (from sympy==1.13.1->torch>=1.11.0->sentence-transformers>=2.2.0->-r ../requirements.txt (line 2)) (1.3.0)\n",
      "Requirement already satisfied: regex!=2019.12.17 in /Users/kiran.ramanna/anaconda3/envs/ais_ml1/lib/python3.12/site-packages (from transformers<5.0.0,>=4.41.0->sentence-transformers>=2.2.0->-r ../requirements.txt (line 2)) (2024.11.6)\n",
      "Requirement already satisfied: tokenizers<0.21,>=0.20 in /Users/kiran.ramanna/anaconda3/envs/ais_ml1/lib/python3.12/site-packages (from transformers<5.0.0,>=4.41.0->sentence-transformers>=2.2.0->-r ../requirements.txt (line 2)) (0.20.3)\n",
      "Requirement already satisfied: safetensors>=0.4.1 in /Users/kiran.ramanna/anaconda3/envs/ais_ml1/lib/python3.12/site-packages (from transformers<5.0.0,>=4.41.0->sentence-transformers>=2.2.0->-r ../requirements.txt (line 2)) (0.4.5)\n",
      "Requirement already satisfied: joblib>=1.2.0 in /Users/kiran.ramanna/anaconda3/envs/ais_ml1/lib/python3.12/site-packages (from scikit-learn->sentence-transformers>=2.2.0->-r ../requirements.txt (line 2)) (1.4.2)\n",
      "Requirement already satisfied: threadpoolctl>=3.1.0 in /Users/kiran.ramanna/anaconda3/envs/ais_ml1/lib/python3.12/site-packages (from scikit-learn->sentence-transformers>=2.2.0->-r ../requirements.txt (line 2)) (3.5.0)\n",
      "Requirement already satisfied: hyperframe<7,>=6.1 in /Users/kiran.ramanna/anaconda3/envs/ais_ml1/lib/python3.12/site-packages (from h2<5,>=3->httpx[http2]>=0.20.0->qdrant-client>=1.1.0->-r ../requirements.txt (line 3)) (6.1.0)\n",
      "Requirement already satisfied: hpack<5,>=4.1 in /Users/kiran.ramanna/anaconda3/envs/ais_ml1/lib/python3.12/site-packages (from h2<5,>=3->httpx[http2]>=0.20.0->qdrant-client>=1.1.0->-r ../requirements.txt (line 3)) (4.1.0)\n",
      "Requirement already satisfied: MarkupSafe>=2.0 in /Users/kiran.ramanna/anaconda3/envs/ais_ml1/lib/python3.12/site-packages (from jinja2->torch>=1.11.0->sentence-transformers>=2.2.0->-r ../requirements.txt (line 2)) (3.0.2)\n"
     ]
    }
   ],
   "source": [
    "# Install required packages\n",
    "!pip install -r ../requirements.txt"
   ]
  },
  {
   "cell_type": "code",
   "execution_count": 72,
   "id": "b4979674",
   "metadata": {},
   "outputs": [],
   "source": [
    "import os\n",
    "import sys\n",
    "import importlib\n",
    "import pandas as pd\n",
    "from dotenv import load_dotenv\n",
    "from IPython.display import display, Markdown\n",
    "import json\n",
    "\n",
    "# Add src to path\n",
    "sys.path.append('..')\n",
    "\n",
    "# Load environment variables\n",
    "load_dotenv()\n",
    "\n",
    "# Import base module first\n",
    "import src.search_engines.base as base\n",
    "importlib.reload(base)\n",
    "\n",
    "# Import and reload search engine modules\n",
    "import src.search_engines.generic as generic\n",
    "import src.search_engines.duckduckgo as duckduckgo\n",
    "import src.search_engines.traversaal as traversaal\n",
    "import src.search_engines.qdrant_local as qdrant_local\n",
    "\n",
    "# Reload all modules in reverse dependency order\n",
    "importlib.reload(qdrant_local)\n",
    "importlib.reload(traversaal)\n",
    "importlib.reload(duckduckgo)\n",
    "importlib.reload(generic)\n",
    "\n",
    "# Import search engines after reload\n",
    "from src.search_engines.generic import GenericSearchEngine\n",
    "from src.search_engines.duckduckgo import DuckDuckGoSearchEngine\n",
    "from src.search_engines.traversaal import TraversaalSearchEngine\n",
    "from src.search_engines.qdrant_local import QdrantLocalSearchEngine"
   ]
  },
  {
   "cell_type": "markdown",
   "id": "6e2be44b",
   "metadata": {},
   "source": [
    "## Initialize Search Engines\n",
    "\n",
    "Each search engine requires different initialization parameters:\n",
    "- Generic Search: Path to hotel data CSV\n",
    "- DuckDuckGo: No API key needed\n",
    "- Traversaal: API key\n",
    "- Qdrant Local: Path to hotel data CSV"
   ]
  },
  {
   "cell_type": "code",
   "execution_count": 73,
   "id": "e2f0162b",
   "metadata": {},
   "outputs": [
    {
     "name": "stdout",
     "output_type": "stream",
     "text": [
      "Loaded existing embeddings from storage\n",
      "✓ Generic Search Engine initialized\n",
      "✓ DuckDuckGo Search Engine initialized\n",
      "✓ Traversaal Search Engine initialized\n",
      "Using existing Qdrant collection\n",
      "✓ Qdrant Local Search Engine initialized\n"
     ]
    }
   ],
   "source": [
    "# Initialize search engines\n",
    "engines = {}\n",
    "\n",
    "# Generic Search Engine\n",
    "try:\n",
    "    engines['generic'] = GenericSearchEngine(data_path=\"../../004-module/data/miami_hotels.csv\")\n",
    "    print(\"✓ Generic Search Engine initialized\")\n",
    "except Exception as e:\n",
    "    print(f\"✗ Generic Search Engine failed: {str(e)}\")\n",
    "\n",
    "# DuckDuckGo Search Engine\n",
    "try:\n",
    "    engines['duckduckgo'] = DuckDuckGoSearchEngine()\n",
    "    print(\"✓ DuckDuckGo Search Engine initialized\")\n",
    "except Exception as e:\n",
    "    print(f\"✗ DuckDuckGo Search Engine failed: {str(e)}\")\n",
    "\n",
    "# Traversaal Search Engine\n",
    "try:\n",
    "    engines['traversaal'] = TraversaalSearchEngine()\n",
    "    print(\"✓ Traversaal Search Engine initialized\")\n",
    "except Exception as e:\n",
    "    print(f\"✗ Traversaal Search Engine failed: {str(e)}\")\n",
    "\n",
    "# Qdrant Local Search Engine\n",
    "try:\n",
    "    engines['qdrant'] = QdrantLocalSearchEngine(data_path=\"../../004-module/data/miami_hotels.csv\")\n",
    "    print(\"✓ Qdrant Local Search Engine initialized\")\n",
    "except Exception as e:\n",
    "    print(f\"✗ Qdrant Local Search Engine failed: {str(e)}\")"
   ]
  },
  {
   "cell_type": "markdown",
   "id": "d08b3770",
   "metadata": {},
   "source": [
    "## Search Function\n",
    "\n",
    "This function will run a search query across all initialized engines and display the results in a formatted way."
   ]
  },
  {
   "cell_type": "code",
   "execution_count": 74,
   "id": "7d059d1e",
   "metadata": {},
   "outputs": [],
   "source": [
    "def search_hotels(query: str, top_k: int = 2):\n",
    "    \"\"\"Search for hotels using all available engines.\n",
    "    \n",
    "    Args:\n",
    "        query: Search query string\n",
    "        top_k: Number of results to return per engine\n",
    "    \"\"\"\n",
    "    results = {}\n",
    "    \n",
    "    # Run search on each engine\n",
    "    for name, engine in engines.items():\n",
    "        try:\n",
    "            results[name] = engine.search(query, top_k=top_k)\n",
    "        except Exception as e:\n",
    "            print(f\"Error with {name} engine: {str(e)}\")\n",
    "    \n",
    "    # Display results\n",
    "    for name, hotels in results.items():\n",
    "        display(Markdown(f\"### {name.upper()} Results\"))\n",
    "        \n",
    "        for i, hotel in enumerate(hotels, 1):\n",
    "            display(Markdown(f\"#### {i}. {hotel.title}\"))\n",
    "            display(Markdown(f\"**Score:** {hotel.score:.2f}\"))\n",
    "            display(Markdown(f\"**URL:** {hotel.url}\"))\n",
    "            display(Markdown(f\"**Snippet:** {hotel.snippet}\"))\n",
    "            \n",
    "            if hotel.metadata:\n",
    "                display(Markdown(\"**Metadata:**\"))\n",
    "                for key, value in hotel.metadata.items():\n",
    "                    if value:  # Only show non-empty values\n",
    "                        display(Markdown(f\"- {key}: {value}\"))\n",
    "            \n",
    "            # Display raw response if available\n",
    "            if hotel.raw_response:\n",
    "                display(Markdown(\"**Raw Response:**\"))\n",
    "                display(Markdown(f\"```json\\n{json.dumps(hotel.raw_response, indent=2)}\\n```\"))\n",
    "            \n",
    "            display(Markdown(\"---\"))"
   ]
  },
  {
   "cell_type": "markdown",
   "id": "f192c806",
   "metadata": {},
   "source": [
    "## Example Searches\n",
    "\n",
    "Let's try some example searches to see how each engine performs."
   ]
  },
  {
   "cell_type": "code",
   "execution_count": 75,
   "id": "aea151d3",
   "metadata": {},
   "outputs": [
    {
     "name": "stderr",
     "output_type": "stream",
     "text": [
      "2025-05-06 01:08:41 - \u001b[92mINFO\u001b[0m - search took 0.11 seconds\n",
      "2025-05-06 01:08:42 - \u001b[91mERROR\u001b[0m - Error in search: DuckDuckGo search failed: https://html.duckduckgo.com/html 202 Ratelimit\n"
     ]
    },
    {
     "name": "stdout",
     "output_type": "stream",
     "text": [
      "Error with duckduckgo engine: DuckDuckGo search failed: https://html.duckduckgo.com/html 202 Ratelimit\n"
     ]
    },
    {
     "name": "stderr",
     "output_type": "stream",
     "text": [
      "2025-05-06 01:08:53 - \u001b[92mINFO\u001b[0m - search took 10.96 seconds\n",
      "2025-05-06 01:08:54 - \u001b[92mINFO\u001b[0m - search took 0.54 seconds\n"
     ]
    },
    {
     "data": {
      "text/markdown": [
       "### GENERIC Results"
      ],
      "text/plain": [
       "<IPython.core.display.Markdown object>"
      ]
     },
     "metadata": {},
     "output_type": "display_data"
    },
    {
     "data": {
      "text/markdown": [
       "#### 1. The Palms Hotel & Spa"
      ],
      "text/plain": [
       "<IPython.core.display.Markdown object>"
      ]
     },
     "metadata": {},
     "output_type": "display_data"
    },
    {
     "data": {
      "text/markdown": [
       "**Score:** 0.73"
      ],
      "text/plain": [
       "<IPython.core.display.Markdown object>"
      ]
     },
     "metadata": {},
     "output_type": "display_data"
    },
    {
     "data": {
      "text/markdown": [
       "**URL:** http://www.thepalmshotel.com/"
      ],
      "text/plain": [
       "<IPython.core.display.Markdown object>"
      ]
     },
     "metadata": {},
     "output_type": "display_data"
    },
    {
     "data": {
      "text/markdown": [
       "**Snippet:** The room and view was wonderful. Service was very good. I would recommend to friends and family. The beach is paradise. Memories will last you a lifetime. Will return every chance I get. Nathalie at the front desk was amazing \n"
      ],
      "text/plain": [
       "<IPython.core.display.Markdown object>"
      ]
     },
     "metadata": {},
     "output_type": "display_data"
    },
    {
     "data": {
      "text/markdown": [
       "**Metadata:**"
      ],
      "text/plain": [
       "<IPython.core.display.Markdown object>"
      ]
     },
     "metadata": {},
     "output_type": "display_data"
    },
    {
     "data": {
      "text/markdown": [
       "- type: HOTEL"
      ],
      "text/plain": [
       "<IPython.core.display.Markdown object>"
      ]
     },
     "metadata": {},
     "output_type": "display_data"
    },
    {
     "data": {
      "text/markdown": [
       "- rating: 4.5"
      ],
      "text/plain": [
       "<IPython.core.display.Markdown object>"
      ]
     },
     "metadata": {},
     "output_type": "display_data"
    },
    {
     "data": {
      "text/markdown": [
       "- hotel_class: 4.0"
      ],
      "text/plain": [
       "<IPython.core.display.Markdown object>"
      ]
     },
     "metadata": {},
     "output_type": "display_data"
    },
    {
     "data": {
      "text/markdown": [
       "- price_level: $$$$"
      ],
      "text/plain": [
       "<IPython.core.display.Markdown object>"
      ]
     },
     "metadata": {},
     "output_type": "display_data"
    },
    {
     "data": {
      "text/markdown": [
       "- price_range: $325 - $511"
      ],
      "text/plain": [
       "<IPython.core.display.Markdown object>"
      ]
     },
     "metadata": {},
     "output_type": "display_data"
    },
    {
     "data": {
      "text/markdown": [
       "- address: 3025 Collins Ave, Miami Beach, FL 33140-4106"
      ],
      "text/plain": [
       "<IPython.core.display.Markdown object>"
      ]
     },
     "metadata": {},
     "output_type": "display_data"
    },
    {
     "data": {
      "text/markdown": [
       "- amenities: []"
      ],
      "text/plain": [
       "<IPython.core.display.Markdown object>"
      ]
     },
     "metadata": {},
     "output_type": "display_data"
    },
    {
     "data": {
      "text/markdown": [
       "- number_of_reviews: 5034"
      ],
      "text/plain": [
       "<IPython.core.display.Markdown object>"
      ]
     },
     "metadata": {},
     "output_type": "display_data"
    },
    {
     "data": {
      "text/markdown": [
       "- ranking: #50 of 235 hotels in Miami Beach"
      ],
      "text/plain": [
       "<IPython.core.display.Markdown object>"
      ]
     },
     "metadata": {},
     "output_type": "display_data"
    },
    {
     "data": {
      "text/markdown": [
       "- phone: 17864203219"
      ],
      "text/plain": [
       "<IPython.core.display.Markdown object>"
      ]
     },
     "metadata": {},
     "output_type": "display_data"
    },
    {
     "data": {
      "text/markdown": [
       "---"
      ],
      "text/plain": [
       "<IPython.core.display.Markdown object>"
      ]
     },
     "metadata": {},
     "output_type": "display_data"
    },
    {
     "data": {
      "text/markdown": [
       "#### 2. The Standard Spa, Miami Beach"
      ],
      "text/plain": [
       "<IPython.core.display.Markdown object>"
      ]
     },
     "metadata": {},
     "output_type": "display_data"
    },
    {
     "data": {
      "text/markdown": [
       "**Score:** 0.72"
      ],
      "text/plain": [
       "<IPython.core.display.Markdown object>"
      ]
     },
     "metadata": {},
     "output_type": "display_data"
    },
    {
     "data": {
      "text/markdown": [
       "**URL:** https://www.standardhotels.com/miami/properties/miami-beach"
      ],
      "text/plain": [
       "<IPython.core.display.Markdown object>"
      ]
     },
     "metadata": {},
     "output_type": "display_data"
    },
    {
     "data": {
      "text/markdown": [
       "**Snippet:** Great ambiance and attention to detail very clean. Amenities are dialed in. The staff were great and attentive. My massage therapist did a great jog communicating beforehand and allowed me to have a deep relaxing experience. "
      ],
      "text/plain": [
       "<IPython.core.display.Markdown object>"
      ]
     },
     "metadata": {},
     "output_type": "display_data"
    },
    {
     "data": {
      "text/markdown": [
       "**Metadata:**"
      ],
      "text/plain": [
       "<IPython.core.display.Markdown object>"
      ]
     },
     "metadata": {},
     "output_type": "display_data"
    },
    {
     "data": {
      "text/markdown": [
       "- type: HOTEL"
      ],
      "text/plain": [
       "<IPython.core.display.Markdown object>"
      ]
     },
     "metadata": {},
     "output_type": "display_data"
    },
    {
     "data": {
      "text/markdown": [
       "- rating: 4.5"
      ],
      "text/plain": [
       "<IPython.core.display.Markdown object>"
      ]
     },
     "metadata": {},
     "output_type": "display_data"
    },
    {
     "data": {
      "text/markdown": [
       "- hotel_class: 4.0"
      ],
      "text/plain": [
       "<IPython.core.display.Markdown object>"
      ]
     },
     "metadata": {},
     "output_type": "display_data"
    },
    {
     "data": {
      "text/markdown": [
       "- price_level: $$$$"
      ],
      "text/plain": [
       "<IPython.core.display.Markdown object>"
      ]
     },
     "metadata": {},
     "output_type": "display_data"
    },
    {
     "data": {
      "text/markdown": [
       "- price_range: $308 - $558"
      ],
      "text/plain": [
       "<IPython.core.display.Markdown object>"
      ]
     },
     "metadata": {},
     "output_type": "display_data"
    },
    {
     "data": {
      "text/markdown": [
       "- address: 40 Island Ave, Miami Beach, FL 33139-1355"
      ],
      "text/plain": [
       "<IPython.core.display.Markdown object>"
      ]
     },
     "metadata": {},
     "output_type": "display_data"
    },
    {
     "data": {
      "text/markdown": [
       "- amenities: []"
      ],
      "text/plain": [
       "<IPython.core.display.Markdown object>"
      ]
     },
     "metadata": {},
     "output_type": "display_data"
    },
    {
     "data": {
      "text/markdown": [
       "- number_of_reviews: 3368"
      ],
      "text/plain": [
       "<IPython.core.display.Markdown object>"
      ]
     },
     "metadata": {},
     "output_type": "display_data"
    },
    {
     "data": {
      "text/markdown": [
       "- ranking: #2 of 235 hotels in Miami Beach"
      ],
      "text/plain": [
       "<IPython.core.display.Markdown object>"
      ]
     },
     "metadata": {},
     "output_type": "display_data"
    },
    {
     "data": {
      "text/markdown": [
       "- phone: 13056975834"
      ],
      "text/plain": [
       "<IPython.core.display.Markdown object>"
      ]
     },
     "metadata": {},
     "output_type": "display_data"
    },
    {
     "data": {
      "text/markdown": [
       "---"
      ],
      "text/plain": [
       "<IPython.core.display.Markdown object>"
      ]
     },
     "metadata": {},
     "output_type": "display_data"
    },
    {
     "data": {
      "text/markdown": [
       "### TRAVERSAAL Results"
      ],
      "text/plain": [
       "<IPython.core.display.Markdown object>"
      ]
     },
     "metadata": {},
     "output_type": "display_data"
    },
    {
     "data": {
      "text/markdown": [
       "#### 1. Traversaal Search Results"
      ],
      "text/plain": [
       "<IPython.core.display.Markdown object>"
      ]
     },
     "metadata": {},
     "output_type": "display_data"
    },
    {
     "data": {
      "text/markdown": [
       "**Score:** 1.00"
      ],
      "text/plain": [
       "<IPython.core.display.Markdown object>"
      ]
     },
     "metadata": {},
     "output_type": "display_data"
    },
    {
     "data": {
      "text/markdown": [
       "**URL:** https://www.oneoceanresort.com/"
      ],
      "text/plain": [
       "<IPython.core.display.Markdown object>"
      ]
     },
     "metadata": {},
     "output_type": "display_data"
    },
    {
     "data": {
      "text/markdown": [
       "**Snippet:** Here are some luxury beachfront hotels that offer ocean views and spa facilities:\n",
       "\n",
       "1. **Halekulani Hotel**\n",
       "   - Location: Honolulu, Hawaii\n",
       "   - Features: Renowned for its luxury accommodations and exceptional spa services.\n",
       "\n",
       "2. **1 Hotel South Beach**\n",
       "   - Location: Miami Beach, Florida\n",
       "   - Features: Eco-friendly luxury hotel with stunning ocean views and a full-service spa.\n",
       "\n",
       "3. **The San Luis Resort - Spa and Conference Center**\n",
       "   - Location: Galveston, Texas\n",
       "   - Features: Offers beachfront access, ocean views, and a luxurious spa experience.\n",
       "\n",
       "4. **Hard Rock Hotel Daytona Beach**\n",
       "   - Location: Daytona Beach, Florida\n",
       "   - Features: Beachfront hotel with a vibrant atmosphere and spa facilities.\n",
       "\n",
       "5. **Eau Palm Beach Resort & Spa**\n",
       "   - Location: Palm Beach, Florida\n",
       "   - Features: A Forbes 5 Star luxury resort with a private beach and award-winning spa.\n",
       "\n",
       "6. **The Shores Resort & Spa**\n",
       "   - Location: Daytona Beach, Florida\n",
       "   - Features: Ocean views, beachfront dining, and a relaxing spa.\n",
       "\n",
       "7. **Ocean Place Resort and Spa**\n",
       "   - Location: Long Branch, New Jersey\n",
       "   - Features: Offers a luxury spa, indoor pool, and oceanfront dining.\n",
       "\n",
       "8. **Costa d'Este Beach Resort**\n",
       "   - Location: Vero Beach, Florida\n",
       "   - Features: Oceanfront infinity pool and a fully equipped spa.\n",
       "\n",
       "9. **Amrit Wellness Resort & Spa**\n",
       "   - Location: Singer Island, Florida\n",
       "   - Features: Focuses on wellness with spa treatments and ocean views.\n",
       "\n",
       "10. **Isla Bella Beach Resort & Spa**\n",
       "    - Location: Marathon, Florida Keys\n",
       "    - Features: New oceanfront destination with stunning views from every room.\n",
       "\n",
       "11. **Hammock Beach Resort & Spa**\n",
       "    - Location: Palm Coast, Florida\n",
       "    - Features: Championship golf, spa treatments, and oceanfront bliss.\n",
       "\n",
       "12. **One Ocean Resort and Spa**\n",
       "    - Location: Atlantic Beach, Florida\n",
       "    - Features: Lavish suites and luxury spa treatments.\n",
       "\n",
       "These hotels provide a combination of luxury accommodations, beautiful ocean views, and excellent spa facilities, making them ideal for a relaxing beachfront getaway."
      ],
      "text/plain": [
       "<IPython.core.display.Markdown object>"
      ]
     },
     "metadata": {},
     "output_type": "display_data"
    },
    {
     "data": {
      "text/markdown": [
       "**Metadata:**"
      ],
      "text/plain": [
       "<IPython.core.display.Markdown object>"
      ]
     },
     "metadata": {},
     "output_type": "display_data"
    },
    {
     "data": {
      "text/markdown": [
       "- web_urls: ['https://www.oneoceanresort.com/', 'https://www.eaupalmbeach.com/', 'https://www.shoresresort.com/', 'https://www.oceanplace.com/', 'https://www.costadeste.com/', 'https://www.amritocean.com/', 'https://www.thebocaraton.com/suites-rooms/beach-club/', 'https://www.islabellabeachresort.com/', 'http://www.hammockbeach.com/']"
      ],
      "text/plain": [
       "<IPython.core.display.Markdown object>"
      ]
     },
     "metadata": {},
     "output_type": "display_data"
    },
    {
     "data": {
      "text/markdown": [
       "- query: luxury beachfront hotels with ocean view and spa facilities"
      ],
      "text/plain": [
       "<IPython.core.display.Markdown object>"
      ]
     },
     "metadata": {},
     "output_type": "display_data"
    },
    {
     "data": {
      "text/markdown": [
       "**Raw Response:**"
      ],
      "text/plain": [
       "<IPython.core.display.Markdown object>"
      ]
     },
     "metadata": {},
     "output_type": "display_data"
    },
    {
     "data": {
      "text/markdown": [
       "```json\n",
       "{\n",
       "  \"data\": {\n",
       "    \"response_text\": \"Here are some luxury beachfront hotels that offer ocean views and spa facilities:\\n\\n1. **Halekulani Hotel**\\n   - Location: Honolulu, Hawaii\\n   - Features: Renowned for its luxury accommodations and exceptional spa services.\\n\\n2. **1 Hotel South Beach**\\n   - Location: Miami Beach, Florida\\n   - Features: Eco-friendly luxury hotel with stunning ocean views and a full-service spa.\\n\\n3. **The San Luis Resort - Spa and Conference Center**\\n   - Location: Galveston, Texas\\n   - Features: Offers beachfront access, ocean views, and a luxurious spa experience.\\n\\n4. **Hard Rock Hotel Daytona Beach**\\n   - Location: Daytona Beach, Florida\\n   - Features: Beachfront hotel with a vibrant atmosphere and spa facilities.\\n\\n5. **Eau Palm Beach Resort & Spa**\\n   - Location: Palm Beach, Florida\\n   - Features: A Forbes 5 Star luxury resort with a private beach and award-winning spa.\\n\\n6. **The Shores Resort & Spa**\\n   - Location: Daytona Beach, Florida\\n   - Features: Ocean views, beachfront dining, and a relaxing spa.\\n\\n7. **Ocean Place Resort and Spa**\\n   - Location: Long Branch, New Jersey\\n   - Features: Offers a luxury spa, indoor pool, and oceanfront dining.\\n\\n8. **Costa d'Este Beach Resort**\\n   - Location: Vero Beach, Florida\\n   - Features: Oceanfront infinity pool and a fully equipped spa.\\n\\n9. **Amrit Wellness Resort & Spa**\\n   - Location: Singer Island, Florida\\n   - Features: Focuses on wellness with spa treatments and ocean views.\\n\\n10. **Isla Bella Beach Resort & Spa**\\n    - Location: Marathon, Florida Keys\\n    - Features: New oceanfront destination with stunning views from every room.\\n\\n11. **Hammock Beach Resort & Spa**\\n    - Location: Palm Coast, Florida\\n    - Features: Championship golf, spa treatments, and oceanfront bliss.\\n\\n12. **One Ocean Resort and Spa**\\n    - Location: Atlantic Beach, Florida\\n    - Features: Lavish suites and luxury spa treatments.\\n\\nThese hotels provide a combination of luxury accommodations, beautiful ocean views, and excellent spa facilities, making them ideal for a relaxing beachfront getaway.\",\n",
       "    \"web_url\": [\n",
       "      \"https://www.oneoceanresort.com/\",\n",
       "      \"https://www.eaupalmbeach.com/\",\n",
       "      \"https://www.shoresresort.com/\",\n",
       "      \"https://www.oceanplace.com/\",\n",
       "      \"https://www.costadeste.com/\",\n",
       "      \"https://www.amritocean.com/\",\n",
       "      \"https://www.thebocaraton.com/suites-rooms/beach-club/\",\n",
       "      \"https://www.islabellabeachresort.com/\",\n",
       "      \"http://www.hammockbeach.com/\"\n",
       "    ]\n",
       "  }\n",
       "}\n",
       "```"
      ],
      "text/plain": [
       "<IPython.core.display.Markdown object>"
      ]
     },
     "metadata": {},
     "output_type": "display_data"
    },
    {
     "data": {
      "text/markdown": [
       "---"
      ],
      "text/plain": [
       "<IPython.core.display.Markdown object>"
      ]
     },
     "metadata": {},
     "output_type": "display_data"
    },
    {
     "data": {
      "text/markdown": [
       "### QDRANT Results"
      ],
      "text/plain": [
       "<IPython.core.display.Markdown object>"
      ]
     },
     "metadata": {},
     "output_type": "display_data"
    },
    {
     "data": {
      "text/markdown": [
       "#### 1. The Palms Hotel & Spa"
      ],
      "text/plain": [
       "<IPython.core.display.Markdown object>"
      ]
     },
     "metadata": {},
     "output_type": "display_data"
    },
    {
     "data": {
      "text/markdown": [
       "**Score:** 0.73"
      ],
      "text/plain": [
       "<IPython.core.display.Markdown object>"
      ]
     },
     "metadata": {},
     "output_type": "display_data"
    },
    {
     "data": {
      "text/markdown": [
       "**URL:** http://www.thepalmshotel.com/"
      ],
      "text/plain": [
       "<IPython.core.display.Markdown object>"
      ]
     },
     "metadata": {},
     "output_type": "display_data"
    },
    {
     "data": {
      "text/markdown": [
       "**Snippet:** The room and view was wonderful. Service was very good. I would recommend to friends and family. The beach is paradise. Memories will last you a lifetime. Will return every chance I get. Nathalie at the front desk was amazing \n"
      ],
      "text/plain": [
       "<IPython.core.display.Markdown object>"
      ]
     },
     "metadata": {},
     "output_type": "display_data"
    },
    {
     "data": {
      "text/markdown": [
       "**Metadata:**"
      ],
      "text/plain": [
       "<IPython.core.display.Markdown object>"
      ]
     },
     "metadata": {},
     "output_type": "display_data"
    },
    {
     "data": {
      "text/markdown": [
       "- name: The Palms Hotel & Spa"
      ],
      "text/plain": [
       "<IPython.core.display.Markdown object>"
      ]
     },
     "metadata": {},
     "output_type": "display_data"
    },
    {
     "data": {
      "text/markdown": [
       "- type: HOTEL"
      ],
      "text/plain": [
       "<IPython.core.display.Markdown object>"
      ]
     },
     "metadata": {},
     "output_type": "display_data"
    },
    {
     "data": {
      "text/markdown": [
       "- rating: 4.5"
      ],
      "text/plain": [
       "<IPython.core.display.Markdown object>"
      ]
     },
     "metadata": {},
     "output_type": "display_data"
    },
    {
     "data": {
      "text/markdown": [
       "- hotel_class: 4.0"
      ],
      "text/plain": [
       "<IPython.core.display.Markdown object>"
      ]
     },
     "metadata": {},
     "output_type": "display_data"
    },
    {
     "data": {
      "text/markdown": [
       "- price_level: $$$$"
      ],
      "text/plain": [
       "<IPython.core.display.Markdown object>"
      ]
     },
     "metadata": {},
     "output_type": "display_data"
    },
    {
     "data": {
      "text/markdown": [
       "- price_range: $325 - $511"
      ],
      "text/plain": [
       "<IPython.core.display.Markdown object>"
      ]
     },
     "metadata": {},
     "output_type": "display_data"
    },
    {
     "data": {
      "text/markdown": [
       "- address: 3025 Collins Ave, Miami Beach, FL 33140-4106"
      ],
      "text/plain": [
       "<IPython.core.display.Markdown object>"
      ]
     },
     "metadata": {},
     "output_type": "display_data"
    },
    {
     "data": {
      "text/markdown": [
       "- amenities: []"
      ],
      "text/plain": [
       "<IPython.core.display.Markdown object>"
      ]
     },
     "metadata": {},
     "output_type": "display_data"
    },
    {
     "data": {
      "text/markdown": [
       "- review: The room and view was wonderful. Service was very good. I would recommend to friends and family. The beach is paradise. Memories will last you a lifetime. Will return every chance I get. Nathalie at the front desk was amazing \n"
      ],
      "text/plain": [
       "<IPython.core.display.Markdown object>"
      ]
     },
     "metadata": {},
     "output_type": "display_data"
    },
    {
     "data": {
      "text/markdown": [
       "- number_of_reviews: 5034"
      ],
      "text/plain": [
       "<IPython.core.display.Markdown object>"
      ]
     },
     "metadata": {},
     "output_type": "display_data"
    },
    {
     "data": {
      "text/markdown": [
       "- ranking: #50 of 235 hotels in Miami Beach"
      ],
      "text/plain": [
       "<IPython.core.display.Markdown object>"
      ]
     },
     "metadata": {},
     "output_type": "display_data"
    },
    {
     "data": {
      "text/markdown": [
       "- phone: 17864203219"
      ],
      "text/plain": [
       "<IPython.core.display.Markdown object>"
      ]
     },
     "metadata": {},
     "output_type": "display_data"
    },
    {
     "data": {
      "text/markdown": [
       "- website: http://www.thepalmshotel.com/"
      ],
      "text/plain": [
       "<IPython.core.display.Markdown object>"
      ]
     },
     "metadata": {},
     "output_type": "display_data"
    },
    {
     "data": {
      "text/markdown": [
       "---"
      ],
      "text/plain": [
       "<IPython.core.display.Markdown object>"
      ]
     },
     "metadata": {},
     "output_type": "display_data"
    },
    {
     "data": {
      "text/markdown": [
       "#### 2. The Standard Spa, Miami Beach"
      ],
      "text/plain": [
       "<IPython.core.display.Markdown object>"
      ]
     },
     "metadata": {},
     "output_type": "display_data"
    },
    {
     "data": {
      "text/markdown": [
       "**Score:** 0.72"
      ],
      "text/plain": [
       "<IPython.core.display.Markdown object>"
      ]
     },
     "metadata": {},
     "output_type": "display_data"
    },
    {
     "data": {
      "text/markdown": [
       "**URL:** https://www.standardhotels.com/miami/properties/miami-beach"
      ],
      "text/plain": [
       "<IPython.core.display.Markdown object>"
      ]
     },
     "metadata": {},
     "output_type": "display_data"
    },
    {
     "data": {
      "text/markdown": [
       "**Snippet:** Great ambiance and attention to detail very clean. Amenities are dialed in. The staff were great and attentive. My massage therapist did a great jog communicating beforehand and allowed me to have a deep relaxing experience. "
      ],
      "text/plain": [
       "<IPython.core.display.Markdown object>"
      ]
     },
     "metadata": {},
     "output_type": "display_data"
    },
    {
     "data": {
      "text/markdown": [
       "**Metadata:**"
      ],
      "text/plain": [
       "<IPython.core.display.Markdown object>"
      ]
     },
     "metadata": {},
     "output_type": "display_data"
    },
    {
     "data": {
      "text/markdown": [
       "- name: The Standard Spa, Miami Beach"
      ],
      "text/plain": [
       "<IPython.core.display.Markdown object>"
      ]
     },
     "metadata": {},
     "output_type": "display_data"
    },
    {
     "data": {
      "text/markdown": [
       "- type: HOTEL"
      ],
      "text/plain": [
       "<IPython.core.display.Markdown object>"
      ]
     },
     "metadata": {},
     "output_type": "display_data"
    },
    {
     "data": {
      "text/markdown": [
       "- rating: 4.5"
      ],
      "text/plain": [
       "<IPython.core.display.Markdown object>"
      ]
     },
     "metadata": {},
     "output_type": "display_data"
    },
    {
     "data": {
      "text/markdown": [
       "- hotel_class: 4.0"
      ],
      "text/plain": [
       "<IPython.core.display.Markdown object>"
      ]
     },
     "metadata": {},
     "output_type": "display_data"
    },
    {
     "data": {
      "text/markdown": [
       "- price_level: $$$$"
      ],
      "text/plain": [
       "<IPython.core.display.Markdown object>"
      ]
     },
     "metadata": {},
     "output_type": "display_data"
    },
    {
     "data": {
      "text/markdown": [
       "- price_range: $308 - $558"
      ],
      "text/plain": [
       "<IPython.core.display.Markdown object>"
      ]
     },
     "metadata": {},
     "output_type": "display_data"
    },
    {
     "data": {
      "text/markdown": [
       "- address: 40 Island Ave, Miami Beach, FL 33139-1355"
      ],
      "text/plain": [
       "<IPython.core.display.Markdown object>"
      ]
     },
     "metadata": {},
     "output_type": "display_data"
    },
    {
     "data": {
      "text/markdown": [
       "- amenities: []"
      ],
      "text/plain": [
       "<IPython.core.display.Markdown object>"
      ]
     },
     "metadata": {},
     "output_type": "display_data"
    },
    {
     "data": {
      "text/markdown": [
       "- review: Great ambiance and attention to detail very clean. Amenities are dialed in. The staff were great and attentive. My massage therapist did a great jog communicating beforehand and allowed me to have a deep relaxing experience. "
      ],
      "text/plain": [
       "<IPython.core.display.Markdown object>"
      ]
     },
     "metadata": {},
     "output_type": "display_data"
    },
    {
     "data": {
      "text/markdown": [
       "- number_of_reviews: 3368"
      ],
      "text/plain": [
       "<IPython.core.display.Markdown object>"
      ]
     },
     "metadata": {},
     "output_type": "display_data"
    },
    {
     "data": {
      "text/markdown": [
       "- ranking: #2 of 235 hotels in Miami Beach"
      ],
      "text/plain": [
       "<IPython.core.display.Markdown object>"
      ]
     },
     "metadata": {},
     "output_type": "display_data"
    },
    {
     "data": {
      "text/markdown": [
       "- phone: 13056975834"
      ],
      "text/plain": [
       "<IPython.core.display.Markdown object>"
      ]
     },
     "metadata": {},
     "output_type": "display_data"
    },
    {
     "data": {
      "text/markdown": [
       "- website: https://www.standardhotels.com/miami/properties/miami-beach"
      ],
      "text/plain": [
       "<IPython.core.display.Markdown object>"
      ]
     },
     "metadata": {},
     "output_type": "display_data"
    },
    {
     "data": {
      "text/markdown": [
       "---"
      ],
      "text/plain": [
       "<IPython.core.display.Markdown object>"
      ]
     },
     "metadata": {},
     "output_type": "display_data"
    }
   ],
   "source": [
    "# Search for luxury beachfront hotels\n",
    "search_hotels(\"luxury beachfront hotels with ocean view and spa facilities\")"
   ]
  },
  {
   "cell_type": "code",
   "execution_count": 76,
   "id": "0c7cd621",
   "metadata": {},
   "outputs": [
    {
     "name": "stderr",
     "output_type": "stream",
     "text": [
      "2025-05-06 01:08:54 - \u001b[92mINFO\u001b[0m - search took 0.11 seconds\n",
      "2025-05-06 01:08:56 - \u001b[91mERROR\u001b[0m - Error in search: DuckDuckGo search failed: https://html.duckduckgo.com/html 202 Ratelimit\n"
     ]
    },
    {
     "name": "stdout",
     "output_type": "stream",
     "text": [
      "Error with duckduckgo engine: DuckDuckGo search failed: https://html.duckduckgo.com/html 202 Ratelimit\n"
     ]
    },
    {
     "name": "stderr",
     "output_type": "stream",
     "text": [
      "2025-05-06 01:09:10 - \u001b[92mINFO\u001b[0m - search took 13.88 seconds\n",
      "2025-05-06 01:09:10 - \u001b[92mINFO\u001b[0m - search took 0.56 seconds\n"
     ]
    },
    {
     "data": {
      "text/markdown": [
       "### GENERIC Results"
      ],
      "text/plain": [
       "<IPython.core.display.Markdown object>"
      ]
     },
     "metadata": {},
     "output_type": "display_data"
    },
    {
     "data": {
      "text/markdown": [
       "#### 1. Marriott Stanton South Beach"
      ],
      "text/plain": [
       "<IPython.core.display.Markdown object>"
      ]
     },
     "metadata": {},
     "output_type": "display_data"
    },
    {
     "data": {
      "text/markdown": [
       "**Score:** 0.72"
      ],
      "text/plain": [
       "<IPython.core.display.Markdown object>"
      ]
     },
     "metadata": {},
     "output_type": "display_data"
    },
    {
     "data": {
      "text/markdown": [
       "**URL:** https://www.marriott.com/en-us/hotels/miamb-marriott-stanton-south-beach/overview/?scid=45f93f1b-bd77-45c9-8dab-83b6a417f6fe&y_source=1_MjA5Mzk2MC03NjktbG9jYXRpb24ud2Vic2l0ZQ%3D%3D"
      ],
      "text/plain": [
       "<IPython.core.display.Markdown object>"
      ]
     },
     "metadata": {},
     "output_type": "display_data"
    },
    {
     "data": {
      "text/markdown": [
       "**Snippet:** Great experience and excellent location (with really nice restaurants nearby). My kids really enjoyed the pool and the beach! I would definitely come back!!! \n",
       "I would say this is both good for families with kids and also just couples."
      ],
      "text/plain": [
       "<IPython.core.display.Markdown object>"
      ]
     },
     "metadata": {},
     "output_type": "display_data"
    },
    {
     "data": {
      "text/markdown": [
       "**Metadata:**"
      ],
      "text/plain": [
       "<IPython.core.display.Markdown object>"
      ]
     },
     "metadata": {},
     "output_type": "display_data"
    },
    {
     "data": {
      "text/markdown": [
       "- type: HOTEL"
      ],
      "text/plain": [
       "<IPython.core.display.Markdown object>"
      ]
     },
     "metadata": {},
     "output_type": "display_data"
    },
    {
     "data": {
      "text/markdown": [
       "- rating: 4.5"
      ],
      "text/plain": [
       "<IPython.core.display.Markdown object>"
      ]
     },
     "metadata": {},
     "output_type": "display_data"
    },
    {
     "data": {
      "text/markdown": [
       "- hotel_class: 4.0"
      ],
      "text/plain": [
       "<IPython.core.display.Markdown object>"
      ]
     },
     "metadata": {},
     "output_type": "display_data"
    },
    {
     "data": {
      "text/markdown": [
       "- price_level: $$$$"
      ],
      "text/plain": [
       "<IPython.core.display.Markdown object>"
      ]
     },
     "metadata": {},
     "output_type": "display_data"
    },
    {
     "data": {
      "text/markdown": [
       "- price_range: $299 - $524"
      ],
      "text/plain": [
       "<IPython.core.display.Markdown object>"
      ]
     },
     "metadata": {},
     "output_type": "display_data"
    },
    {
     "data": {
      "text/markdown": [
       "- address: 161 Ocean Drive, Miami Beach, FL 33139-7212"
      ],
      "text/plain": [
       "<IPython.core.display.Markdown object>"
      ]
     },
     "metadata": {},
     "output_type": "display_data"
    },
    {
     "data": {
      "text/markdown": [
       "- amenities: []"
      ],
      "text/plain": [
       "<IPython.core.display.Markdown object>"
      ]
     },
     "metadata": {},
     "output_type": "display_data"
    },
    {
     "data": {
      "text/markdown": [
       "- number_of_reviews: 4377"
      ],
      "text/plain": [
       "<IPython.core.display.Markdown object>"
      ]
     },
     "metadata": {},
     "output_type": "display_data"
    },
    {
     "data": {
      "text/markdown": [
       "- ranking: #17 of 235 hotels in Miami Beach"
      ],
      "text/plain": [
       "<IPython.core.display.Markdown object>"
      ]
     },
     "metadata": {},
     "output_type": "display_data"
    },
    {
     "data": {
      "text/markdown": [
       "- phone: 18446310595"
      ],
      "text/plain": [
       "<IPython.core.display.Markdown object>"
      ]
     },
     "metadata": {},
     "output_type": "display_data"
    },
    {
     "data": {
      "text/markdown": [
       "---"
      ],
      "text/plain": [
       "<IPython.core.display.Markdown object>"
      ]
     },
     "metadata": {},
     "output_type": "display_data"
    },
    {
     "data": {
      "text/markdown": [
       "#### 2. Sagamore Hotel"
      ],
      "text/plain": [
       "<IPython.core.display.Markdown object>"
      ]
     },
     "metadata": {},
     "output_type": "display_data"
    },
    {
     "data": {
      "text/markdown": [
       "**Score:** 0.66"
      ],
      "text/plain": [
       "<IPython.core.display.Markdown object>"
      ]
     },
     "metadata": {},
     "output_type": "display_data"
    },
    {
     "data": {
      "text/markdown": [
       "**URL:** https://www.sagamoresouthbeach.com/"
      ],
      "text/plain": [
       "<IPython.core.display.Markdown object>"
      ]
     },
     "metadata": {},
     "output_type": "display_data"
    },
    {
     "data": {
      "text/markdown": [
       "**Snippet:** We just returned from Sagamore Hotel after a wonderful 4 night stay with my two young children. The 2 story bungalow suite was perfect for our family so that we could have some space and also be right near the pool. It was a great size and clean. The staff was alll so friendly and accomodating. The hotel itself is a fun vibe, great location in South Beach by so many wonderful restaurants and I liked that I didn't feel like one of these huge resorts. We could always find chairs by the pool and it never felt crowded. Really, my biggest con would be that there were not enough hooks in the bathroom to hang various wet suits/towels. But otherwise, such a great experience. We would definitely come back. "
      ],
      "text/plain": [
       "<IPython.core.display.Markdown object>"
      ]
     },
     "metadata": {},
     "output_type": "display_data"
    },
    {
     "data": {
      "text/markdown": [
       "**Metadata:**"
      ],
      "text/plain": [
       "<IPython.core.display.Markdown object>"
      ]
     },
     "metadata": {},
     "output_type": "display_data"
    },
    {
     "data": {
      "text/markdown": [
       "- type: HOTEL"
      ],
      "text/plain": [
       "<IPython.core.display.Markdown object>"
      ]
     },
     "metadata": {},
     "output_type": "display_data"
    },
    {
     "data": {
      "text/markdown": [
       "- rating: 4.0"
      ],
      "text/plain": [
       "<IPython.core.display.Markdown object>"
      ]
     },
     "metadata": {},
     "output_type": "display_data"
    },
    {
     "data": {
      "text/markdown": [
       "- hotel_class: 4.0"
      ],
      "text/plain": [
       "<IPython.core.display.Markdown object>"
      ]
     },
     "metadata": {},
     "output_type": "display_data"
    },
    {
     "data": {
      "text/markdown": [
       "- price_level: $$$$"
      ],
      "text/plain": [
       "<IPython.core.display.Markdown object>"
      ]
     },
     "metadata": {},
     "output_type": "display_data"
    },
    {
     "data": {
      "text/markdown": [
       "- price_range: $243 - $447"
      ],
      "text/plain": [
       "<IPython.core.display.Markdown object>"
      ]
     },
     "metadata": {},
     "output_type": "display_data"
    },
    {
     "data": {
      "text/markdown": [
       "- address: 1671 Collins Ave, Miami Beach, FL 33139"
      ],
      "text/plain": [
       "<IPython.core.display.Markdown object>"
      ]
     },
     "metadata": {},
     "output_type": "display_data"
    },
    {
     "data": {
      "text/markdown": [
       "- amenities: []"
      ],
      "text/plain": [
       "<IPython.core.display.Markdown object>"
      ]
     },
     "metadata": {},
     "output_type": "display_data"
    },
    {
     "data": {
      "text/markdown": [
       "- number_of_reviews: 2933"
      ],
      "text/plain": [
       "<IPython.core.display.Markdown object>"
      ]
     },
     "metadata": {},
     "output_type": "display_data"
    },
    {
     "data": {
      "text/markdown": [
       "- ranking: #107 of 235 hotels in Miami Beach"
      ],
      "text/plain": [
       "<IPython.core.display.Markdown object>"
      ]
     },
     "metadata": {},
     "output_type": "display_data"
    },
    {
     "data": {
      "text/markdown": [
       "- phone: 13055749097"
      ],
      "text/plain": [
       "<IPython.core.display.Markdown object>"
      ]
     },
     "metadata": {},
     "output_type": "display_data"
    },
    {
     "data": {
      "text/markdown": [
       "---"
      ],
      "text/plain": [
       "<IPython.core.display.Markdown object>"
      ]
     },
     "metadata": {},
     "output_type": "display_data"
    },
    {
     "data": {
      "text/markdown": [
       "### TRAVERSAAL Results"
      ],
      "text/plain": [
       "<IPython.core.display.Markdown object>"
      ]
     },
     "metadata": {},
     "output_type": "display_data"
    },
    {
     "data": {
      "text/markdown": [
       "#### 1. Traversaal Search Results"
      ],
      "text/plain": [
       "<IPython.core.display.Markdown object>"
      ]
     },
     "metadata": {},
     "output_type": "display_data"
    },
    {
     "data": {
      "text/markdown": [
       "**Score:** 1.00"
      ],
      "text/plain": [
       "<IPython.core.display.Markdown object>"
      ]
     },
     "metadata": {},
     "output_type": "display_data"
    },
    {
     "data": {
      "text/markdown": [
       "**URL:** https://www.bontraveler.com/best-family-friendly-hotels-california/"
      ],
      "text/plain": [
       "<IPython.core.display.Markdown object>"
      ]
     },
     "metadata": {},
     "output_type": "display_data"
    },
    {
     "data": {
      "text/markdown": [
       "**Snippet:** Here are some family-friendly hotels with swimming pools and activities for kids:\n",
       "\n",
       "1. **The Best Family-Friendly Hotels in California - Bon Traveler**\n",
       "   - This hotel features ample open space and numerous kid-specific activities, including a pool and large suites.\n",
       "   - [Read more here](https://www.bontraveler.com/best-family-friendly-hotels-california/)\n",
       "\n",
       "2. **HYATT house San Ramon, CA**\n",
       "   - Offers an outdoor pool and in-room kitchens, making it a top choice for family vacations.\n",
       "   - [Explore more on Expedia](https://www.expedia.com/San-Ramon-Hotels-Family-Hotel.0-0-d9776-tFamilyHotel.Travel-Guide-Filter-Hotels)\n",
       "\n",
       "3. **Kid-Friendly Hotels in Bay Area - Travelocity**\n",
       "   - Expect fun for the whole family with pools, waterparks, hot tubs, babysitting services, and kids' menus.\n",
       "   - [Find options on Travelocity](https://www.travelocity.com/Bay-Area-Hotels-Family-Hotel.0-0-d6056043-tFamilyHotel.Travel-Guide-Filter-Hotels)\n",
       "\n",
       "4. **Loews Coronado Bay Resort, Coronado, CA**\n",
       "   - A kid-favorite lodging with various family-friendly amenities.\n",
       "   - [More details here](https://www.visitcalifornia.com/experience/kid-favorite-california-lodgings/)\n",
       "\n",
       "5. **Grand Sierra Resort, Reno, NV**\n",
       "   - Known for its decent pool and numerous family activities, making it a great affordable option during the week.\n",
       "   - [Check out the discussion on Reddit](https://www.reddit.com/r/Sacramento/comments/1eb7ilg/nor_cal_hotelresorts_with_fun_pools/)\n",
       "\n",
       "6. **Hotel Del Sol, San Francisco, CA**\n",
       "   - A family-friendly hotel with a pool, located near dining options and a short walk to the Marina Green.\n",
       "   - [View more on Tripadvisor](https://www.tripadvisor.com/ShowTopic-g28926-i29-k13912043-Family_hotel_recommendation_for_San_Francisco_with_kids-California.html)\n",
       "\n",
       "7. **30 Best Hotels with Pools for Kids in the USA - Travel Mamas**\n",
       "   - This list includes hotels with exciting features like water cannons, private cabanas, and slides.\n",
       "   - [Discover the list here](https://travelsbetween.com/10-best-hotel-pools-for-kids-usa/)\n",
       "\n",
       "8. **Grand Wailea, Maui, HI**\n",
       "   - Features multiple slides, a lazy river, volleyball, jacuzzis, and a cave, making it a fantastic family destination.\n",
       "   - [Learn more about this hotel](https://globalmunchkins.com/travel-tips/tips-on-traveling-with-kids/best-hotel-pools-for-families/)\n",
       "\n",
       "These hotels provide a variety of amenities and activities that cater to families, ensuring a fun and enjoyable stay for both kids and adults."
      ],
      "text/plain": [
       "<IPython.core.display.Markdown object>"
      ]
     },
     "metadata": {},
     "output_type": "display_data"
    },
    {
     "data": {
      "text/markdown": [
       "**Metadata:**"
      ],
      "text/plain": [
       "<IPython.core.display.Markdown object>"
      ]
     },
     "metadata": {},
     "output_type": "display_data"
    },
    {
     "data": {
      "text/markdown": [
       "- web_urls: ['https://www.bontraveler.com/best-family-friendly-hotels-california/', 'https://www.expedia.com/San-Ramon-Hotels-Family-Hotel.0-0-d9776-tFamilyHotel.Travel-Guide-Filter-Hotels', 'https://www.travelocity.com/Bay-Area-Hotels-Family-Hotel.0-0-d6056043-tFamilyHotel.Travel-Guide-Filter-Hotels', 'https://www.visitcalifornia.com/experience/kid-favorite-california-lodgings/', 'https://www.reddit.com/r/Sacramento/comments/1eb7ilg/nor_cal_hotelresorts_with_fun_pools/', 'https://travelsbetween.com/10-best-hotel-pools-for-kids-usa/', 'https://www.reddit.com/r/AskSF/comments/1hawc2m/staycation_with_young_kids_need_ideas/', 'https://globalmunchkins.com/travel-tips/tips-on-traveling-with-kids/best-hotel-pools-for-families/']"
      ],
      "text/plain": [
       "<IPython.core.display.Markdown object>"
      ]
     },
     "metadata": {},
     "output_type": "display_data"
    },
    {
     "data": {
      "text/markdown": [
       "- query: family-friendly hotels with swimming pools and activities for kids"
      ],
      "text/plain": [
       "<IPython.core.display.Markdown object>"
      ]
     },
     "metadata": {},
     "output_type": "display_data"
    },
    {
     "data": {
      "text/markdown": [
       "**Raw Response:**"
      ],
      "text/plain": [
       "<IPython.core.display.Markdown object>"
      ]
     },
     "metadata": {},
     "output_type": "display_data"
    },
    {
     "data": {
      "text/markdown": [
       "```json\n",
       "{\n",
       "  \"data\": {\n",
       "    \"response_text\": \"Here are some family-friendly hotels with swimming pools and activities for kids:\\n\\n1. **The Best Family-Friendly Hotels in California - Bon Traveler**\\n   - This hotel features ample open space and numerous kid-specific activities, including a pool and large suites.\\n   - [Read more here](https://www.bontraveler.com/best-family-friendly-hotels-california/)\\n\\n2. **HYATT house San Ramon, CA**\\n   - Offers an outdoor pool and in-room kitchens, making it a top choice for family vacations.\\n   - [Explore more on Expedia](https://www.expedia.com/San-Ramon-Hotels-Family-Hotel.0-0-d9776-tFamilyHotel.Travel-Guide-Filter-Hotels)\\n\\n3. **Kid-Friendly Hotels in Bay Area - Travelocity**\\n   - Expect fun for the whole family with pools, waterparks, hot tubs, babysitting services, and kids' menus.\\n   - [Find options on Travelocity](https://www.travelocity.com/Bay-Area-Hotels-Family-Hotel.0-0-d6056043-tFamilyHotel.Travel-Guide-Filter-Hotels)\\n\\n4. **Loews Coronado Bay Resort, Coronado, CA**\\n   - A kid-favorite lodging with various family-friendly amenities.\\n   - [More details here](https://www.visitcalifornia.com/experience/kid-favorite-california-lodgings/)\\n\\n5. **Grand Sierra Resort, Reno, NV**\\n   - Known for its decent pool and numerous family activities, making it a great affordable option during the week.\\n   - [Check out the discussion on Reddit](https://www.reddit.com/r/Sacramento/comments/1eb7ilg/nor_cal_hotelresorts_with_fun_pools/)\\n\\n6. **Hotel Del Sol, San Francisco, CA**\\n   - A family-friendly hotel with a pool, located near dining options and a short walk to the Marina Green.\\n   - [View more on Tripadvisor](https://www.tripadvisor.com/ShowTopic-g28926-i29-k13912043-Family_hotel_recommendation_for_San_Francisco_with_kids-California.html)\\n\\n7. **30 Best Hotels with Pools for Kids in the USA - Travel Mamas**\\n   - This list includes hotels with exciting features like water cannons, private cabanas, and slides.\\n   - [Discover the list here](https://travelsbetween.com/10-best-hotel-pools-for-kids-usa/)\\n\\n8. **Grand Wailea, Maui, HI**\\n   - Features multiple slides, a lazy river, volleyball, jacuzzis, and a cave, making it a fantastic family destination.\\n   - [Learn more about this hotel](https://globalmunchkins.com/travel-tips/tips-on-traveling-with-kids/best-hotel-pools-for-families/)\\n\\nThese hotels provide a variety of amenities and activities that cater to families, ensuring a fun and enjoyable stay for both kids and adults.\",\n",
       "    \"web_url\": [\n",
       "      \"https://www.bontraveler.com/best-family-friendly-hotels-california/\",\n",
       "      \"https://www.expedia.com/San-Ramon-Hotels-Family-Hotel.0-0-d9776-tFamilyHotel.Travel-Guide-Filter-Hotels\",\n",
       "      \"https://www.travelocity.com/Bay-Area-Hotels-Family-Hotel.0-0-d6056043-tFamilyHotel.Travel-Guide-Filter-Hotels\",\n",
       "      \"https://www.visitcalifornia.com/experience/kid-favorite-california-lodgings/\",\n",
       "      \"https://www.reddit.com/r/Sacramento/comments/1eb7ilg/nor_cal_hotelresorts_with_fun_pools/\",\n",
       "      \"https://travelsbetween.com/10-best-hotel-pools-for-kids-usa/\",\n",
       "      \"https://www.reddit.com/r/AskSF/comments/1hawc2m/staycation_with_young_kids_need_ideas/\",\n",
       "      \"https://globalmunchkins.com/travel-tips/tips-on-traveling-with-kids/best-hotel-pools-for-families/\"\n",
       "    ]\n",
       "  }\n",
       "}\n",
       "```"
      ],
      "text/plain": [
       "<IPython.core.display.Markdown object>"
      ]
     },
     "metadata": {},
     "output_type": "display_data"
    },
    {
     "data": {
      "text/markdown": [
       "---"
      ],
      "text/plain": [
       "<IPython.core.display.Markdown object>"
      ]
     },
     "metadata": {},
     "output_type": "display_data"
    },
    {
     "data": {
      "text/markdown": [
       "### QDRANT Results"
      ],
      "text/plain": [
       "<IPython.core.display.Markdown object>"
      ]
     },
     "metadata": {},
     "output_type": "display_data"
    },
    {
     "data": {
      "text/markdown": [
       "#### 1. Marriott Stanton South Beach"
      ],
      "text/plain": [
       "<IPython.core.display.Markdown object>"
      ]
     },
     "metadata": {},
     "output_type": "display_data"
    },
    {
     "data": {
      "text/markdown": [
       "**Score:** 0.72"
      ],
      "text/plain": [
       "<IPython.core.display.Markdown object>"
      ]
     },
     "metadata": {},
     "output_type": "display_data"
    },
    {
     "data": {
      "text/markdown": [
       "**URL:** https://www.marriott.com/en-us/hotels/miamb-marriott-stanton-south-beach/overview/?scid=45f93f1b-bd77-45c9-8dab-83b6a417f6fe&y_source=1_MjA5Mzk2MC03NjktbG9jYXRpb24ud2Vic2l0ZQ%3D%3D"
      ],
      "text/plain": [
       "<IPython.core.display.Markdown object>"
      ]
     },
     "metadata": {},
     "output_type": "display_data"
    },
    {
     "data": {
      "text/markdown": [
       "**Snippet:** Great experience and excellent location (with really nice restaurants nearby). My kids really enjoyed the pool and the beach! I would definitely come back!!! \n",
       "I would say this is both good for families with kids and also just couples."
      ],
      "text/plain": [
       "<IPython.core.display.Markdown object>"
      ]
     },
     "metadata": {},
     "output_type": "display_data"
    },
    {
     "data": {
      "text/markdown": [
       "**Metadata:**"
      ],
      "text/plain": [
       "<IPython.core.display.Markdown object>"
      ]
     },
     "metadata": {},
     "output_type": "display_data"
    },
    {
     "data": {
      "text/markdown": [
       "- name: Marriott Stanton South Beach"
      ],
      "text/plain": [
       "<IPython.core.display.Markdown object>"
      ]
     },
     "metadata": {},
     "output_type": "display_data"
    },
    {
     "data": {
      "text/markdown": [
       "- type: HOTEL"
      ],
      "text/plain": [
       "<IPython.core.display.Markdown object>"
      ]
     },
     "metadata": {},
     "output_type": "display_data"
    },
    {
     "data": {
      "text/markdown": [
       "- rating: 4.5"
      ],
      "text/plain": [
       "<IPython.core.display.Markdown object>"
      ]
     },
     "metadata": {},
     "output_type": "display_data"
    },
    {
     "data": {
      "text/markdown": [
       "- hotel_class: 4.0"
      ],
      "text/plain": [
       "<IPython.core.display.Markdown object>"
      ]
     },
     "metadata": {},
     "output_type": "display_data"
    },
    {
     "data": {
      "text/markdown": [
       "- price_level: $$$$"
      ],
      "text/plain": [
       "<IPython.core.display.Markdown object>"
      ]
     },
     "metadata": {},
     "output_type": "display_data"
    },
    {
     "data": {
      "text/markdown": [
       "- price_range: $299 - $524"
      ],
      "text/plain": [
       "<IPython.core.display.Markdown object>"
      ]
     },
     "metadata": {},
     "output_type": "display_data"
    },
    {
     "data": {
      "text/markdown": [
       "- address: 161 Ocean Drive, Miami Beach, FL 33139-7212"
      ],
      "text/plain": [
       "<IPython.core.display.Markdown object>"
      ]
     },
     "metadata": {},
     "output_type": "display_data"
    },
    {
     "data": {
      "text/markdown": [
       "- amenities: []"
      ],
      "text/plain": [
       "<IPython.core.display.Markdown object>"
      ]
     },
     "metadata": {},
     "output_type": "display_data"
    },
    {
     "data": {
      "text/markdown": [
       "- review: Great experience and excellent location (with really nice restaurants nearby). My kids really enjoyed the pool and the beach! I would definitely come back!!! \n",
       "I would say this is both good for families with kids and also just couples."
      ],
      "text/plain": [
       "<IPython.core.display.Markdown object>"
      ]
     },
     "metadata": {},
     "output_type": "display_data"
    },
    {
     "data": {
      "text/markdown": [
       "- number_of_reviews: 4377"
      ],
      "text/plain": [
       "<IPython.core.display.Markdown object>"
      ]
     },
     "metadata": {},
     "output_type": "display_data"
    },
    {
     "data": {
      "text/markdown": [
       "- ranking: #17 of 235 hotels in Miami Beach"
      ],
      "text/plain": [
       "<IPython.core.display.Markdown object>"
      ]
     },
     "metadata": {},
     "output_type": "display_data"
    },
    {
     "data": {
      "text/markdown": [
       "- phone: 18446310595"
      ],
      "text/plain": [
       "<IPython.core.display.Markdown object>"
      ]
     },
     "metadata": {},
     "output_type": "display_data"
    },
    {
     "data": {
      "text/markdown": [
       "- website: https://www.marriott.com/en-us/hotels/miamb-marriott-stanton-south-beach/overview/?scid=45f93f1b-bd77-45c9-8dab-83b6a417f6fe&y_source=1_MjA5Mzk2MC03NjktbG9jYXRpb24ud2Vic2l0ZQ%3D%3D"
      ],
      "text/plain": [
       "<IPython.core.display.Markdown object>"
      ]
     },
     "metadata": {},
     "output_type": "display_data"
    },
    {
     "data": {
      "text/markdown": [
       "---"
      ],
      "text/plain": [
       "<IPython.core.display.Markdown object>"
      ]
     },
     "metadata": {},
     "output_type": "display_data"
    },
    {
     "data": {
      "text/markdown": [
       "#### 2. Sagamore Hotel"
      ],
      "text/plain": [
       "<IPython.core.display.Markdown object>"
      ]
     },
     "metadata": {},
     "output_type": "display_data"
    },
    {
     "data": {
      "text/markdown": [
       "**Score:** 0.66"
      ],
      "text/plain": [
       "<IPython.core.display.Markdown object>"
      ]
     },
     "metadata": {},
     "output_type": "display_data"
    },
    {
     "data": {
      "text/markdown": [
       "**URL:** https://www.sagamoresouthbeach.com/"
      ],
      "text/plain": [
       "<IPython.core.display.Markdown object>"
      ]
     },
     "metadata": {},
     "output_type": "display_data"
    },
    {
     "data": {
      "text/markdown": [
       "**Snippet:** We just returned from Sagamore Hotel after a wonderful 4 night stay with my two young children. The 2 story bungalow suite was perfect for our family so that we could have some space and also be right near the pool. It was a great size and clean. The staff was alll so friendly and accomodating. The hotel itself is a fun vibe, great location in South Beach by so many wonderful restaurants and I liked that I didn't feel like one of these huge resorts. We could always find chairs by the pool and it never felt crowded. Really, my biggest con would be that there were not enough hooks in the bathroom to hang various wet suits/towels. But otherwise, such a great experience. We would definitely come back. "
      ],
      "text/plain": [
       "<IPython.core.display.Markdown object>"
      ]
     },
     "metadata": {},
     "output_type": "display_data"
    },
    {
     "data": {
      "text/markdown": [
       "**Metadata:**"
      ],
      "text/plain": [
       "<IPython.core.display.Markdown object>"
      ]
     },
     "metadata": {},
     "output_type": "display_data"
    },
    {
     "data": {
      "text/markdown": [
       "- name: Sagamore Hotel"
      ],
      "text/plain": [
       "<IPython.core.display.Markdown object>"
      ]
     },
     "metadata": {},
     "output_type": "display_data"
    },
    {
     "data": {
      "text/markdown": [
       "- type: HOTEL"
      ],
      "text/plain": [
       "<IPython.core.display.Markdown object>"
      ]
     },
     "metadata": {},
     "output_type": "display_data"
    },
    {
     "data": {
      "text/markdown": [
       "- rating: 4.0"
      ],
      "text/plain": [
       "<IPython.core.display.Markdown object>"
      ]
     },
     "metadata": {},
     "output_type": "display_data"
    },
    {
     "data": {
      "text/markdown": [
       "- hotel_class: 4.0"
      ],
      "text/plain": [
       "<IPython.core.display.Markdown object>"
      ]
     },
     "metadata": {},
     "output_type": "display_data"
    },
    {
     "data": {
      "text/markdown": [
       "- price_level: $$$$"
      ],
      "text/plain": [
       "<IPython.core.display.Markdown object>"
      ]
     },
     "metadata": {},
     "output_type": "display_data"
    },
    {
     "data": {
      "text/markdown": [
       "- price_range: $243 - $447"
      ],
      "text/plain": [
       "<IPython.core.display.Markdown object>"
      ]
     },
     "metadata": {},
     "output_type": "display_data"
    },
    {
     "data": {
      "text/markdown": [
       "- address: 1671 Collins Ave, Miami Beach, FL 33139"
      ],
      "text/plain": [
       "<IPython.core.display.Markdown object>"
      ]
     },
     "metadata": {},
     "output_type": "display_data"
    },
    {
     "data": {
      "text/markdown": [
       "- amenities: []"
      ],
      "text/plain": [
       "<IPython.core.display.Markdown object>"
      ]
     },
     "metadata": {},
     "output_type": "display_data"
    },
    {
     "data": {
      "text/markdown": [
       "- review: We just returned from Sagamore Hotel after a wonderful 4 night stay with my two young children. The 2 story bungalow suite was perfect for our family so that we could have some space and also be right near the pool. It was a great size and clean. The staff was alll so friendly and accomodating. The hotel itself is a fun vibe, great location in South Beach by so many wonderful restaurants and I liked that I didn't feel like one of these huge resorts. We could always find chairs by the pool and it never felt crowded. Really, my biggest con would be that there were not enough hooks in the bathroom to hang various wet suits/towels. But otherwise, such a great experience. We would definitely come back. "
      ],
      "text/plain": [
       "<IPython.core.display.Markdown object>"
      ]
     },
     "metadata": {},
     "output_type": "display_data"
    },
    {
     "data": {
      "text/markdown": [
       "- number_of_reviews: 2933"
      ],
      "text/plain": [
       "<IPython.core.display.Markdown object>"
      ]
     },
     "metadata": {},
     "output_type": "display_data"
    },
    {
     "data": {
      "text/markdown": [
       "- ranking: #107 of 235 hotels in Miami Beach"
      ],
      "text/plain": [
       "<IPython.core.display.Markdown object>"
      ]
     },
     "metadata": {},
     "output_type": "display_data"
    },
    {
     "data": {
      "text/markdown": [
       "- phone: 13055749097"
      ],
      "text/plain": [
       "<IPython.core.display.Markdown object>"
      ]
     },
     "metadata": {},
     "output_type": "display_data"
    },
    {
     "data": {
      "text/markdown": [
       "- website: https://www.sagamoresouthbeach.com/"
      ],
      "text/plain": [
       "<IPython.core.display.Markdown object>"
      ]
     },
     "metadata": {},
     "output_type": "display_data"
    },
    {
     "data": {
      "text/markdown": [
       "---"
      ],
      "text/plain": [
       "<IPython.core.display.Markdown object>"
      ]
     },
     "metadata": {},
     "output_type": "display_data"
    }
   ],
   "source": [
    "# Search for family-friendly hotels\n",
    "search_hotels(\"family-friendly hotels with swimming pools and activities for kids\")"
   ]
  },
  {
   "cell_type": "markdown",
   "id": "827e7ddb",
   "metadata": {},
   "source": [
    "## Try Your Own Search\n",
    "\n",
    "Enter your own search query to find hotels that match your criteria."
   ]
  },
  {
   "cell_type": "code",
   "execution_count": 77,
   "id": "bcc6efe3",
   "metadata": {},
   "outputs": [
    {
     "name": "stderr",
     "output_type": "stream",
     "text": [
      "2025-05-06 01:09:10 - \u001b[92mINFO\u001b[0m - search took 0.15 seconds\n",
      "2025-05-06 01:09:12 - \u001b[91mERROR\u001b[0m - Error in search: DuckDuckGo search failed: https://html.duckduckgo.com/html 202 Ratelimit\n"
     ]
    },
    {
     "name": "stdout",
     "output_type": "stream",
     "text": [
      "Error with duckduckgo engine: DuckDuckGo search failed: https://html.duckduckgo.com/html 202 Ratelimit\n"
     ]
    },
    {
     "name": "stderr",
     "output_type": "stream",
     "text": [
      "2025-05-06 01:09:29 - \u001b[92mINFO\u001b[0m - search took 17.02 seconds\n",
      "2025-05-06 01:09:30 - \u001b[92mINFO\u001b[0m - search took 0.52 seconds\n"
     ]
    },
    {
     "data": {
      "text/markdown": [
       "### GENERIC Results"
      ],
      "text/plain": [
       "<IPython.core.display.Markdown object>"
      ]
     },
     "metadata": {},
     "output_type": "display_data"
    },
    {
     "data": {
      "text/markdown": [
       "#### 1. The Local House"
      ],
      "text/plain": [
       "<IPython.core.display.Markdown object>"
      ]
     },
     "metadata": {},
     "output_type": "display_data"
    },
    {
     "data": {
      "text/markdown": [
       "**Score:** 0.77"
      ],
      "text/plain": [
       "<IPython.core.display.Markdown object>"
      ]
     },
     "metadata": {},
     "output_type": "display_data"
    },
    {
     "data": {
      "text/markdown": [
       "**URL:** https://localhouse.com"
      ],
      "text/plain": [
       "<IPython.core.display.Markdown object>"
      ]
     },
     "metadata": {},
     "output_type": "display_data"
    },
    {
     "data": {
      "text/markdown": [
       "**Snippet:** Such a great location. Very comfortable beds. Friendly staff. The pool area though small was really pleasant. By booking directly we got free drinks and free breakfasts. I thought the food was quite good."
      ],
      "text/plain": [
       "<IPython.core.display.Markdown object>"
      ]
     },
     "metadata": {},
     "output_type": "display_data"
    },
    {
     "data": {
      "text/markdown": [
       "**Metadata:**"
      ],
      "text/plain": [
       "<IPython.core.display.Markdown object>"
      ]
     },
     "metadata": {},
     "output_type": "display_data"
    },
    {
     "data": {
      "text/markdown": [
       "- type: HOTEL"
      ],
      "text/plain": [
       "<IPython.core.display.Markdown object>"
      ]
     },
     "metadata": {},
     "output_type": "display_data"
    },
    {
     "data": {
      "text/markdown": [
       "- rating: 4.5"
      ],
      "text/plain": [
       "<IPython.core.display.Markdown object>"
      ]
     },
     "metadata": {},
     "output_type": "display_data"
    },
    {
     "data": {
      "text/markdown": [
       "- hotel_class: 3.0"
      ],
      "text/plain": [
       "<IPython.core.display.Markdown object>"
      ]
     },
     "metadata": {},
     "output_type": "display_data"
    },
    {
     "data": {
      "text/markdown": [
       "- price_level: $$$"
      ],
      "text/plain": [
       "<IPython.core.display.Markdown object>"
      ]
     },
     "metadata": {},
     "output_type": "display_data"
    },
    {
     "data": {
      "text/markdown": [
       "- price_range: $211 - $382"
      ],
      "text/plain": [
       "<IPython.core.display.Markdown object>"
      ]
     },
     "metadata": {},
     "output_type": "display_data"
    },
    {
     "data": {
      "text/markdown": [
       "- address: 400 Ocean Dr, Miami Beach, FL 33139-6614"
      ],
      "text/plain": [
       "<IPython.core.display.Markdown object>"
      ]
     },
     "metadata": {},
     "output_type": "display_data"
    },
    {
     "data": {
      "text/markdown": [
       "- amenities: []"
      ],
      "text/plain": [
       "<IPython.core.display.Markdown object>"
      ]
     },
     "metadata": {},
     "output_type": "display_data"
    },
    {
     "data": {
      "text/markdown": [
       "- number_of_reviews: 782"
      ],
      "text/plain": [
       "<IPython.core.display.Markdown object>"
      ]
     },
     "metadata": {},
     "output_type": "display_data"
    },
    {
     "data": {
      "text/markdown": [
       "- ranking: #46 of 235 hotels in Miami Beach"
      ],
      "text/plain": [
       "<IPython.core.display.Markdown object>"
      ]
     },
     "metadata": {},
     "output_type": "display_data"
    },
    {
     "data": {
      "text/markdown": [
       "- phone: 13055385529"
      ],
      "text/plain": [
       "<IPython.core.display.Markdown object>"
      ]
     },
     "metadata": {},
     "output_type": "display_data"
    },
    {
     "data": {
      "text/markdown": [
       "---"
      ],
      "text/plain": [
       "<IPython.core.display.Markdown object>"
      ]
     },
     "metadata": {},
     "output_type": "display_data"
    },
    {
     "data": {
      "text/markdown": [
       "#### 2. The Local House"
      ],
      "text/plain": [
       "<IPython.core.display.Markdown object>"
      ]
     },
     "metadata": {},
     "output_type": "display_data"
    },
    {
     "data": {
      "text/markdown": [
       "**Score:** 0.77"
      ],
      "text/plain": [
       "<IPython.core.display.Markdown object>"
      ]
     },
     "metadata": {},
     "output_type": "display_data"
    },
    {
     "data": {
      "text/markdown": [
       "**URL:** https://localhouse.com"
      ],
      "text/plain": [
       "<IPython.core.display.Markdown object>"
      ]
     },
     "metadata": {},
     "output_type": "display_data"
    },
    {
     "data": {
      "text/markdown": [
       "**Snippet:** Food is amazing here for Breakfast. Amazing Coffee.  Amazing Crab Cake Benedict or Seafood Scramble.  Really great ambience sitting outside. Service is also excellent but can be slow.  Went with 6 people and everything was great - I would strongly suggest getting anything with seafood and eggs."
      ],
      "text/plain": [
       "<IPython.core.display.Markdown object>"
      ]
     },
     "metadata": {},
     "output_type": "display_data"
    },
    {
     "data": {
      "text/markdown": [
       "**Metadata:**"
      ],
      "text/plain": [
       "<IPython.core.display.Markdown object>"
      ]
     },
     "metadata": {},
     "output_type": "display_data"
    },
    {
     "data": {
      "text/markdown": [
       "- type: HOTEL"
      ],
      "text/plain": [
       "<IPython.core.display.Markdown object>"
      ]
     },
     "metadata": {},
     "output_type": "display_data"
    },
    {
     "data": {
      "text/markdown": [
       "- rating: 4.5"
      ],
      "text/plain": [
       "<IPython.core.display.Markdown object>"
      ]
     },
     "metadata": {},
     "output_type": "display_data"
    },
    {
     "data": {
      "text/markdown": [
       "- hotel_class: 3.0"
      ],
      "text/plain": [
       "<IPython.core.display.Markdown object>"
      ]
     },
     "metadata": {},
     "output_type": "display_data"
    },
    {
     "data": {
      "text/markdown": [
       "- price_level: $$$"
      ],
      "text/plain": [
       "<IPython.core.display.Markdown object>"
      ]
     },
     "metadata": {},
     "output_type": "display_data"
    },
    {
     "data": {
      "text/markdown": [
       "- price_range: $211 - $382"
      ],
      "text/plain": [
       "<IPython.core.display.Markdown object>"
      ]
     },
     "metadata": {},
     "output_type": "display_data"
    },
    {
     "data": {
      "text/markdown": [
       "- address: 400 Ocean Dr, Miami Beach, FL 33139-6614"
      ],
      "text/plain": [
       "<IPython.core.display.Markdown object>"
      ]
     },
     "metadata": {},
     "output_type": "display_data"
    },
    {
     "data": {
      "text/markdown": [
       "- amenities: []"
      ],
      "text/plain": [
       "<IPython.core.display.Markdown object>"
      ]
     },
     "metadata": {},
     "output_type": "display_data"
    },
    {
     "data": {
      "text/markdown": [
       "- number_of_reviews: 782"
      ],
      "text/plain": [
       "<IPython.core.display.Markdown object>"
      ]
     },
     "metadata": {},
     "output_type": "display_data"
    },
    {
     "data": {
      "text/markdown": [
       "- ranking: #46 of 235 hotels in Miami Beach"
      ],
      "text/plain": [
       "<IPython.core.display.Markdown object>"
      ]
     },
     "metadata": {},
     "output_type": "display_data"
    },
    {
     "data": {
      "text/markdown": [
       "- phone: 13055385529"
      ],
      "text/plain": [
       "<IPython.core.display.Markdown object>"
      ]
     },
     "metadata": {},
     "output_type": "display_data"
    },
    {
     "data": {
      "text/markdown": [
       "---"
      ],
      "text/plain": [
       "<IPython.core.display.Markdown object>"
      ]
     },
     "metadata": {},
     "output_type": "display_data"
    },
    {
     "data": {
      "text/markdown": [
       "### TRAVERSAAL Results"
      ],
      "text/plain": [
       "<IPython.core.display.Markdown object>"
      ]
     },
     "metadata": {},
     "output_type": "display_data"
    },
    {
     "data": {
      "text/markdown": [
       "#### 1. Traversaal Search Results"
      ],
      "text/plain": [
       "<IPython.core.display.Markdown object>"
      ]
     },
     "metadata": {},
     "output_type": "display_data"
    },
    {
     "data": {
      "text/markdown": [
       "**Score:** 1.00"
      ],
      "text/plain": [
       "<IPython.core.display.Markdown object>"
      ]
     },
     "metadata": {},
     "output_type": "display_data"
    },
    {
     "data": {
      "text/markdown": [
       "**URL:** https://www.hotels.com/de1447930-am2048/free-breakfast-hotels-miami-beach-florida/"
      ],
      "text/plain": [
       "<IPython.core.display.Markdown object>"
      ]
     },
     "metadata": {},
     "output_type": "display_data"
    },
    {
     "data": {
      "text/markdown": [
       "**Snippet:** Here are some budget hotels near Miami Beach that offer free breakfast:\n",
       "\n",
       "1. **Hotel Continental Miami Beach, Tapestry Collection By Hilton**\n",
       "   - Location: Miami Beach, FL\n",
       "   - Offers complimentary breakfast.\n",
       "\n",
       "2. **Sherry Frontenac Oceanfront Hotel**\n",
       "   - Location: Miami Beach, FL\n",
       "   - Provides free breakfast for guests.\n",
       "\n",
       "3. **Beacon South Beach Hotel**\n",
       "   - Location: 720 Ocean Drive, Miami Beach, FL\n",
       "   - Includes free breakfast.\n",
       "\n",
       "4. **Daddy O Hotel**\n",
       "   - Location: Miami Beach, FL\n",
       "   - Offers complimentary breakfast.\n",
       "\n",
       "5. **The Landon**\n",
       "   - Location: Miami Beach, FL\n",
       "   - Provides free breakfast.\n",
       "\n",
       "6. **Hotel Breakwater South Beach**\n",
       "   - Location: Miami Beach, FL\n",
       "   - Includes complimentary breakfast.\n",
       "\n",
       "7. **Cavalier Hotel South Beach**\n",
       "   - Address: 1320 Ocean Dr., Miami Beach, FL 33139\n",
       "   - Offers free breakfast.\n",
       "\n",
       "8. **Beacon Hotel South Beach**\n",
       "   - Location: Miami Beach, FL\n",
       "   - Provides complimentary breakfast.\n",
       "\n",
       "9. **Leslie Hotel Ocean Drive**\n",
       "   - Location: Miami Beach, FL\n",
       "   - Offers free breakfast.\n",
       "\n",
       "10. **The Penguin Hotel**\n",
       "    - Location: Miami Beach, FL\n",
       "    - Includes complimentary breakfast.\n",
       "\n",
       "For more options and to compare prices, you can check the following links:\n",
       "- [Tripadvisor - Best Hotels with Free Breakfast in Miami Beach](https://www.tripadvisor.com/HotelsList-Miami_Beach-Hotels-With-Complimentary-Breakfast-zfp9949391.html)\n",
       "- [Hotels.com - Top Hotels with Free Breakfast in Miami Beach](https://www.hotels.com/de1447930-am2048/free-breakfast-hotels-miami-beach-florida/)\n",
       "- [Expedia - Hotels with Free Breakfast in South Beach](https://www.expedia.com/South-Beach-Miami-Hotels-Hotels-With-Complimentary-Breakfast.0-n6138745-0-tHotelswithComplimentaryBreakfast.Travel-Guide-Filter-Hotels)"
      ],
      "text/plain": [
       "<IPython.core.display.Markdown object>"
      ]
     },
     "metadata": {},
     "output_type": "display_data"
    },
    {
     "data": {
      "text/markdown": [
       "**Metadata:**"
      ],
      "text/plain": [
       "<IPython.core.display.Markdown object>"
      ]
     },
     "metadata": {},
     "output_type": "display_data"
    },
    {
     "data": {
      "text/markdown": [
       "- web_urls: ['https://www.hotels.com/de1447930-am2048/free-breakfast-hotels-miami-beach-florida/', 'https://travel.usnews.com/hotels/free-breakfast-miami_beach_fl/', 'https://www.expedia.com/South-Beach-Miami-Hotels-Hotels-With-Complimentary-Breakfast.0-n6138745-0-tHotelswithComplimentaryBreakfast.Travel-Guide-Filter-Hotels', 'https://www.hotelplanner.com/Hotels/2198-Free-Breakfast-Hotels-in-Miami-Beach-FL', 'https://hopper.com/hotels/us/florida/miami-beach', 'https://www.expedia.com/Miami-Beach-Hotels-Hotels-With-Complimentary-Breakfast.0-0-d8833-tHotelswithComplimentaryBreakfast.Travel-Guide-Filter-Hotels', 'https://www.orbitz.com/Miami-Beach-Hotels-Hotels-With-Complimentary-Breakfast.0-0-d8833-tHotelswithComplimentaryBreakfast.Travel-Guide-Filter-Hotels', 'https://www.booking.com/budget/city/us/miami-beach.html', 'https://www.kayak.com/Miami-Beach-Hotels_South-Beach.N213917.30651.hotel.ksp']"
      ],
      "text/plain": [
       "<IPython.core.display.Markdown object>"
      ]
     },
     "metadata": {},
     "output_type": "display_data"
    },
    {
     "data": {
      "text/markdown": [
       "- query: budget hotels near Miami Beach with free breakfast"
      ],
      "text/plain": [
       "<IPython.core.display.Markdown object>"
      ]
     },
     "metadata": {},
     "output_type": "display_data"
    },
    {
     "data": {
      "text/markdown": [
       "**Raw Response:**"
      ],
      "text/plain": [
       "<IPython.core.display.Markdown object>"
      ]
     },
     "metadata": {},
     "output_type": "display_data"
    },
    {
     "data": {
      "text/markdown": [
       "```json\n",
       "{\n",
       "  \"data\": {\n",
       "    \"response_text\": \"Here are some budget hotels near Miami Beach that offer free breakfast:\\n\\n1. **Hotel Continental Miami Beach, Tapestry Collection By Hilton**\\n   - Location: Miami Beach, FL\\n   - Offers complimentary breakfast.\\n\\n2. **Sherry Frontenac Oceanfront Hotel**\\n   - Location: Miami Beach, FL\\n   - Provides free breakfast for guests.\\n\\n3. **Beacon South Beach Hotel**\\n   - Location: 720 Ocean Drive, Miami Beach, FL\\n   - Includes free breakfast.\\n\\n4. **Daddy O Hotel**\\n   - Location: Miami Beach, FL\\n   - Offers complimentary breakfast.\\n\\n5. **The Landon**\\n   - Location: Miami Beach, FL\\n   - Provides free breakfast.\\n\\n6. **Hotel Breakwater South Beach**\\n   - Location: Miami Beach, FL\\n   - Includes complimentary breakfast.\\n\\n7. **Cavalier Hotel South Beach**\\n   - Address: 1320 Ocean Dr., Miami Beach, FL 33139\\n   - Offers free breakfast.\\n\\n8. **Beacon Hotel South Beach**\\n   - Location: Miami Beach, FL\\n   - Provides complimentary breakfast.\\n\\n9. **Leslie Hotel Ocean Drive**\\n   - Location: Miami Beach, FL\\n   - Offers free breakfast.\\n\\n10. **The Penguin Hotel**\\n    - Location: Miami Beach, FL\\n    - Includes complimentary breakfast.\\n\\nFor more options and to compare prices, you can check the following links:\\n- [Tripadvisor - Best Hotels with Free Breakfast in Miami Beach](https://www.tripadvisor.com/HotelsList-Miami_Beach-Hotels-With-Complimentary-Breakfast-zfp9949391.html)\\n- [Hotels.com - Top Hotels with Free Breakfast in Miami Beach](https://www.hotels.com/de1447930-am2048/free-breakfast-hotels-miami-beach-florida/)\\n- [Expedia - Hotels with Free Breakfast in South Beach](https://www.expedia.com/South-Beach-Miami-Hotels-Hotels-With-Complimentary-Breakfast.0-n6138745-0-tHotelswithComplimentaryBreakfast.Travel-Guide-Filter-Hotels)\",\n",
       "    \"web_url\": [\n",
       "      \"https://www.hotels.com/de1447930-am2048/free-breakfast-hotels-miami-beach-florida/\",\n",
       "      \"https://travel.usnews.com/hotels/free-breakfast-miami_beach_fl/\",\n",
       "      \"https://www.expedia.com/South-Beach-Miami-Hotels-Hotels-With-Complimentary-Breakfast.0-n6138745-0-tHotelswithComplimentaryBreakfast.Travel-Guide-Filter-Hotels\",\n",
       "      \"https://www.hotelplanner.com/Hotels/2198-Free-Breakfast-Hotels-in-Miami-Beach-FL\",\n",
       "      \"https://hopper.com/hotels/us/florida/miami-beach\",\n",
       "      \"https://www.expedia.com/Miami-Beach-Hotels-Hotels-With-Complimentary-Breakfast.0-0-d8833-tHotelswithComplimentaryBreakfast.Travel-Guide-Filter-Hotels\",\n",
       "      \"https://www.orbitz.com/Miami-Beach-Hotels-Hotels-With-Complimentary-Breakfast.0-0-d8833-tHotelswithComplimentaryBreakfast.Travel-Guide-Filter-Hotels\",\n",
       "      \"https://www.booking.com/budget/city/us/miami-beach.html\",\n",
       "      \"https://www.kayak.com/Miami-Beach-Hotels_South-Beach.N213917.30651.hotel.ksp\"\n",
       "    ]\n",
       "  }\n",
       "}\n",
       "```"
      ],
      "text/plain": [
       "<IPython.core.display.Markdown object>"
      ]
     },
     "metadata": {},
     "output_type": "display_data"
    },
    {
     "data": {
      "text/markdown": [
       "---"
      ],
      "text/plain": [
       "<IPython.core.display.Markdown object>"
      ]
     },
     "metadata": {},
     "output_type": "display_data"
    },
    {
     "data": {
      "text/markdown": [
       "### QDRANT Results"
      ],
      "text/plain": [
       "<IPython.core.display.Markdown object>"
      ]
     },
     "metadata": {},
     "output_type": "display_data"
    },
    {
     "data": {
      "text/markdown": [
       "#### 1. The Local House"
      ],
      "text/plain": [
       "<IPython.core.display.Markdown object>"
      ]
     },
     "metadata": {},
     "output_type": "display_data"
    },
    {
     "data": {
      "text/markdown": [
       "**Score:** 0.77"
      ],
      "text/plain": [
       "<IPython.core.display.Markdown object>"
      ]
     },
     "metadata": {},
     "output_type": "display_data"
    },
    {
     "data": {
      "text/markdown": [
       "**URL:** https://localhouse.com"
      ],
      "text/plain": [
       "<IPython.core.display.Markdown object>"
      ]
     },
     "metadata": {},
     "output_type": "display_data"
    },
    {
     "data": {
      "text/markdown": [
       "**Snippet:** Such a great location. Very comfortable beds. Friendly staff. The pool area though small was really pleasant. By booking directly we got free drinks and free breakfasts. I thought the food was quite good."
      ],
      "text/plain": [
       "<IPython.core.display.Markdown object>"
      ]
     },
     "metadata": {},
     "output_type": "display_data"
    },
    {
     "data": {
      "text/markdown": [
       "**Metadata:**"
      ],
      "text/plain": [
       "<IPython.core.display.Markdown object>"
      ]
     },
     "metadata": {},
     "output_type": "display_data"
    },
    {
     "data": {
      "text/markdown": [
       "- name: The Local House"
      ],
      "text/plain": [
       "<IPython.core.display.Markdown object>"
      ]
     },
     "metadata": {},
     "output_type": "display_data"
    },
    {
     "data": {
      "text/markdown": [
       "- type: HOTEL"
      ],
      "text/plain": [
       "<IPython.core.display.Markdown object>"
      ]
     },
     "metadata": {},
     "output_type": "display_data"
    },
    {
     "data": {
      "text/markdown": [
       "- rating: 4.5"
      ],
      "text/plain": [
       "<IPython.core.display.Markdown object>"
      ]
     },
     "metadata": {},
     "output_type": "display_data"
    },
    {
     "data": {
      "text/markdown": [
       "- hotel_class: 3.0"
      ],
      "text/plain": [
       "<IPython.core.display.Markdown object>"
      ]
     },
     "metadata": {},
     "output_type": "display_data"
    },
    {
     "data": {
      "text/markdown": [
       "- price_level: $$$"
      ],
      "text/plain": [
       "<IPython.core.display.Markdown object>"
      ]
     },
     "metadata": {},
     "output_type": "display_data"
    },
    {
     "data": {
      "text/markdown": [
       "- price_range: $211 - $382"
      ],
      "text/plain": [
       "<IPython.core.display.Markdown object>"
      ]
     },
     "metadata": {},
     "output_type": "display_data"
    },
    {
     "data": {
      "text/markdown": [
       "- address: 400 Ocean Dr, Miami Beach, FL 33139-6614"
      ],
      "text/plain": [
       "<IPython.core.display.Markdown object>"
      ]
     },
     "metadata": {},
     "output_type": "display_data"
    },
    {
     "data": {
      "text/markdown": [
       "- amenities: []"
      ],
      "text/plain": [
       "<IPython.core.display.Markdown object>"
      ]
     },
     "metadata": {},
     "output_type": "display_data"
    },
    {
     "data": {
      "text/markdown": [
       "- review: Such a great location. Very comfortable beds. Friendly staff. The pool area though small was really pleasant. By booking directly we got free drinks and free breakfasts. I thought the food was quite good."
      ],
      "text/plain": [
       "<IPython.core.display.Markdown object>"
      ]
     },
     "metadata": {},
     "output_type": "display_data"
    },
    {
     "data": {
      "text/markdown": [
       "- number_of_reviews: 782"
      ],
      "text/plain": [
       "<IPython.core.display.Markdown object>"
      ]
     },
     "metadata": {},
     "output_type": "display_data"
    },
    {
     "data": {
      "text/markdown": [
       "- ranking: #46 of 235 hotels in Miami Beach"
      ],
      "text/plain": [
       "<IPython.core.display.Markdown object>"
      ]
     },
     "metadata": {},
     "output_type": "display_data"
    },
    {
     "data": {
      "text/markdown": [
       "- phone: 13055385529"
      ],
      "text/plain": [
       "<IPython.core.display.Markdown object>"
      ]
     },
     "metadata": {},
     "output_type": "display_data"
    },
    {
     "data": {
      "text/markdown": [
       "- website: https://localhouse.com"
      ],
      "text/plain": [
       "<IPython.core.display.Markdown object>"
      ]
     },
     "metadata": {},
     "output_type": "display_data"
    },
    {
     "data": {
      "text/markdown": [
       "---"
      ],
      "text/plain": [
       "<IPython.core.display.Markdown object>"
      ]
     },
     "metadata": {},
     "output_type": "display_data"
    },
    {
     "data": {
      "text/markdown": [
       "#### 2. The Local House"
      ],
      "text/plain": [
       "<IPython.core.display.Markdown object>"
      ]
     },
     "metadata": {},
     "output_type": "display_data"
    },
    {
     "data": {
      "text/markdown": [
       "**Score:** 0.77"
      ],
      "text/plain": [
       "<IPython.core.display.Markdown object>"
      ]
     },
     "metadata": {},
     "output_type": "display_data"
    },
    {
     "data": {
      "text/markdown": [
       "**URL:** https://localhouse.com"
      ],
      "text/plain": [
       "<IPython.core.display.Markdown object>"
      ]
     },
     "metadata": {},
     "output_type": "display_data"
    },
    {
     "data": {
      "text/markdown": [
       "**Snippet:** Food is amazing here for Breakfast. Amazing Coffee.  Amazing Crab Cake Benedict or Seafood Scramble.  Really great ambience sitting outside. Service is also excellent but can be slow.  Went with 6 people and everything was great - I would strongly suggest getting anything with seafood and eggs."
      ],
      "text/plain": [
       "<IPython.core.display.Markdown object>"
      ]
     },
     "metadata": {},
     "output_type": "display_data"
    },
    {
     "data": {
      "text/markdown": [
       "**Metadata:**"
      ],
      "text/plain": [
       "<IPython.core.display.Markdown object>"
      ]
     },
     "metadata": {},
     "output_type": "display_data"
    },
    {
     "data": {
      "text/markdown": [
       "- name: The Local House"
      ],
      "text/plain": [
       "<IPython.core.display.Markdown object>"
      ]
     },
     "metadata": {},
     "output_type": "display_data"
    },
    {
     "data": {
      "text/markdown": [
       "- type: HOTEL"
      ],
      "text/plain": [
       "<IPython.core.display.Markdown object>"
      ]
     },
     "metadata": {},
     "output_type": "display_data"
    },
    {
     "data": {
      "text/markdown": [
       "- rating: 4.5"
      ],
      "text/plain": [
       "<IPython.core.display.Markdown object>"
      ]
     },
     "metadata": {},
     "output_type": "display_data"
    },
    {
     "data": {
      "text/markdown": [
       "- hotel_class: 3.0"
      ],
      "text/plain": [
       "<IPython.core.display.Markdown object>"
      ]
     },
     "metadata": {},
     "output_type": "display_data"
    },
    {
     "data": {
      "text/markdown": [
       "- price_level: $$$"
      ],
      "text/plain": [
       "<IPython.core.display.Markdown object>"
      ]
     },
     "metadata": {},
     "output_type": "display_data"
    },
    {
     "data": {
      "text/markdown": [
       "- price_range: $211 - $382"
      ],
      "text/plain": [
       "<IPython.core.display.Markdown object>"
      ]
     },
     "metadata": {},
     "output_type": "display_data"
    },
    {
     "data": {
      "text/markdown": [
       "- address: 400 Ocean Dr, Miami Beach, FL 33139-6614"
      ],
      "text/plain": [
       "<IPython.core.display.Markdown object>"
      ]
     },
     "metadata": {},
     "output_type": "display_data"
    },
    {
     "data": {
      "text/markdown": [
       "- amenities: []"
      ],
      "text/plain": [
       "<IPython.core.display.Markdown object>"
      ]
     },
     "metadata": {},
     "output_type": "display_data"
    },
    {
     "data": {
      "text/markdown": [
       "- review: Food is amazing here for Breakfast. Amazing Coffee.  Amazing Crab Cake Benedict or Seafood Scramble.  Really great ambience sitting outside. Service is also excellent but can be slow.  Went with 6 people and everything was great - I would strongly suggest getting anything with seafood and eggs."
      ],
      "text/plain": [
       "<IPython.core.display.Markdown object>"
      ]
     },
     "metadata": {},
     "output_type": "display_data"
    },
    {
     "data": {
      "text/markdown": [
       "- number_of_reviews: 782"
      ],
      "text/plain": [
       "<IPython.core.display.Markdown object>"
      ]
     },
     "metadata": {},
     "output_type": "display_data"
    },
    {
     "data": {
      "text/markdown": [
       "- ranking: #46 of 235 hotels in Miami Beach"
      ],
      "text/plain": [
       "<IPython.core.display.Markdown object>"
      ]
     },
     "metadata": {},
     "output_type": "display_data"
    },
    {
     "data": {
      "text/markdown": [
       "- phone: 13055385529"
      ],
      "text/plain": [
       "<IPython.core.display.Markdown object>"
      ]
     },
     "metadata": {},
     "output_type": "display_data"
    },
    {
     "data": {
      "text/markdown": [
       "- website: https://localhouse.com"
      ],
      "text/plain": [
       "<IPython.core.display.Markdown object>"
      ]
     },
     "metadata": {},
     "output_type": "display_data"
    },
    {
     "data": {
      "text/markdown": [
       "---"
      ],
      "text/plain": [
       "<IPython.core.display.Markdown object>"
      ]
     },
     "metadata": {},
     "output_type": "display_data"
    }
   ],
   "source": [
    "# Your search query\n",
    "query = \"budget hotels near Miami Beach with free breakfast\"\n",
    "search_hotels(query)"
   ]
  }
 ],
 "metadata": {
  "kernelspec": {
   "display_name": "Python 3",
   "language": "python",
   "name": "python3"
  },
  "language_info": {
   "codemirror_mode": {
    "name": "ipython",
    "version": 3
   },
   "file_extension": ".py",
   "mimetype": "text/x-python",
   "name": "python",
   "nbconvert_exporter": "python",
   "pygments_lexer": "ipython3",
   "version": "3.12.9"
  }
 },
 "nbformat": 4,
 "nbformat_minor": 5
}
